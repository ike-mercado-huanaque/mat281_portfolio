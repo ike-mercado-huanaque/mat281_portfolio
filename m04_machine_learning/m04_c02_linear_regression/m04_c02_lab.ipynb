{
 "cells": [
  {
   "cell_type": "markdown",
   "metadata": {
    "Collapsed": "false",
    "slideshow": {
     "slide_type": "slide"
    }
   },
   "source": [
    "<img src=\"https://upload.wikimedia.org/wikipedia/commons/4/47/Logo_UTFSM.png\" width=\"200\" alt=\"utfsm-logo\" align=\"left\"/>\n",
    "\n",
    "# MAT281\n",
    "### Aplicaciones de la Matemática en la Ingeniería"
   ]
  },
  {
   "cell_type": "markdown",
   "metadata": {
    "Collapsed": "false",
    "slideshow": {
     "slide_type": "slide"
    }
   },
   "source": [
    "## Módulo 04\n",
    "## Laboratorio Clase 02: Regresión Lineal"
   ]
  },
  {
   "cell_type": "markdown",
   "metadata": {
    "Collapsed": "false"
   },
   "source": [
    "### Instrucciones\n",
    "\n",
    "\n",
    "* Completa tus datos personales (nombre y rol USM) en siguiente celda.\n",
    "* La escala es de 0 a 4 considerando solo valores enteros.\n",
    "* Debes _pushear_ tus cambios a tu repositorio personal del curso.\n",
    "* Como respaldo, debes enviar un archivo .zip con el siguiente formato `mXX_cYY_lab_apellido_nombre.zip` a alonso.ogueda@gmail.com, debe contener todo lo necesario para que se ejecute correctamente cada celda, ya sea datos, imágenes, scripts, etc.\n",
    "* Se evaluará:\n",
    "    - Soluciones\n",
    "    - Código\n",
    "    - Que Binder esté bien configurado.\n",
    "    - Al presionar  `Kernel -> Restart Kernel and Run All Cells` deben ejecutarse todas las celdas sin error."
   ]
  },
  {
   "cell_type": "markdown",
   "metadata": {
    "Collapsed": "false"
   },
   "source": [
    "__Nombre__:\n",
    "\n",
    "__Rol__:"
   ]
  },
  {
   "cell_type": "code",
   "execution_count": 97,
   "metadata": {
    "Collapsed": "false"
   },
   "outputs": [],
   "source": [
    "import numpy as np\n",
    "import pandas as pd\n",
    "import matplotlib.pyplot as plt\n",
    "import altair as alt\n",
    "\n",
    "from sklearn import datasets, linear_model\n",
    "from sklearn.metrics import mean_squared_error, r2_score\n",
    "\n",
    "alt.themes.enable('opaque')\n",
    "%matplotlib inline"
   ]
  },
  {
   "cell_type": "markdown",
   "metadata": {
    "Collapsed": "false"
   },
   "source": [
    "## Ejercicio 1: Diabetes"
   ]
  },
  {
   "cell_type": "markdown",
   "metadata": {
    "Collapsed": "false"
   },
   "source": [
    "Realizar análisis de regresión a los datos de diabetes disponibles en scikit-learn"
   ]
  },
  {
   "cell_type": "code",
   "execution_count": 98,
   "metadata": {
    "Collapsed": "false"
   },
   "outputs": [
    {
     "name": "stdout",
     "output_type": "stream",
     "text": [
      "['DESCR', 'data', 'data_filename', 'feature_names', 'target', 'target_filename']\n"
     ]
    }
   ],
   "source": [
    "diabetes = datasets.load_diabetes()\n",
    "print(dir(diabetes))  ## Atributos"
   ]
  },
  {
   "cell_type": "code",
   "execution_count": 99,
   "metadata": {
    "Collapsed": "false"
   },
   "outputs": [
    {
     "name": "stdout",
     "output_type": "stream",
     "text": [
      ".. _diabetes_dataset:\n",
      "\n",
      "Diabetes dataset\n",
      "----------------\n",
      "\n",
      "Ten baseline variables, age, sex, body mass index, average blood\n",
      "pressure, and six blood serum measurements were obtained for each of n =\n",
      "442 diabetes patients, as well as the response of interest, a\n",
      "quantitative measure of disease progression one year after baseline.\n",
      "\n",
      "**Data Set Characteristics:**\n",
      "\n",
      "  :Number of Instances: 442\n",
      "\n",
      "  :Number of Attributes: First 10 columns are numeric predictive values\n",
      "\n",
      "  :Target: Column 11 is a quantitative measure of disease progression one year after baseline\n",
      "\n",
      "  :Attribute Information:\n",
      "      - Age\n",
      "      - Sex\n",
      "      - Body mass index\n",
      "      - Average blood pressure\n",
      "      - S1\n",
      "      - S2\n",
      "      - S3\n",
      "      - S4\n",
      "      - S5\n",
      "      - S6\n",
      "\n",
      "Note: Each of these 10 feature variables have been mean centered and scaled by the standard deviation times `n_samples` (i.e. the sum of squares of each column totals 1).\n",
      "\n",
      "Source URL:\n",
      "https://www4.stat.ncsu.edu/~boos/var.select/diabetes.html\n",
      "\n",
      "For more information see:\n",
      "Bradley Efron, Trevor Hastie, Iain Johnstone and Robert Tibshirani (2004) \"Least Angle Regression,\" Annals of Statistics (with discussion), 407-499.\n",
      "(https://web.stanford.edu/~hastie/Papers/LARS/LeastAngle_2002.pdf)\n"
     ]
    }
   ],
   "source": [
    "print(diabetes.DESCR)"
   ]
  },
  {
   "cell_type": "code",
   "execution_count": 100,
   "metadata": {
    "Collapsed": "false"
   },
   "outputs": [
    {
     "data": {
      "text/html": [
       "<div>\n",
       "<style scoped>\n",
       "    .dataframe tbody tr th:only-of-type {\n",
       "        vertical-align: middle;\n",
       "    }\n",
       "\n",
       "    .dataframe tbody tr th {\n",
       "        vertical-align: top;\n",
       "    }\n",
       "\n",
       "    .dataframe thead th {\n",
       "        text-align: right;\n",
       "    }\n",
       "</style>\n",
       "<table border=\"1\" class=\"dataframe\">\n",
       "  <thead>\n",
       "    <tr style=\"text-align: right;\">\n",
       "      <th></th>\n",
       "      <th>age</th>\n",
       "      <th>sex</th>\n",
       "      <th>bmi</th>\n",
       "      <th>bp</th>\n",
       "      <th>s1</th>\n",
       "      <th>s2</th>\n",
       "      <th>s3</th>\n",
       "      <th>s4</th>\n",
       "      <th>s5</th>\n",
       "      <th>s6</th>\n",
       "      <th>prog</th>\n",
       "    </tr>\n",
       "  </thead>\n",
       "  <tbody>\n",
       "    <tr>\n",
       "      <td>0</td>\n",
       "      <td>0.038076</td>\n",
       "      <td>0.050680</td>\n",
       "      <td>0.061696</td>\n",
       "      <td>0.021872</td>\n",
       "      <td>-0.044223</td>\n",
       "      <td>-0.034821</td>\n",
       "      <td>-0.043401</td>\n",
       "      <td>-0.002592</td>\n",
       "      <td>0.019908</td>\n",
       "      <td>-0.017646</td>\n",
       "      <td>151.0</td>\n",
       "    </tr>\n",
       "    <tr>\n",
       "      <td>1</td>\n",
       "      <td>-0.001882</td>\n",
       "      <td>-0.044642</td>\n",
       "      <td>-0.051474</td>\n",
       "      <td>-0.026328</td>\n",
       "      <td>-0.008449</td>\n",
       "      <td>-0.019163</td>\n",
       "      <td>0.074412</td>\n",
       "      <td>-0.039493</td>\n",
       "      <td>-0.068330</td>\n",
       "      <td>-0.092204</td>\n",
       "      <td>75.0</td>\n",
       "    </tr>\n",
       "    <tr>\n",
       "      <td>2</td>\n",
       "      <td>0.085299</td>\n",
       "      <td>0.050680</td>\n",
       "      <td>0.044451</td>\n",
       "      <td>-0.005671</td>\n",
       "      <td>-0.045599</td>\n",
       "      <td>-0.034194</td>\n",
       "      <td>-0.032356</td>\n",
       "      <td>-0.002592</td>\n",
       "      <td>0.002864</td>\n",
       "      <td>-0.025930</td>\n",
       "      <td>141.0</td>\n",
       "    </tr>\n",
       "    <tr>\n",
       "      <td>3</td>\n",
       "      <td>-0.089063</td>\n",
       "      <td>-0.044642</td>\n",
       "      <td>-0.011595</td>\n",
       "      <td>-0.036656</td>\n",
       "      <td>0.012191</td>\n",
       "      <td>0.024991</td>\n",
       "      <td>-0.036038</td>\n",
       "      <td>0.034309</td>\n",
       "      <td>0.022692</td>\n",
       "      <td>-0.009362</td>\n",
       "      <td>206.0</td>\n",
       "    </tr>\n",
       "    <tr>\n",
       "      <td>4</td>\n",
       "      <td>0.005383</td>\n",
       "      <td>-0.044642</td>\n",
       "      <td>-0.036385</td>\n",
       "      <td>0.021872</td>\n",
       "      <td>0.003935</td>\n",
       "      <td>0.015596</td>\n",
       "      <td>0.008142</td>\n",
       "      <td>-0.002592</td>\n",
       "      <td>-0.031991</td>\n",
       "      <td>-0.046641</td>\n",
       "      <td>135.0</td>\n",
       "    </tr>\n",
       "  </tbody>\n",
       "</table>\n",
       "</div>"
      ],
      "text/plain": [
       "        age       sex       bmi        bp        s1        s2        s3  \\\n",
       "0  0.038076  0.050680  0.061696  0.021872 -0.044223 -0.034821 -0.043401   \n",
       "1 -0.001882 -0.044642 -0.051474 -0.026328 -0.008449 -0.019163  0.074412   \n",
       "2  0.085299  0.050680  0.044451 -0.005671 -0.045599 -0.034194 -0.032356   \n",
       "3 -0.089063 -0.044642 -0.011595 -0.036656  0.012191  0.024991 -0.036038   \n",
       "4  0.005383 -0.044642 -0.036385  0.021872  0.003935  0.015596  0.008142   \n",
       "\n",
       "         s4        s5        s6   prog  \n",
       "0 -0.002592  0.019908 -0.017646  151.0  \n",
       "1 -0.039493 -0.068330 -0.092204   75.0  \n",
       "2 -0.002592  0.002864 -0.025930  141.0  \n",
       "3  0.034309  0.022692 -0.009362  206.0  \n",
       "4 -0.002592 -0.031991 -0.046641  135.0  "
      ]
     },
     "execution_count": 100,
     "metadata": {},
     "output_type": "execute_result"
    }
   ],
   "source": [
    "diabetes_df = (\n",
    "    pd.DataFrame(\n",
    "        diabetes.data,\n",
    "        columns=diabetes.feature_names\n",
    "    )\n",
    "    .assign(prog=diabetes.target)\n",
    ")\n",
    "\n",
    "diabetes_df.head()"
   ]
  },
  {
   "cell_type": "markdown",
   "metadata": {
    "Collapsed": "false"
   },
   "source": [
    "#### Pregunta 1 (1 pto):\n",
    "\n",
    "* ¿Por qué la columna de sexo tiene esos valores?\n",
    "* ¿Cuál es la columna a predecir?"
   ]
  },
  {
   "cell_type": "markdown",
   "metadata": {
    "Collapsed": "false"
   },
   "source": [
    "**---TU RESPUESTA VA AQUÍ--**"
   ]
  },
  {
   "cell_type": "markdown",
   "metadata": {},
   "source": [
    "1. Porque no es una variable cuantitiva y es necesario que tenga una representación \n",
    "numérica para poder predecir la variable respuesta.\n",
    "2. La columna a predecir es la columna 'prog'."
   ]
  },
  {
   "cell_type": "markdown",
   "metadata": {
    "Collapsed": "false"
   },
   "source": [
    "#### Pregunta 2 (1 pto)\n",
    "\n",
    "Realiza una regresión lineal con todas las _features_ incluyendo intercepto."
   ]
  },
  {
   "cell_type": "code",
   "execution_count": 101,
   "metadata": {
    "Collapsed": "false"
   },
   "outputs": [],
   "source": [
    "X = diabetes_df.drop(columns='prog').values\n",
    "y = diabetes_df['prog'].values"
   ]
  },
  {
   "cell_type": "markdown",
   "metadata": {
    "Collapsed": "false"
   },
   "source": [
    "Ajusta el modelo"
   ]
  },
  {
   "cell_type": "code",
   "execution_count": 102,
   "metadata": {
    "Collapsed": "false"
   },
   "outputs": [
    {
     "data": {
      "text/plain": [
       "LinearRegression(copy_X=True, fit_intercept=True, n_jobs=None, normalize=False)"
      ]
     },
     "execution_count": 102,
     "metadata": {},
     "output_type": "execute_result"
    }
   ],
   "source": [
    "regr = linear_model.LinearRegression(fit_intercept=True)\n",
    "regr.fit(X,y)"
   ]
  },
  {
   "cell_type": "markdown",
   "metadata": {
    "Collapsed": "false"
   },
   "source": [
    "Imprime el intercepto y los coeficientes luego de ajustar el modelo."
   ]
  },
  {
   "cell_type": "code",
   "execution_count": 103,
   "metadata": {
    "Collapsed": "false"
   },
   "outputs": [
    {
     "name": "stdout",
     "output_type": "stream",
     "text": [
      "Intercept: \n",
      "152.1334841628965\n",
      "\n",
      "Coefficients: \n",
      "[ -10.01219782 -239.81908937  519.83978679  324.39042769 -792.18416163\n",
      "  476.74583782  101.04457032  177.06417623  751.27932109   67.62538639]\n",
      "\n"
     ]
    }
   ],
   "source": [
    "print(f\"Intercept: \\n{regr.intercept_}\\n\")\n",
    "print(f\"Coefficients: \\n{regr.coef_}\\n\")"
   ]
  },
  {
   "cell_type": "markdown",
   "metadata": {
    "Collapsed": "false"
   },
   "source": [
    "Haz una predicción del modelo con los datos `X`."
   ]
  },
  {
   "cell_type": "code",
   "execution_count": 104,
   "metadata": {},
   "outputs": [],
   "source": [
    "y_pred = regr.predict(X)"
   ]
  },
  {
   "cell_type": "markdown",
   "metadata": {
    "Collapsed": "false"
   },
   "source": [
    "Calcula e imprime el error cuadrático medio y el coeficiente de determinación de este modelo ajustado."
   ]
  },
  {
   "cell_type": "code",
   "execution_count": 105,
   "metadata": {
    "Collapsed": "false"
   },
   "outputs": [
    {
     "name": "stdout",
     "output_type": "stream",
     "text": [
      "Mean squared error: 2859.69\n",
      "\n",
      "Coefficient of determination: 0.52\n"
     ]
    }
   ],
   "source": [
    "# Error cuadrático medio\n",
    "print(f\"Mean squared error: {mean_squared_error(y,y_pred):.2f}\\n\")\n",
    "\n",
    "# Coeficiente de determinación\n",
    "print(f\"Coefficient of determination: {r2_score(y,y_pred):.2f}\")"
   ]
  },
  {
   "cell_type": "markdown",
   "metadata": {
    "Collapsed": "false"
   },
   "source": [
    "**Pregunta: ¿Qué tan bueno fue el ajuste del modelo?**"
   ]
  },
  {
   "cell_type": "markdown",
   "metadata": {
    "Collapsed": "false"
   },
   "source": [
    "**---TU RESPUESTA VA AQUÍ--**"
   ]
  },
  {
   "cell_type": "markdown",
   "metadata": {},
   "source": [
    "El modelo no tiene muy buen ajuste, debido a que su coeficiente de determinacion no es cercano a 1."
   ]
  },
  {
   "cell_type": "markdown",
   "metadata": {
    "Collapsed": "false"
   },
   "source": [
    "### Pregunta 3 (2 ptos).\n",
    "\n",
    "Realizar multiples regresiones lineales utilizando una sola _feature_ a la vez. \n",
    "\n",
    "En cada iteración:\n",
    "\n",
    "- Crea un arreglo `X`con solo una feature filtrando `X`.\n",
    "- Crea un modelo de regresión lineal con intercepto.\n",
    "- Ajusta el modelo anterior.\n",
    "- Genera una predicción con el modelo.\n",
    "- Calcula e imprime las métricas de la pregunta anterior."
   ]
  },
  {
   "cell_type": "code",
   "execution_count": 106,
   "metadata": {
    "Collapsed": "false"
   },
   "outputs": [
    {
     "name": "stdout",
     "output_type": "stream",
     "text": [
      "age:\n",
      "\tCoefficients: [304.18307453]\n",
      "\tIntercept: 152.13348416289605\n",
      "\tMean squared error: 5720.55\n",
      "\tCoefficient of determination: 0.04\n",
      "\n",
      "sex:\n",
      "\tCoefficients: [69.71535568]\n",
      "\tIntercept: 152.13348416289594\n",
      "\tMean squared error: 5918.89\n",
      "\tCoefficient of determination: 0.00\n",
      "\n",
      "bmi:\n",
      "\tCoefficients: [949.43526038]\n",
      "\tIntercept: 152.1334841628967\n",
      "\tMean squared error: 3890.46\n",
      "\tCoefficient of determination: 0.34\n",
      "\n",
      "bp:\n",
      "\tCoefficients: [714.7416437]\n",
      "\tIntercept: 152.13348416289585\n",
      "\tMean squared error: 4774.10\n",
      "\tCoefficient of determination: 0.19\n",
      "\n",
      "s1:\n",
      "\tCoefficients: [343.25445189]\n",
      "\tIntercept: 152.13348416289597\n",
      "\tMean squared error: 5663.32\n",
      "\tCoefficient of determination: 0.04\n",
      "\n",
      "s2:\n",
      "\tCoefficients: [281.78459335]\n",
      "\tIntercept: 152.1334841628959\n",
      "\tMean squared error: 5750.24\n",
      "\tCoefficient of determination: 0.03\n",
      "\n",
      "s3:\n",
      "\tCoefficients: [-639.14527932]\n",
      "\tIntercept: 152.13348416289566\n",
      "\tMean squared error: 5005.66\n",
      "\tCoefficient of determination: 0.16\n",
      "\n",
      "s4:\n",
      "\tCoefficients: [696.88303009]\n",
      "\tIntercept: 152.13348416289568\n",
      "\tMean squared error: 4831.14\n",
      "\tCoefficient of determination: 0.19\n",
      "\n",
      "s5:\n",
      "\tCoefficients: [916.13872282]\n",
      "\tIntercept: 152.13348416289628\n",
      "\tMean squared error: 4030.99\n",
      "\tCoefficient of determination: 0.32\n",
      "\n",
      "s6:\n",
      "\tCoefficients: [619.22282068]\n",
      "\tIntercept: 152.13348416289614\n",
      "\tMean squared error: 5062.38\n",
      "\tCoefficient of determination: 0.15\n",
      "\n"
     ]
    }
   ],
   "source": [
    "for i in range(X.shape[1]):\n",
    "    X_i = X[:, np.newaxis, i]  # Protip! Trata de entender este paso por tu cuenta, es muy clever\n",
    "    regr_i = linear_model.LinearRegression(fit_intercept=True)\n",
    "    regr_i.fit(X_i,y)\n",
    "    y_pred_i = regr_i.predict(X_i)\n",
    "    print(f\"{diabetes_df.columns[i]}:\")\n",
    "    print(f\"\\tCoefficients: {regr_i.coef_}\")\n",
    "    print(f\"\\tIntercept: {regr_i.intercept_}\")\n",
    "    print(f\"\\tMean squared error: {mean_squared_error(y,y_pred_i):.2f}\")\n",
    "    print(f\"\\tCoefficient of determination: {r2_score(y,y_pred_i):.2f}\\n\")"
   ]
  },
  {
   "cell_type": "markdown",
   "metadata": {
    "Collapsed": "false"
   },
   "source": [
    "**Si tuvieras que escoger una sola _feauture_, ¿Cuál sería? ¿Por qué?**"
   ]
  },
  {
   "cell_type": "markdown",
   "metadata": {
    "Collapsed": "false"
   },
   "source": [
    "**---TU RESPUESTA VA AQUÍ--**"
   ]
  },
  {
   "cell_type": "markdown",
   "metadata": {},
   "source": [
    "Escogería la variable bmi, porque como se puede ver su coeficiente de relación es el más alto"
   ]
  },
  {
   "cell_type": "markdown",
   "metadata": {
    "Collapsed": "false"
   },
   "source": [
    "Con la feature escogida haz el siguiente gráfico:\n",
    "\n",
    "- Scatter Plot\n",
    "- Eje X: Valores de la feature escogida.\n",
    "- Eje Y: Valores de la columna a predecir (target).\n",
    "- En color rojo dibuja la recta correspondiente a la regresión lineal (utilizando `intercept_`y `coefs_`).\n",
    "- Coloca un título adecuado, nombre de los ejes, etc.\n",
    "\n",
    "Puedes utilizar `matplotlib` o `altair`, el que prefiera."
   ]
  },
  {
   "cell_type": "code",
   "execution_count": 107,
   "metadata": {
    "Collapsed": "false"
   },
   "outputs": [
    {
     "data": {
      "application/vnd.vegalite.v3+json": {
       "$schema": "https://vega.github.io/schema/vega-lite/v3.4.0.json",
       "config": {
        "background": "white",
        "mark": {
         "tooltip": null
        },
        "view": {
         "height": 300,
         "width": 400
        }
       },
       "datasets": {
        "data-2efe235ca86930d870ae57f8648c4055": [
         {
          "bmi": 0.0616962065186885,
          "prog": 151
         },
         {
          "bmi": -0.0514740612388061,
          "prog": 75
         },
         {
          "bmi": 0.0444512133365941,
          "prog": 141
         },
         {
          "bmi": -0.0115950145052127,
          "prog": 206
         },
         {
          "bmi": -0.0363846922044735,
          "prog": 135
         },
         {
          "bmi": -0.0406959404999971,
          "prog": 97
         },
         {
          "bmi": -0.0471628129432825,
          "prog": 138
         },
         {
          "bmi": -0.00189470584028465,
          "prog": 63
         },
         {
          "bmi": 0.0616962065186885,
          "prog": 110
         },
         {
          "bmi": 0.0390621529671896,
          "prog": 310
         },
         {
          "bmi": -0.0838084234552331,
          "prog": 101
         },
         {
          "bmi": 0.0175059114895716,
          "prog": 69
         },
         {
          "bmi": -0.0288400076873072,
          "prog": 179
         },
         {
          "bmi": -0.00189470584028465,
          "prog": 185
         },
         {
          "bmi": -0.0256065714656645,
          "prog": 118
         },
         {
          "bmi": -0.0180618869484982,
          "prog": 171
         },
         {
          "bmi": 0.0422955891888323,
          "prog": 166
         },
         {
          "bmi": 0.0121168511201671,
          "prog": 144
         },
         {
          "bmi": -0.0105172024313319,
          "prog": 97
         },
         {
          "bmi": -0.0180618869484982,
          "prog": 168
         },
         {
          "bmi": -0.0568631216082106,
          "prog": 68
         },
         {
          "bmi": -0.0223731352440218,
          "prog": 49
         },
         {
          "bmi": -0.00405032998804645,
          "prog": 68
         },
         {
          "bmi": 0.0606183944448076,
          "prog": 245
         },
         {
          "bmi": 0.0358287167455469,
          "prog": 184
         },
         {
          "bmi": -0.0126728265790937,
          "prog": 202
         },
         {
          "bmi": -0.0773415510119477,
          "prog": 137
         },
         {
          "bmi": 0.0595405823709267,
          "prog": 85
         },
         {
          "bmi": -0.0212953231701409,
          "prog": 131
         },
         {
          "bmi": -0.00620595413580824,
          "prog": 283
         },
         {
          "bmi": 0.0444512133365941,
          "prog": 129
         },
         {
          "bmi": -0.0654856181992578,
          "prog": 59
         },
         {
          "bmi": 0.125287118877662,
          "prog": 341
         },
         {
          "bmi": -0.0503962491649252,
          "prog": 87
         },
         {
          "bmi": -0.063329994051496,
          "prog": 65
         },
         {
          "bmi": -0.030995631835069,
          "prog": 102
         },
         {
          "bmi": 0.0228949718589761,
          "prog": 265
         },
         {
          "bmi": 0.0110390390462862,
          "prog": 276
         },
         {
          "bmi": 0.0713965151836166,
          "prog": 252
         },
         {
          "bmi": 0.0142724752679289,
          "prog": 90
         },
         {
          "bmi": -0.00836157828357004,
          "prog": 100
         },
         {
          "bmi": -0.0676412423470196,
          "prog": 55
         },
         {
          "bmi": -0.0105172024313319,
          "prog": 61
         },
         {
          "bmi": -0.0234509473179027,
          "prog": 92
         },
         {
          "bmi": 0.068163078961974,
          "prog": 259
         },
         {
          "bmi": -0.0353068801305926,
          "prog": 53
         },
         {
          "bmi": -0.0115950145052127,
          "prog": 190
         },
         {
          "bmi": -0.0730303027164241,
          "prog": 142
         },
         {
          "bmi": -0.041773752573878,
          "prog": 75
         },
         {
          "bmi": 0.0142724752679289,
          "prog": 142
         },
         {
          "bmi": -0.00728376620968916,
          "prog": 155
         },
         {
          "bmi": 0.0164280994156907,
          "prog": 225
         },
         {
          "bmi": -0.00943939035745095,
          "prog": 59
         },
         {
          "bmi": -0.0159062628007364,
          "prog": 104
         },
         {
          "bmi": 0.0250505960067379,
          "prog": 182
         },
         {
          "bmi": -0.0493184370910443,
          "prog": 128
         },
         {
          "bmi": 0.0412177771149514,
          "prog": 52
         },
         {
          "bmi": -0.063329994051496,
          "prog": 37
         },
         {
          "bmi": -0.064407806125377,
          "prog": 170
         },
         {
          "bmi": -0.0256065714656645,
          "prog": 170
         },
         {
          "bmi": -0.00405032998804645,
          "prog": 61
         },
         {
          "bmi": 0.00457216660300077,
          "prog": 144
         },
         {
          "bmi": -0.00728376620968916,
          "prog": 52
         },
         {
          "bmi": -0.0374625042783544,
          "prog": 128
         },
         {
          "bmi": -0.0256065714656645,
          "prog": 71
         },
         {
          "bmi": -0.0245287593917836,
          "prog": 163
         },
         {
          "bmi": -0.0180618869484982,
          "prog": 150
         },
         {
          "bmi": -0.0148284507268555,
          "prog": 97
         },
         {
          "bmi": -0.0299178197611881,
          "prog": 160
         },
         {
          "bmi": -0.0460850008694016,
          "prog": 178
         },
         {
          "bmi": -0.0697968664947814,
          "prog": 48
         },
         {
          "bmi": 0.0336730925977851,
          "prog": 270
         },
         {
          "bmi": -0.00405032998804645,
          "prog": 202
         },
         {
          "bmi": -0.02021751109626,
          "prog": 111
         },
         {
          "bmi": 0.00241654245523897,
          "prog": 85
         },
         {
          "bmi": -0.030995631835069,
          "prog": 42
         },
         {
          "bmi": 0.0282840322283806,
          "prog": 170
         },
         {
          "bmi": -0.0363846922044735,
          "prog": 200
         },
         {
          "bmi": -0.0579409336820915,
          "prog": 252
         },
         {
          "bmi": -0.0374625042783544,
          "prog": 113
         },
         {
          "bmi": 0.0121168511201671,
          "prog": 143
         },
         {
          "bmi": -0.0223731352440218,
          "prog": 51
         },
         {
          "bmi": -0.0353068801305926,
          "prog": 52
         },
         {
          "bmi": 0.00996122697240527,
          "prog": 210
         },
         {
          "bmi": -0.0396181284261162,
          "prog": 65
         },
         {
          "bmi": 0.0713965151836166,
          "prog": 141
         },
         {
          "bmi": -0.0751859268641859,
          "prog": 55
         },
         {
          "bmi": -0.00620595413580824,
          "prog": 134
         },
         {
          "bmi": -0.0406959404999971,
          "prog": 42
         },
         {
          "bmi": -0.0482406250171634,
          "prog": 111
         },
         {
          "bmi": -0.0256065714656645,
          "prog": 98
         },
         {
          "bmi": 0.0519958978537604,
          "prog": 164
         },
         {
          "bmi": 0.00457216660300077,
          "prog": 48
         },
         {
          "bmi": -0.064407806125377,
          "prog": 96
         },
         {
          "bmi": -0.0169840748746173,
          "prog": 90
         },
         {
          "bmi": -0.0579409336820915,
          "prog": 162
         },
         {
          "bmi": 0.00996122697240527,
          "prog": 150
         },
         {
          "bmi": 0.088641508365711,
          "prog": 279
         },
         {
          "bmi": -0.00512814206192736,
          "prog": 92
         },
         {
          "bmi": -0.064407806125377,
          "prog": 83
         },
         {
          "bmi": 0.0175059114895716,
          "prog": 128
         },
         {
          "bmi": -0.0450071887955207,
          "prog": 102
         },
         {
          "bmi": 0.0282840322283806,
          "prog": 302
         },
         {
          "bmi": 0.0412177771149514,
          "prog": 198
         },
         {
          "bmi": 0.0649296427403312,
          "prog": 95
         },
         {
          "bmi": -0.0320734439089499,
          "prog": 53
         },
         {
          "bmi": -0.0762637389380668,
          "prog": 134
         },
         {
          "bmi": 0.0498402737059986,
          "prog": 144
         },
         {
          "bmi": 0.045529025410475,
          "prog": 232
         },
         {
          "bmi": -0.00943939035745095,
          "prog": 81
         },
         {
          "bmi": -0.0320734439089499,
          "prog": 104
         },
         {
          "bmi": 0.00457216660300077,
          "prog": 59
         },
         {
          "bmi": 0.0207393477112143,
          "prog": 246
         },
         {
          "bmi": 0.0142724752679289,
          "prog": 297
         },
         {
          "bmi": 0.110197749843329,
          "prog": 258
         },
         {
          "bmi": 0.00133873038135806,
          "prog": 229
         },
         {
          "bmi": 0.0584627702970458,
          "prog": 275
         },
         {
          "bmi": -0.0212953231701409,
          "prog": 281
         },
         {
          "bmi": -0.0105172024313319,
          "prog": 179
         },
         {
          "bmi": -0.0471628129432825,
          "prog": 200
         },
         {
          "bmi": 0.00457216660300077,
          "prog": 200
         },
         {
          "bmi": 0.0175059114895716,
          "prog": 173
         },
         {
          "bmi": 0.0810968238485447,
          "prog": 180
         },
         {
          "bmi": 0.034750904671666,
          "prog": 84
         },
         {
          "bmi": 0.023972783932857,
          "prog": 121
         },
         {
          "bmi": -0.00836157828357004,
          "prog": 161
         },
         {
          "bmi": -0.0611743699037342,
          "prog": 99
         },
         {
          "bmi": -0.00189470584028465,
          "prog": 109
         },
         {
          "bmi": -0.0622521819776151,
          "prog": 115
         },
         {
          "bmi": 0.0164280994156907,
          "prog": 268
         },
         {
          "bmi": 0.0961861928828773,
          "prog": 274
         },
         {
          "bmi": -0.0697968664947814,
          "prog": 158
         },
         {
          "bmi": -0.0212953231701409,
          "prog": 107
         },
         {
          "bmi": -0.0536296853865679,
          "prog": 83
         },
         {
          "bmi": 0.0433734012627132,
          "prog": 103
         },
         {
          "bmi": 0.056307146149284,
          "prog": 272
         },
         {
          "bmi": -0.0816527993074713,
          "prog": 85
         },
         {
          "bmi": 0.0498402737059986,
          "prog": 280
         },
         {
          "bmi": 0.11127556191721,
          "prog": 336
         },
         {
          "bmi": 0.0616962065186885,
          "prog": 281
         },
         {
          "bmi": 0.0142724752679289,
          "prog": 118
         },
         {
          "bmi": 0.0476846495582368,
          "prog": 317
         },
         {
          "bmi": 0.0121168511201671,
          "prog": 235
         },
         {
          "bmi": 0.00564997867688165,
          "prog": 60
         },
         {
          "bmi": 0.0466068374843559,
          "prog": 174
         },
         {
          "bmi": 0.128520555099304,
          "prog": 259
         },
         {
          "bmi": 0.0595405823709267,
          "prog": 178
         },
         {
          "bmi": 0.0929527566612346,
          "prog": 128
         },
         {
          "bmi": 0.0153502873418098,
          "prog": 96
         },
         {
          "bmi": -0.00512814206192736,
          "prog": 126
         },
         {
          "bmi": 0.0703187031097357,
          "prog": 288
         },
         {
          "bmi": -0.00405032998804645,
          "prog": 88
         },
         {
          "bmi": -0.000816893766403737,
          "prog": 292
         },
         {
          "bmi": -0.0439293767216398,
          "prog": 71
         },
         {
          "bmi": 0.0207393477112143,
          "prog": 197
         },
         {
          "bmi": 0.0606183944448076,
          "prog": 186
         },
         {
          "bmi": -0.0105172024313319,
          "prog": 25
         },
         {
          "bmi": -0.0331512559828308,
          "prog": 84
         },
         {
          "bmi": -0.0654856181992578,
          "prog": 96
         },
         {
          "bmi": 0.0433734012627132,
          "prog": 195
         },
         {
          "bmi": -0.0622521819776151,
          "prog": 53
         },
         {
          "bmi": 0.0638518306664503,
          "prog": 217
         },
         {
          "bmi": 0.0304396563761424,
          "prog": 172
         },
         {
          "bmi": 0.0724743272574975,
          "prog": 131
         },
         {
          "bmi": -0.019139699022379,
          "prog": 214
         },
         {
          "bmi": -0.0665634302731387,
          "prog": 59
         },
         {
          "bmi": -0.0600965578298533,
          "prog": 70
         },
         {
          "bmi": 0.0692408910358548,
          "prog": 220
         },
         {
          "bmi": 0.0595405823709267,
          "prog": 268
         },
         {
          "bmi": -0.0266843835395454,
          "prog": 152
         },
         {
          "bmi": -0.02021751109626,
          "prog": 47
         },
         {
          "bmi": -0.0460850008694016,
          "prog": 74
         },
         {
          "bmi": 0.0713965151836166,
          "prog": 295
         },
         {
          "bmi": -0.0794971751597095,
          "prog": 101
         },
         {
          "bmi": 0.00996122697240527,
          "prog": 151
         },
         {
          "bmi": -0.0385403163522353,
          "prog": 127
         },
         {
          "bmi": 0.0196615356373334,
          "prog": 237
         },
         {
          "bmi": 0.0272062201544997,
          "prog": 225
         },
         {
          "bmi": -0.00836157828357004,
          "prog": 81
         },
         {
          "bmi": -0.0159062628007364,
          "prog": 151
         },
         {
          "bmi": 0.00457216660300077,
          "prog": 107
         },
         {
          "bmi": -0.0428515646477589,
          "prog": 64
         },
         {
          "bmi": 0.00564997867688165,
          "prog": 138
         },
         {
          "bmi": -0.0353068801305926,
          "prog": 185
         },
         {
          "bmi": 0.023972783932857,
          "prog": 265
         },
         {
          "bmi": -0.0180618869484982,
          "prog": 101
         },
         {
          "bmi": 0.0422955891888323,
          "prog": 137
         },
         {
          "bmi": -0.0547074974604488,
          "prog": 143
         },
         {
          "bmi": -0.00297251791416553,
          "prog": 141
         },
         {
          "bmi": -0.0665634302731387,
          "prog": 79
         },
         {
          "bmi": -0.0126728265790937,
          "prog": 292
         },
         {
          "bmi": -0.041773752573878,
          "prog": 178
         },
         {
          "bmi": -0.030995631835069,
          "prog": 91
         },
         {
          "bmi": -0.00512814206192736,
          "prog": 116
         },
         {
          "bmi": -0.0590187457559724,
          "prog": 86
         },
         {
          "bmi": 0.0250505960067379,
          "prog": 122
         },
         {
          "bmi": -0.0460850008694016,
          "prog": 72
         },
         {
          "bmi": 0.00349435452911985,
          "prog": 129
         },
         {
          "bmi": 0.0541515220015222,
          "prog": 142
         },
         {
          "bmi": -0.0450071887955207,
          "prog": 90
         },
         {
          "bmi": -0.0579409336820915,
          "prog": 158
         },
         {
          "bmi": -0.0557853095343297,
          "prog": 39
         },
         {
          "bmi": 0.00133873038135806,
          "prog": 196
         },
         {
          "bmi": 0.0304396563761424,
          "prog": 222
         },
         {
          "bmi": 0.00672779075076256,
          "prog": 277
         },
         {
          "bmi": 0.0466068374843559,
          "prog": 99
         },
         {
          "bmi": 0.0261284080806188,
          "prog": 196
         },
         {
          "bmi": 0.045529025410475,
          "prog": 202
         },
         {
          "bmi": 0.0401399650410705,
          "prog": 155
         },
         {
          "bmi": -0.0180618869484982,
          "prog": 77
         },
         {
          "bmi": 0.0142724752679289,
          "prog": 191
         },
         {
          "bmi": 0.0369065288194278,
          "prog": 70
         },
         {
          "bmi": 0.00349435452911985,
          "prog": 73
         },
         {
          "bmi": -0.0708746785686623,
          "prog": 49
         },
         {
          "bmi": -0.0331512559828308,
          "prog": 65
         },
         {
          "bmi": 0.0940305687351156,
          "prog": 263
         },
         {
          "bmi": 0.0358287167455469,
          "prog": 248
         },
         {
          "bmi": 0.0315174684500233,
          "prog": 296
         },
         {
          "bmi": -0.0654856181992578,
          "prog": 214
         },
         {
          "bmi": -0.041773752573878,
          "prog": 185
         },
         {
          "bmi": -0.0396181284261162,
          "prog": 78
         },
         {
          "bmi": -0.0385403163522353,
          "prog": 93
         },
         {
          "bmi": -0.0256065714656645,
          "prog": 252
         },
         {
          "bmi": -0.0234509473179027,
          "prog": 150
         },
         {
          "bmi": -0.0665634302731387,
          "prog": 77
         },
         {
          "bmi": 0.0325952805239042,
          "prog": 208
         },
         {
          "bmi": -0.0460850008694016,
          "prog": 77
         },
         {
          "bmi": -0.0299178197611881,
          "prog": 108
         },
         {
          "bmi": -0.0126728265790937,
          "prog": 160
         },
         {
          "bmi": -0.0159062628007364,
          "prog": 53
         },
         {
          "bmi": 0.0713965151836166,
          "prog": 220
         },
         {
          "bmi": -0.030995631835069,
          "prog": 154
         },
         {
          "bmi": 0.000260918307477141,
          "prog": 259
         },
         {
          "bmi": 0.0369065288194278,
          "prog": 90
         },
         {
          "bmi": 0.0390621529671896,
          "prog": 246
         },
         {
          "bmi": -0.0148284507268555,
          "prog": 124
         },
         {
          "bmi": 0.00672779075076256,
          "prog": 67
         },
         {
          "bmi": -0.0687190544209005,
          "prog": 72
         },
         {
          "bmi": -0.00943939035745095,
          "prog": 257
         },
         {
          "bmi": 0.0196615356373334,
          "prog": 262
         },
         {
          "bmi": 0.0746299514052593,
          "prog": 275
         },
         {
          "bmi": -0.00836157828357004,
          "prog": 177
         },
         {
          "bmi": -0.0234509473179027,
          "prog": 71
         },
         {
          "bmi": -0.0460850008694016,
          "prog": 47
         },
         {
          "bmi": 0.0541515220015222,
          "prog": 187
         },
         {
          "bmi": -0.0353068801305926,
          "prog": 125
         },
         {
          "bmi": -0.0320734439089499,
          "prog": 78
         },
         {
          "bmi": -0.0816527993074713,
          "prog": 51
         },
         {
          "bmi": 0.0476846495582368,
          "prog": 258
         },
         {
          "bmi": 0.0606183944448076,
          "prog": 215
         },
         {
          "bmi": 0.056307146149284,
          "prog": 303
         },
         {
          "bmi": 0.098341817030639,
          "prog": 243
         },
         {
          "bmi": 0.0595405823709267,
          "prog": 91
         },
         {
          "bmi": 0.0336730925977851,
          "prog": 150
         },
         {
          "bmi": 0.056307146149284,
          "prog": 310
         },
         {
          "bmi": -0.0654856181992578,
          "prog": 153
         },
         {
          "bmi": 0.160854917315731,
          "prog": 346
         },
         {
          "bmi": -0.0557853095343297,
          "prog": 63
         },
         {
          "bmi": -0.0245287593917836,
          "prog": 89
         },
         {
          "bmi": -0.0363846922044735,
          "prog": 50
         },
         {
          "bmi": -0.00836157828357004,
          "prog": 39
         },
         {
          "bmi": -0.041773752573878,
          "prog": 103
         },
         {
          "bmi": 0.127442743025423,
          "prog": 308
         },
         {
          "bmi": -0.0773415510119477,
          "prog": 116
         },
         {
          "bmi": 0.0282840322283806,
          "prog": 145
         },
         {
          "bmi": -0.0256065714656645,
          "prog": 74
         },
         {
          "bmi": -0.0622521819776151,
          "prog": 45
         },
         {
          "bmi": -0.000816893766403737,
          "prog": 115
         },
         {
          "bmi": 0.088641508365711,
          "prog": 264
         },
         {
          "bmi": -0.0320734439089499,
          "prog": 87
         },
         {
          "bmi": 0.0304396563761424,
          "prog": 202
         },
         {
          "bmi": 0.00888341489852436,
          "prog": 127
         },
         {
          "bmi": 0.00672779075076256,
          "prog": 182
         },
         {
          "bmi": -0.02021751109626,
          "prog": 241
         },
         {
          "bmi": -0.0245287593917836,
          "prog": 66
         },
         {
          "bmi": -0.0115950145052127,
          "prog": 94
         },
         {
          "bmi": 0.0261284080806188,
          "prog": 283
         },
         {
          "bmi": -0.0590187457559724,
          "prog": 64
         },
         {
          "bmi": -0.0363846922044735,
          "prog": 102
         },
         {
          "bmi": -0.0245287593917836,
          "prog": 200
         },
         {
          "bmi": 0.0185837235634525,
          "prog": 265
         },
         {
          "bmi": -0.0902752958985185,
          "prog": 94
         },
         {
          "bmi": -0.00512814206192736,
          "prog": 230
         },
         {
          "bmi": -0.052551873312687,
          "prog": 181
         },
         {
          "bmi": -0.0223731352440218,
          "prog": 156
         },
         {
          "bmi": -0.02021751109626,
          "prog": 233
         },
         {
          "bmi": -0.0547074974604488,
          "prog": 60
         },
         {
          "bmi": -0.00620595413580824,
          "prog": 219
         },
         {
          "bmi": -0.0169840748746173,
          "prog": 80
         },
         {
          "bmi": 0.0552293340754031,
          "prog": 68
         },
         {
          "bmi": 0.0767855755530211,
          "prog": 332
         },
         {
          "bmi": 0.0185837235634525,
          "prog": 248
         },
         {
          "bmi": -0.0223731352440218,
          "prog": 84
         },
         {
          "bmi": 0.0929527566612346,
          "prog": 200
         },
         {
          "bmi": -0.030995631835069,
          "prog": 55
         },
         {
          "bmi": 0.0390621529671896,
          "prog": 85
         },
         {
          "bmi": -0.0611743699037342,
          "prog": 89
         },
         {
          "bmi": -0.00836157828357004,
          "prog": 31
         },
         {
          "bmi": -0.0374625042783544,
          "prog": 129
         },
         {
          "bmi": -0.0137506386529745,
          "prog": 83
         },
         {
          "bmi": 0.0735521393313785,
          "prog": 275
         },
         {
          "bmi": -0.0245287593917836,
          "prog": 65
         },
         {
          "bmi": 0.0336730925977851,
          "prog": 198
         },
         {
          "bmi": 0.034750904671666,
          "prog": 236
         },
         {
          "bmi": -0.0385403163522353,
          "prog": 253
         },
         {
          "bmi": -0.0396181284261162,
          "prog": 124
         },
         {
          "bmi": -0.00189470584028465,
          "prog": 44
         },
         {
          "bmi": -0.030995631835069,
          "prog": 172
         },
         {
          "bmi": -0.0460850008694016,
          "prog": 114
         },
         {
          "bmi": 0.00133873038135806,
          "prog": 142
         },
         {
          "bmi": 0.0649296427403312,
          "prog": 109
         },
         {
          "bmi": 0.0401399650410705,
          "prog": 180
         },
         {
          "bmi": -0.0234509473179027,
          "prog": 144
         },
         {
          "bmi": 0.0530737099276413,
          "prog": 163
         },
         {
          "bmi": 0.0401399650410705,
          "prog": 147
         },
         {
          "bmi": -0.02021751109626,
          "prog": 97
         },
         {
          "bmi": 0.0142724752679289,
          "prog": 220
         },
         {
          "bmi": -0.0342290680567117,
          "prog": 190
         },
         {
          "bmi": 0.00672779075076256,
          "prog": 109
         },
         {
          "bmi": 0.00457216660300077,
          "prog": 191
         },
         {
          "bmi": 0.0304396563761424,
          "prog": 122
         },
         {
          "bmi": 0.0519958978537604,
          "prog": 230
         },
         {
          "bmi": 0.0616962065186885,
          "prog": 242
         },
         {
          "bmi": -0.00728376620968916,
          "prog": 248
         },
         {
          "bmi": 0.00564997867688165,
          "prog": 249
         },
         {
          "bmi": 0.0541515220015222,
          "prog": 192
         },
         {
          "bmi": -0.00836157828357004,
          "prog": 131
         },
         {
          "bmi": 0.114508998138853,
          "prog": 237
         },
         {
          "bmi": 0.067085266888093,
          "prog": 78
         },
         {
          "bmi": -0.0557853095343297,
          "prog": 135
         },
         {
          "bmi": 0.0304396563761424,
          "prog": 244
         },
         {
          "bmi": -0.0256065714656645,
          "prog": 199
         },
         {
          "bmi": 0.104808689473925,
          "prog": 270
         },
         {
          "bmi": -0.00620595413580824,
          "prog": 164
         },
         {
          "bmi": -0.0471628129432825,
          "prog": 72
         },
         {
          "bmi": -0.0482406250171634,
          "prog": 96
         },
         {
          "bmi": 0.0854080721440683,
          "prog": 306
         },
         {
          "bmi": -0.0126728265790937,
          "prog": 91
         },
         {
          "bmi": -0.0331512559828308,
          "prog": 214
         },
         {
          "bmi": -0.00728376620968916,
          "prog": 95
         },
         {
          "bmi": -0.0137506386529745,
          "prog": 216
         },
         {
          "bmi": 0.0595405823709267,
          "prog": 263
         },
         {
          "bmi": 0.0218171597850952,
          "prog": 178
         },
         {
          "bmi": 0.0185837235634525,
          "prog": 113
         },
         {
          "bmi": -0.0115950145052127,
          "prog": 200
         },
         {
          "bmi": -0.00297251791416553,
          "prog": 139
         },
         {
          "bmi": 0.0175059114895716,
          "prog": 139
         },
         {
          "bmi": -0.0299178197611881,
          "prog": 88
         },
         {
          "bmi": -0.02021751109626,
          "prog": 148
         },
         {
          "bmi": -0.0579409336820915,
          "prog": 88
         },
         {
          "bmi": 0.0606183944448076,
          "prog": 243
         },
         {
          "bmi": -0.0406959404999971,
          "prog": 71
         },
         {
          "bmi": -0.0719524906425432,
          "prog": 77
         },
         {
          "bmi": -0.0557853095343297,
          "prog": 109
         },
         {
          "bmi": 0.045529025410475,
          "prog": 272
         },
         {
          "bmi": -0.00943939035745095,
          "prog": 60
         },
         {
          "bmi": -0.0331512559828308,
          "prog": 54
         },
         {
          "bmi": 0.0498402737059986,
          "prog": 221
         },
         {
          "bmi": -0.084886235529114,
          "prog": 90
         },
         {
          "bmi": 0.00564997867688165,
          "prog": 311
         },
         {
          "bmi": 0.0207393477112143,
          "prog": 281
         },
         {
          "bmi": -0.00728376620968916,
          "prog": 182
         },
         {
          "bmi": 0.104808689473925,
          "prog": 321
         },
         {
          "bmi": -0.0245287593917836,
          "prog": 58
         },
         {
          "bmi": -0.00620595413580824,
          "prog": 262
         },
         {
          "bmi": -0.0385403163522353,
          "prog": 206
         },
         {
          "bmi": 0.137143051690352,
          "prog": 233
         },
         {
          "bmi": 0.17055522598066,
          "prog": 242
         },
         {
          "bmi": 0.00241654245523897,
          "prog": 123
         },
         {
          "bmi": 0.0379843408933087,
          "prog": 167
         },
         {
          "bmi": -0.0579409336820915,
          "prog": 63
         },
         {
          "bmi": -0.00943939035745095,
          "prog": 197
         },
         {
          "bmi": -0.0234509473179027,
          "prog": 71
         },
         {
          "bmi": -0.0105172024313319,
          "prog": 168
         },
         {
          "bmi": -0.0342290680567117,
          "prog": 140
         },
         {
          "bmi": -0.00297251791416553,
          "prog": 217
         },
         {
          "bmi": 0.068163078961974,
          "prog": 121
         },
         {
          "bmi": 0.00996122697240527,
          "prog": 235
         },
         {
          "bmi": 0.00241654245523897,
          "prog": 245
         },
         {
          "bmi": -0.0385403163522353,
          "prog": 40
         },
         {
          "bmi": 0.0261284080806188,
          "prog": 52
         },
         {
          "bmi": -0.0891974838246376,
          "prog": 104
         },
         {
          "bmi": 0.0606183944448076,
          "prog": 132
         },
         {
          "bmi": -0.0288400076873072,
          "prog": 88
         },
         {
          "bmi": -0.0299178197611881,
          "prog": 69
         },
         {
          "bmi": -0.019139699022379,
          "prog": 219
         },
         {
          "bmi": -0.0406959404999971,
          "prog": 72
         },
         {
          "bmi": 0.0153502873418098,
          "prog": 201
         },
         {
          "bmi": -0.0245287593917836,
          "prog": 110
         },
         {
          "bmi": 0.00133873038135806,
          "prog": 51
         },
         {
          "bmi": 0.0692408910358548,
          "prog": 277
         },
         {
          "bmi": -0.0697968664947814,
          "prog": 63
         },
         {
          "bmi": -0.0299178197611881,
          "prog": 118
         },
         {
          "bmi": -0.0460850008694016,
          "prog": 69
         },
         {
          "bmi": 0.0185837235634525,
          "prog": 273
         },
         {
          "bmi": 0.00133873038135806,
          "prog": 258
         },
         {
          "bmi": -0.030995631835069,
          "prog": 43
         },
         {
          "bmi": -0.00405032998804645,
          "prog": 198
         },
         {
          "bmi": 0.0153502873418098,
          "prog": 242
         },
         {
          "bmi": 0.0228949718589761,
          "prog": 232
         },
         {
          "bmi": 0.045529025410475,
          "prog": 175
         },
         {
          "bmi": -0.0450071887955207,
          "prog": 93
         },
         {
          "bmi": -0.0331512559828308,
          "prog": 168
         },
         {
          "bmi": 0.0972640049567582,
          "prog": 275
         },
         {
          "bmi": 0.0541515220015222,
          "prog": 293
         },
         {
          "bmi": 0.1231314947299,
          "prog": 281
         },
         {
          "bmi": -0.0805749872335904,
          "prog": 72
         },
         {
          "bmi": 0.0929527566612346,
          "prog": 140
         },
         {
          "bmi": -0.0503962491649252,
          "prog": 189
         },
         {
          "bmi": -0.0115950145052127,
          "prog": 181
         },
         {
          "bmi": -0.0277621956134263,
          "prog": 209
         },
         {
          "bmi": 0.0584627702970458,
          "prog": 136
         },
         {
          "bmi": 0.0854080721440683,
          "prog": 261
         },
         {
          "bmi": -0.000816893766403737,
          "prog": 113
         },
         {
          "bmi": 0.00672779075076256,
          "prog": 131
         },
         {
          "bmi": 0.00888341489852436,
          "prog": 174
         },
         {
          "bmi": 0.0800190117746638,
          "prog": 257
         },
         {
          "bmi": 0.0713965151836166,
          "prog": 55
         },
         {
          "bmi": -0.0245287593917836,
          "prog": 84
         },
         {
          "bmi": -0.0547074974604488,
          "prog": 42
         },
         {
          "bmi": -0.0363846922044735,
          "prog": 146
         },
         {
          "bmi": 0.0164280994156907,
          "prog": 212
         },
         {
          "bmi": 0.077863387626902,
          "prog": 233
         },
         {
          "bmi": -0.0396181284261162,
          "prog": 91
         },
         {
          "bmi": 0.0110390390462862,
          "prog": 111
         },
         {
          "bmi": -0.0406959404999971,
          "prog": 152
         },
         {
          "bmi": -0.0342290680567117,
          "prog": 120
         },
         {
          "bmi": 0.00564997867688165,
          "prog": 67
         },
         {
          "bmi": 0.088641508365711,
          "prog": 310
         },
         {
          "bmi": -0.0331512559828308,
          "prog": 94
         },
         {
          "bmi": -0.0568631216082106,
          "prog": 183
         },
         {
          "bmi": -0.030995631835069,
          "prog": 66
         },
         {
          "bmi": 0.0552293340754031,
          "prog": 173
         },
         {
          "bmi": -0.0600965578298533,
          "prog": 72
         },
         {
          "bmi": 0.00133873038135806,
          "prog": 49
         },
         {
          "bmi": -0.0234509473179027,
          "prog": 64
         },
         {
          "bmi": -0.074108114790305,
          "prog": 48
         },
         {
          "bmi": 0.0196615356373334,
          "prog": 178
         },
         {
          "bmi": -0.0159062628007364,
          "prog": 104
         },
         {
          "bmi": -0.0159062628007364,
          "prog": 132
         },
         {
          "bmi": 0.0390621529671896,
          "prog": 220
         },
         {
          "bmi": -0.0730303027164241,
          "prog": 57
         }
        ],
        "data-4412326ddbb2144179f23e22e6396fd8": [
         {
          "bmi": 0.0616962065186885,
          "prog": 151,
          "regress": 210.71003806366963
         },
         {
          "bmi": -0.0514740612388061,
          "prog": 75,
          "regress": 103.26219542761149
         },
         {
          "bmi": 0.0444512133365941,
          "prog": 141,
          "regress": 194.3370334715084
         },
         {
          "bmi": -0.0115950145052127,
          "prog": 206,
          "regress": 141.12476854698443
         },
         {
          "bmi": -0.0363846922044735,
          "prog": 135,
          "regress": 117.58857444575257
         },
         {
          "bmi": -0.0406959404999971,
          "prog": 97,
          "regress": 113.49532329771226
         },
         {
          "bmi": -0.0471628129432825,
          "prog": 138,
          "regress": 107.3554465756518
         },
         {
          "bmi": -0.00189470584028465,
          "prog": 63,
          "regress": 150.33458363007506
         },
         {
          "bmi": 0.0616962065186885,
          "prog": 110,
          "regress": 210.71003806366963
         },
         {
          "bmi": 0.0390621529671896,
          "prog": 310,
          "regress": 189.220469536458
         },
         {
          "bmi": -0.0838084234552331,
          "prog": 101,
          "regress": 72.56281181730921
         },
         {
          "bmi": 0.0175059114895716,
          "prog": 69,
          "regress": 168.7542137962565
         },
         {
          "bmi": -0.0288400076873072,
          "prog": 179,
          "regress": 124.7517639548231
         },
         {
          "bmi": -0.00189470584028465,
          "prog": 185,
          "regress": 150.33458363007506
         },
         {
          "bmi": -0.0256065714656645,
          "prog": 118,
          "regress": 127.82170231585333
         },
         {
          "bmi": -0.0180618869484982,
          "prog": 171,
          "regress": 134.98489182492386
         },
         {
          "bmi": 0.0422955891888323,
          "prog": 166,
          "regress": 192.29040789748825
         },
         {
          "bmi": 0.0121168511201671,
          "prog": 144,
          "regress": 163.6376498612061
         },
         {
          "bmi": -0.0105172024313319,
          "prog": 97,
          "regress": 142.1480813339944
         },
         {
          "bmi": -0.0180618869484982,
          "prog": 168,
          "regress": 134.98489182492386
         },
         {
          "bmi": -0.0568631216082106,
          "prog": 68,
          "regress": 98.14563149256111
         },
         {
          "bmi": -0.0223731352440218,
          "prog": 49,
          "regress": 130.89164067688355
         },
         {
          "bmi": -0.00405032998804645,
          "prog": 68,
          "regress": 148.28795805605492
         },
         {
          "bmi": 0.0606183944448076,
          "prog": 245,
          "regress": 209.68672527665956
         },
         {
          "bmi": 0.0358287167455469,
          "prog": 184,
          "regress": 186.15053117542777
         },
         {
          "bmi": -0.0126728265790937,
          "prog": 202,
          "regress": 140.10145575997424
         },
         {
          "bmi": -0.0773415510119477,
          "prog": 137,
          "regress": 78.70268853936966
         },
         {
          "bmi": 0.0595405823709267,
          "prog": 85,
          "regress": 208.66341248964946
         },
         {
          "bmi": -0.0212953231701409,
          "prog": 131,
          "regress": 131.91495346389365
         },
         {
          "bmi": -0.00620595413580824,
          "prog": 283,
          "regress": 146.24133248203478
         },
         {
          "bmi": 0.0444512133365941,
          "prog": 129,
          "regress": 194.3370334715084
         },
         {
          "bmi": -0.0654856181992578,
          "prog": 59,
          "regress": 89.9591291964805
         },
         {
          "bmi": 0.125287118877662,
          "prog": 341,
          "regress": 271.0854924972645
         },
         {
          "bmi": -0.0503962491649252,
          "prog": 87,
          "regress": 104.28550821462157
         },
         {
          "bmi": -0.063329994051496,
          "prog": 65,
          "regress": 92.00575477050066
         },
         {
          "bmi": -0.030995631835069,
          "prog": 102,
          "regress": 122.70513838080295
         },
         {
          "bmi": 0.0228949718589761,
          "prog": 265,
          "regress": 173.87077773130687
         },
         {
          "bmi": 0.0110390390462862,
          "prog": 276,
          "regress": 162.61433707419602
         },
         {
          "bmi": 0.0713965151836166,
          "prog": 252,
          "regress": 219.91985314676032
         },
         {
          "bmi": 0.0142724752679289,
          "prog": 90,
          "regress": 165.68427543522625
         },
         {
          "bmi": -0.00836157828357004,
          "prog": 100,
          "regress": 144.1947069080146
         },
         {
          "bmi": -0.0676412423470196,
          "prog": 55,
          "regress": 87.91250362246035
         },
         {
          "bmi": -0.0105172024313319,
          "prog": 61,
          "regress": 142.1480813339944
         },
         {
          "bmi": -0.0234509473179027,
          "prog": 92,
          "regress": 129.86832788987348
         },
         {
          "bmi": 0.068163078961974,
          "prog": 259,
          "regress": 216.84991478573016
         },
         {
          "bmi": -0.0353068801305926,
          "prog": 53,
          "regress": 118.61188723276265
         },
         {
          "bmi": -0.0115950145052127,
          "prog": 190,
          "regress": 141.12476854698443
         },
         {
          "bmi": -0.0730303027164241,
          "prog": 142,
          "regress": 82.79593968740997
         },
         {
          "bmi": -0.041773752573878,
          "prog": 75,
          "regress": 112.47201051070218
         },
         {
          "bmi": 0.0142724752679289,
          "prog": 142,
          "regress": 165.68427543522625
         },
         {
          "bmi": -0.00728376620968916,
          "prog": 155,
          "regress": 145.21801969502468
         },
         {
          "bmi": 0.0164280994156907,
          "prog": 225,
          "regress": 167.7309010092464
         },
         {
          "bmi": -0.00943939035745095,
          "prog": 59,
          "regress": 143.17139412100454
         },
         {
          "bmi": -0.0159062628007364,
          "prog": 104,
          "regress": 137.031517398944
         },
         {
          "bmi": 0.0250505960067379,
          "prog": 182,
          "regress": 175.917403305327
         },
         {
          "bmi": -0.0493184370910443,
          "prog": 128,
          "regress": 105.30882100163166
         },
         {
          "bmi": 0.0412177771149514,
          "prog": 52,
          "regress": 191.26709511047818
         },
         {
          "bmi": -0.063329994051496,
          "prog": 37,
          "regress": 92.00575477050066
         },
         {
          "bmi": -0.064407806125377,
          "prog": 170,
          "regress": 90.98244198349049
         },
         {
          "bmi": -0.0256065714656645,
          "prog": 170,
          "regress": 127.82170231585333
         },
         {
          "bmi": -0.00405032998804645,
          "prog": 61,
          "regress": 148.28795805605492
         },
         {
          "bmi": 0.00457216660300077,
          "prog": 144,
          "regress": 156.47446035213554
         },
         {
          "bmi": -0.00728376620968916,
          "prog": 52,
          "regress": 145.21801969502468
         },
         {
          "bmi": -0.0374625042783544,
          "prog": 128,
          "regress": 116.56526165874249
         },
         {
          "bmi": -0.0256065714656645,
          "prog": 71,
          "regress": 127.82170231585333
         },
         {
          "bmi": -0.0245287593917836,
          "prog": 163,
          "regress": 128.8450151028634
         },
         {
          "bmi": -0.0180618869484982,
          "prog": 150,
          "regress": 134.98489182492386
         },
         {
          "bmi": -0.0148284507268555,
          "prog": 97,
          "regress": 138.0548301859541
         },
         {
          "bmi": -0.0299178197611881,
          "prog": 160,
          "regress": 123.72845116781303
         },
         {
          "bmi": -0.0460850008694016,
          "prog": 178,
          "regress": 108.37875936266188
         },
         {
          "bmi": -0.0697968664947814,
          "prog": 48,
          "regress": 85.86587804844021
         },
         {
          "bmi": 0.0336730925977851,
          "prog": 270,
          "regress": 184.10390560140763
         },
         {
          "bmi": -0.00405032998804645,
          "prog": 202,
          "regress": 148.28795805605492
         },
         {
          "bmi": -0.02021751109626,
          "prog": 111,
          "regress": 132.93826625090372
         },
         {
          "bmi": 0.00241654245523897,
          "prog": 85,
          "regress": 154.4278347781154
         },
         {
          "bmi": -0.030995631835069,
          "prog": 42,
          "regress": 122.70513838080295
         },
         {
          "bmi": 0.0282840322283806,
          "prog": 170,
          "regress": 178.98734166635725
         },
         {
          "bmi": -0.0363846922044735,
          "prog": 200,
          "regress": 117.58857444575257
         },
         {
          "bmi": -0.0579409336820915,
          "prog": 252,
          "regress": 97.12231870555104
         },
         {
          "bmi": -0.0374625042783544,
          "prog": 113,
          "regress": 116.56526165874249
         },
         {
          "bmi": 0.0121168511201671,
          "prog": 143,
          "regress": 163.6376498612061
         },
         {
          "bmi": -0.0223731352440218,
          "prog": 51,
          "regress": 130.89164067688355
         },
         {
          "bmi": -0.0353068801305926,
          "prog": 52,
          "regress": 118.61188723276265
         },
         {
          "bmi": 0.00996122697240527,
          "prog": 210,
          "regress": 161.59102428718592
         },
         {
          "bmi": -0.0396181284261162,
          "prog": 65,
          "regress": 114.51863608472235
         },
         {
          "bmi": 0.0713965151836166,
          "prog": 141,
          "regress": 219.91985314676032
         },
         {
          "bmi": -0.0751859268641859,
          "prog": 55,
          "regress": 80.74931411338981
         },
         {
          "bmi": -0.00620595413580824,
          "prog": 134,
          "regress": 146.24133248203478
         },
         {
          "bmi": -0.0406959404999971,
          "prog": 42,
          "regress": 113.49532329771226
         },
         {
          "bmi": -0.0482406250171634,
          "prog": 111,
          "regress": 106.33213378864173
         },
         {
          "bmi": -0.0256065714656645,
          "prog": 98,
          "regress": 127.82170231585333
         },
         {
          "bmi": 0.0519958978537604,
          "prog": 164,
          "regress": 201.50022298057894
         },
         {
          "bmi": 0.00457216660300077,
          "prog": 48,
          "regress": 156.47446035213554
         },
         {
          "bmi": -0.064407806125377,
          "prog": 96,
          "regress": 90.98244198349049
         },
         {
          "bmi": -0.0169840748746173,
          "prog": 90,
          "regress": 136.00820461193393
         },
         {
          "bmi": -0.0579409336820915,
          "prog": 162,
          "regress": 97.12231870555104
         },
         {
          "bmi": 0.00996122697240527,
          "prog": 150,
          "regress": 161.59102428718592
         },
         {
          "bmi": 0.088641508365711,
          "prog": 279,
          "regress": 236.29285773892153
         },
         {
          "bmi": -0.00512814206192736,
          "prog": 92,
          "regress": 147.26464526904482
         },
         {
          "bmi": -0.064407806125377,
          "prog": 83,
          "regress": 90.98244198349049
         },
         {
          "bmi": 0.0175059114895716,
          "prog": 128,
          "regress": 168.7542137962565
         },
         {
          "bmi": -0.0450071887955207,
          "prog": 102,
          "regress": 109.40207214967195
         },
         {
          "bmi": 0.0282840322283806,
          "prog": 302,
          "regress": 178.98734166635725
         },
         {
          "bmi": 0.0412177771149514,
          "prog": 198,
          "regress": 191.26709511047818
         },
         {
          "bmi": 0.0649296427403312,
          "prog": 95,
          "regress": 213.77997642469984
         },
         {
          "bmi": -0.0320734439089499,
          "prog": 53,
          "regress": 121.68182559379287
         },
         {
          "bmi": -0.0762637389380668,
          "prog": 134,
          "regress": 79.72600132637973
         },
         {
          "bmi": 0.0498402737059986,
          "prog": 144,
          "regress": 199.45359740655877
         },
         {
          "bmi": 0.045529025410475,
          "prog": 232,
          "regress": 195.36034625851846
         },
         {
          "bmi": -0.00943939035745095,
          "prog": 81,
          "regress": 143.17139412100454
         },
         {
          "bmi": -0.0320734439089499,
          "prog": 104,
          "regress": 121.68182559379287
         },
         {
          "bmi": 0.00457216660300077,
          "prog": 59,
          "regress": 156.47446035213554
         },
         {
          "bmi": 0.0207393477112143,
          "prog": 246,
          "regress": 171.8241521572867
         },
         {
          "bmi": 0.0142724752679289,
          "prog": 297,
          "regress": 165.68427543522625
         },
         {
          "bmi": 0.110197749843329,
          "prog": 258,
          "regress": 256.7591134791231
         },
         {
          "bmi": 0.00133873038135806,
          "prog": 229,
          "regress": 153.4045219911053
         },
         {
          "bmi": 0.0584627702970458,
          "prog": 275,
          "regress": 207.6400997026394
         },
         {
          "bmi": -0.0212953231701409,
          "prog": 281,
          "regress": 131.91495346389365
         },
         {
          "bmi": -0.0105172024313319,
          "prog": 179,
          "regress": 142.1480813339944
         },
         {
          "bmi": -0.0471628129432825,
          "prog": 200,
          "regress": 107.3554465756518
         },
         {
          "bmi": 0.00457216660300077,
          "prog": 200,
          "regress": 156.47446035213554
         },
         {
          "bmi": 0.0175059114895716,
          "prog": 173,
          "regress": 168.7542137962565
         },
         {
          "bmi": 0.0810968238485447,
          "prog": 180,
          "regress": 229.129668229851
         },
         {
          "bmi": 0.034750904671666,
          "prog": 84,
          "regress": 185.1272183884177
         },
         {
          "bmi": 0.023972783932857,
          "prog": 121,
          "regress": 174.89409051831694
         },
         {
          "bmi": -0.00836157828357004,
          "prog": 161,
          "regress": 144.1947069080146
         },
         {
          "bmi": -0.0611743699037342,
          "prog": 99,
          "regress": 94.05238034452081
         },
         {
          "bmi": -0.00189470584028465,
          "prog": 109,
          "regress": 150.33458363007506
         },
         {
          "bmi": -0.0622521819776151,
          "prog": 115,
          "regress": 93.02906755751073
         },
         {
          "bmi": 0.0164280994156907,
          "prog": 268,
          "regress": 167.7309010092464
         },
         {
          "bmi": 0.0961861928828773,
          "prog": 274,
          "regress": 243.45604724799207
         },
         {
          "bmi": -0.0697968664947814,
          "prog": 158,
          "regress": 85.86587804844021
         },
         {
          "bmi": -0.0212953231701409,
          "prog": 107,
          "regress": 131.91495346389365
         },
         {
          "bmi": -0.0536296853865679,
          "prog": 83,
          "regress": 101.21556985359135
         },
         {
          "bmi": 0.0433734012627132,
          "prog": 103,
          "regress": 193.31372068449832
         },
         {
          "bmi": 0.056307146149284,
          "prog": 272,
          "regress": 205.59347412861922
         },
         {
          "bmi": -0.0816527993074713,
          "prog": 85,
          "regress": 74.60943739132937
         },
         {
          "bmi": 0.0498402737059986,
          "prog": 280,
          "regress": 199.45359740655877
         },
         {
          "bmi": 0.11127556191721,
          "prog": 336,
          "regress": 257.78242626613326
         },
         {
          "bmi": 0.0616962065186885,
          "prog": 281,
          "regress": 210.71003806366963
         },
         {
          "bmi": 0.0142724752679289,
          "prog": 118,
          "regress": 165.68427543522625
         },
         {
          "bmi": 0.0476846495582368,
          "prog": 317,
          "regress": 197.40697183253863
         },
         {
          "bmi": 0.0121168511201671,
          "prog": 235,
          "regress": 163.6376498612061
         },
         {
          "bmi": 0.00564997867688165,
          "prog": 60,
          "regress": 157.4977731391456
         },
         {
          "bmi": 0.0466068374843559,
          "prog": 174,
          "regress": 196.38365904552853
         },
         {
          "bmi": 0.128520555099304,
          "prog": 259,
          "regress": 274.15543085829404
         },
         {
          "bmi": 0.0595405823709267,
          "prog": 178,
          "regress": 208.66341248964946
         },
         {
          "bmi": 0.0929527566612346,
          "prog": 128,
          "regress": 240.38610888696184
         },
         {
          "bmi": 0.0153502873418098,
          "prog": 96,
          "regress": 166.70758822223632
         },
         {
          "bmi": -0.00512814206192736,
          "prog": 126,
          "regress": 147.26464526904482
         },
         {
          "bmi": 0.0703187031097357,
          "prog": 288,
          "regress": 218.89654035975025
         },
         {
          "bmi": -0.00405032998804645,
          "prog": 88,
          "regress": 148.28795805605492
         },
         {
          "bmi": -0.000816893766403737,
          "prog": 292,
          "regress": 151.35789641708516
         },
         {
          "bmi": -0.0439293767216398,
          "prog": 71,
          "regress": 110.42538493668204
         },
         {
          "bmi": 0.0207393477112143,
          "prog": 197,
          "regress": 171.8241521572867
         },
         {
          "bmi": 0.0606183944448076,
          "prog": 186,
          "regress": 209.68672527665956
         },
         {
          "bmi": -0.0105172024313319,
          "prog": 25,
          "regress": 142.1480813339944
         },
         {
          "bmi": -0.0331512559828308,
          "prog": 84,
          "regress": 120.6585128067828
         },
         {
          "bmi": -0.0654856181992578,
          "prog": 96,
          "regress": 89.9591291964805
         },
         {
          "bmi": 0.0433734012627132,
          "prog": 195,
          "regress": 193.31372068449832
         },
         {
          "bmi": -0.0622521819776151,
          "prog": 53,
          "regress": 93.02906755751073
         },
         {
          "bmi": 0.0638518306664503,
          "prog": 217,
          "regress": 212.75666363768977
         },
         {
          "bmi": 0.0304396563761424,
          "prog": 172,
          "regress": 181.0339672403774
         },
         {
          "bmi": 0.0724743272574975,
          "prog": 131,
          "regress": 220.9431659337704
         },
         {
          "bmi": -0.019139699022379,
          "prog": 214,
          "regress": 133.96157903791388
         },
         {
          "bmi": -0.0665634302731387,
          "prog": 59,
          "regress": 88.93581640947042
         },
         {
          "bmi": -0.0600965578298533,
          "prog": 70,
          "regress": 95.07569313153088
         },
         {
          "bmi": 0.0692408910358548,
          "prog": 220,
          "regress": 217.87322757274018
         },
         {
          "bmi": 0.0595405823709267,
          "prog": 268,
          "regress": 208.66341248964946
         },
         {
          "bmi": -0.0266843835395454,
          "prog": 152,
          "regress": 126.79838952884326
         },
         {
          "bmi": -0.02021751109626,
          "prog": 47,
          "regress": 132.93826625090372
         },
         {
          "bmi": -0.0460850008694016,
          "prog": 74,
          "regress": 108.37875936266188
         },
         {
          "bmi": 0.0713965151836166,
          "prog": 295,
          "regress": 219.91985314676032
         },
         {
          "bmi": -0.0794971751597095,
          "prog": 101,
          "regress": 76.6560629653495
         },
         {
          "bmi": 0.00996122697240527,
          "prog": 151,
          "regress": 161.59102428718592
         },
         {
          "bmi": -0.0385403163522353,
          "prog": 127,
          "regress": 115.54194887173242
         },
         {
          "bmi": 0.0196615356373334,
          "prog": 237,
          "regress": 170.80083937027663
         },
         {
          "bmi": 0.0272062201544997,
          "prog": 225,
          "regress": 177.96402887934718
         },
         {
          "bmi": -0.00836157828357004,
          "prog": 81,
          "regress": 144.1947069080146
         },
         {
          "bmi": -0.0159062628007364,
          "prog": 151,
          "regress": 137.031517398944
         },
         {
          "bmi": 0.00457216660300077,
          "prog": 107,
          "regress": 156.47446035213554
         },
         {
          "bmi": -0.0428515646477589,
          "prog": 64,
          "regress": 111.4486977236921
         },
         {
          "bmi": 0.00564997867688165,
          "prog": 138,
          "regress": 157.4977731391456
         },
         {
          "bmi": -0.0353068801305926,
          "prog": 185,
          "regress": 118.61188723276265
         },
         {
          "bmi": 0.023972783932857,
          "prog": 265,
          "regress": 174.89409051831694
         },
         {
          "bmi": -0.0180618869484982,
          "prog": 101,
          "regress": 134.98489182492386
         },
         {
          "bmi": 0.0422955891888323,
          "prog": 137,
          "regress": 192.29040789748825
         },
         {
          "bmi": -0.0547074974604488,
          "prog": 143,
          "regress": 100.19225706658128
         },
         {
          "bmi": -0.00297251791416553,
          "prog": 141,
          "regress": 149.31127084306502
         },
         {
          "bmi": -0.0665634302731387,
          "prog": 79,
          "regress": 88.93581640947042
         },
         {
          "bmi": -0.0126728265790937,
          "prog": 292,
          "regress": 140.10145575997424
         },
         {
          "bmi": -0.041773752573878,
          "prog": 178,
          "regress": 112.47201051070218
         },
         {
          "bmi": -0.030995631835069,
          "prog": 91,
          "regress": 122.70513838080295
         },
         {
          "bmi": -0.00512814206192736,
          "prog": 116,
          "regress": 147.26464526904482
         },
         {
          "bmi": -0.0590187457559724,
          "prog": 86,
          "regress": 96.09900591854097
         },
         {
          "bmi": 0.0250505960067379,
          "prog": 122,
          "regress": 175.917403305327
         },
         {
          "bmi": -0.0460850008694016,
          "prog": 72,
          "regress": 108.37875936266188
         },
         {
          "bmi": 0.00349435452911985,
          "prog": 129,
          "regress": 155.45114756512544
         },
         {
          "bmi": 0.0541515220015222,
          "prog": 142,
          "regress": 203.54684855459908
         },
         {
          "bmi": -0.0450071887955207,
          "prog": 90,
          "regress": 109.40207214967195
         },
         {
          "bmi": -0.0579409336820915,
          "prog": 158,
          "regress": 97.12231870555104
         },
         {
          "bmi": -0.0557853095343297,
          "prog": 39,
          "regress": 99.16894427957119
         },
         {
          "bmi": 0.00133873038135806,
          "prog": 196,
          "regress": 153.4045219911053
         },
         {
          "bmi": 0.0304396563761424,
          "prog": 222,
          "regress": 181.0339672403774
         },
         {
          "bmi": 0.00672779075076256,
          "prog": 277,
          "regress": 158.52108592615568
         },
         {
          "bmi": 0.0466068374843559,
          "prog": 99,
          "regress": 196.38365904552853
         },
         {
          "bmi": 0.0261284080806188,
          "prog": 196,
          "regress": 176.94071609233708
         },
         {
          "bmi": 0.045529025410475,
          "prog": 202,
          "regress": 195.36034625851846
         },
         {
          "bmi": 0.0401399650410705,
          "prog": 155,
          "regress": 190.24378232346808
         },
         {
          "bmi": -0.0180618869484982,
          "prog": 77,
          "regress": 134.98489182492386
         },
         {
          "bmi": 0.0142724752679289,
          "prog": 191,
          "regress": 165.68427543522625
         },
         {
          "bmi": 0.0369065288194278,
          "prog": 70,
          "regress": 187.17384396243784
         },
         {
          "bmi": 0.00349435452911985,
          "prog": 73,
          "regress": 155.45114756512544
         },
         {
          "bmi": -0.0708746785686623,
          "prog": 49,
          "regress": 84.84256526143012
         },
         {
          "bmi": -0.0331512559828308,
          "prog": 65,
          "regress": 120.6585128067828
         },
         {
          "bmi": 0.0940305687351156,
          "prog": 263,
          "regress": 241.40942167397202
         },
         {
          "bmi": 0.0358287167455469,
          "prog": 248,
          "regress": 186.15053117542777
         },
         {
          "bmi": 0.0315174684500233,
          "prog": 296,
          "regress": 182.0572800273875
         },
         {
          "bmi": -0.0654856181992578,
          "prog": 214,
          "regress": 89.9591291964805
         },
         {
          "bmi": -0.041773752573878,
          "prog": 185,
          "regress": 112.47201051070218
         },
         {
          "bmi": -0.0396181284261162,
          "prog": 78,
          "regress": 114.51863608472235
         },
         {
          "bmi": -0.0385403163522353,
          "prog": 93,
          "regress": 115.54194887173242
         },
         {
          "bmi": -0.0256065714656645,
          "prog": 252,
          "regress": 127.82170231585333
         },
         {
          "bmi": -0.0234509473179027,
          "prog": 150,
          "regress": 129.86832788987348
         },
         {
          "bmi": -0.0665634302731387,
          "prog": 77,
          "regress": 88.93581640947042
         },
         {
          "bmi": 0.0325952805239042,
          "prog": 208,
          "regress": 183.08059281439756
         },
         {
          "bmi": -0.0460850008694016,
          "prog": 77,
          "regress": 108.37875936266188
         },
         {
          "bmi": -0.0299178197611881,
          "prog": 108,
          "regress": 123.72845116781303
         },
         {
          "bmi": -0.0126728265790937,
          "prog": 160,
          "regress": 140.10145575997424
         },
         {
          "bmi": -0.0159062628007364,
          "prog": 53,
          "regress": 137.031517398944
         },
         {
          "bmi": 0.0713965151836166,
          "prog": 220,
          "regress": 219.91985314676032
         },
         {
          "bmi": -0.030995631835069,
          "prog": 154,
          "regress": 122.70513838080295
         },
         {
          "bmi": 0.000260918307477141,
          "prog": 259,
          "regress": 152.3812092040952
         },
         {
          "bmi": 0.0369065288194278,
          "prog": 90,
          "regress": 187.17384396243784
         },
         {
          "bmi": 0.0390621529671896,
          "prog": 246,
          "regress": 189.220469536458
         },
         {
          "bmi": -0.0148284507268555,
          "prog": 124,
          "regress": 138.0548301859541
         },
         {
          "bmi": 0.00672779075076256,
          "prog": 67,
          "regress": 158.52108592615568
         },
         {
          "bmi": -0.0687190544209005,
          "prog": 72,
          "regress": 86.88919083545028
         },
         {
          "bmi": -0.00943939035745095,
          "prog": 257,
          "regress": 143.17139412100454
         },
         {
          "bmi": 0.0196615356373334,
          "prog": 262,
          "regress": 170.80083937027663
         },
         {
          "bmi": 0.0746299514052593,
          "prog": 275,
          "regress": 222.98979150779053
         },
         {
          "bmi": -0.00836157828357004,
          "prog": 177,
          "regress": 144.1947069080146
         },
         {
          "bmi": -0.0234509473179027,
          "prog": 71,
          "regress": 129.86832788987348
         },
         {
          "bmi": -0.0460850008694016,
          "prog": 47,
          "regress": 108.37875936266188
         },
         {
          "bmi": 0.0541515220015222,
          "prog": 187,
          "regress": 203.54684855459908
         },
         {
          "bmi": -0.0353068801305926,
          "prog": 125,
          "regress": 118.61188723276265
         },
         {
          "bmi": -0.0320734439089499,
          "prog": 78,
          "regress": 121.68182559379287
         },
         {
          "bmi": -0.0816527993074713,
          "prog": 51,
          "regress": 74.60943739132937
         },
         {
          "bmi": 0.0476846495582368,
          "prog": 258,
          "regress": 197.40697183253863
         },
         {
          "bmi": 0.0606183944448076,
          "prog": 215,
          "regress": 209.68672527665956
         },
         {
          "bmi": 0.056307146149284,
          "prog": 303,
          "regress": 205.59347412861922
         },
         {
          "bmi": 0.098341817030639,
          "prog": 243,
          "regress": 245.50267282201213
         },
         {
          "bmi": 0.0595405823709267,
          "prog": 91,
          "regress": 208.66341248964946
         },
         {
          "bmi": 0.0336730925977851,
          "prog": 150,
          "regress": 184.10390560140763
         },
         {
          "bmi": 0.056307146149284,
          "prog": 310,
          "regress": 205.59347412861922
         },
         {
          "bmi": -0.0654856181992578,
          "prog": 153,
          "regress": 89.9591291964805
         },
         {
          "bmi": 0.160854917315731,
          "prog": 346,
          "regress": 304.8548144685964
         },
         {
          "bmi": -0.0557853095343297,
          "prog": 63,
          "regress": 99.16894427957119
         },
         {
          "bmi": -0.0245287593917836,
          "prog": 89,
          "regress": 128.8450151028634
         },
         {
          "bmi": -0.0363846922044735,
          "prog": 50,
          "regress": 117.58857444575257
         },
         {
          "bmi": -0.00836157828357004,
          "prog": 39,
          "regress": 144.1947069080146
         },
         {
          "bmi": -0.041773752573878,
          "prog": 103,
          "regress": 112.47201051070218
         },
         {
          "bmi": 0.127442743025423,
          "prog": 308,
          "regress": 273.1321180712839
         },
         {
          "bmi": -0.0773415510119477,
          "prog": 116,
          "regress": 78.70268853936966
         },
         {
          "bmi": 0.0282840322283806,
          "prog": 145,
          "regress": 178.98734166635725
         },
         {
          "bmi": -0.0256065714656645,
          "prog": 74,
          "regress": 127.82170231585333
         },
         {
          "bmi": -0.0622521819776151,
          "prog": 45,
          "regress": 93.02906755751073
         },
         {
          "bmi": -0.000816893766403737,
          "prog": 115,
          "regress": 151.35789641708516
         },
         {
          "bmi": 0.088641508365711,
          "prog": 264,
          "regress": 236.29285773892153
         },
         {
          "bmi": -0.0320734439089499,
          "prog": 87,
          "regress": 121.68182559379287
         },
         {
          "bmi": 0.0304396563761424,
          "prog": 202,
          "regress": 181.0339672403774
         },
         {
          "bmi": 0.00888341489852436,
          "prog": 127,
          "regress": 160.56771150017585
         },
         {
          "bmi": 0.00672779075076256,
          "prog": 182,
          "regress": 158.52108592615568
         },
         {
          "bmi": -0.02021751109626,
          "prog": 241,
          "regress": 132.93826625090372
         },
         {
          "bmi": -0.0245287593917836,
          "prog": 66,
          "regress": 128.8450151028634
         },
         {
          "bmi": -0.0115950145052127,
          "prog": 94,
          "regress": 141.12476854698443
         },
         {
          "bmi": 0.0261284080806188,
          "prog": 283,
          "regress": 176.94071609233708
         },
         {
          "bmi": -0.0590187457559724,
          "prog": 64,
          "regress": 96.09900591854097
         },
         {
          "bmi": -0.0363846922044735,
          "prog": 102,
          "regress": 117.58857444575257
         },
         {
          "bmi": -0.0245287593917836,
          "prog": 200,
          "regress": 128.8450151028634
         },
         {
          "bmi": 0.0185837235634525,
          "prog": 265,
          "regress": 169.77752658326656
         },
         {
          "bmi": -0.0902752958985185,
          "prog": 94,
          "regress": 66.42293509524875
         },
         {
          "bmi": -0.00512814206192736,
          "prog": 230,
          "regress": 147.26464526904482
         },
         {
          "bmi": -0.052551873312687,
          "prog": 181,
          "regress": 102.23888264060142
         },
         {
          "bmi": -0.0223731352440218,
          "prog": 156,
          "regress": 130.89164067688355
         },
         {
          "bmi": -0.02021751109626,
          "prog": 233,
          "regress": 132.93826625090372
         },
         {
          "bmi": -0.0547074974604488,
          "prog": 60,
          "regress": 100.19225706658128
         },
         {
          "bmi": -0.00620595413580824,
          "prog": 219,
          "regress": 146.24133248203478
         },
         {
          "bmi": -0.0169840748746173,
          "prog": 80,
          "regress": 136.00820461193393
         },
         {
          "bmi": 0.0552293340754031,
          "prog": 68,
          "regress": 204.57016134160915
         },
         {
          "bmi": 0.0767855755530211,
          "prog": 332,
          "regress": 225.03641708181067
         },
         {
          "bmi": 0.0185837235634525,
          "prog": 248,
          "regress": 169.77752658326656
         },
         {
          "bmi": -0.0223731352440218,
          "prog": 84,
          "regress": 130.89164067688355
         },
         {
          "bmi": 0.0929527566612346,
          "prog": 200,
          "regress": 240.38610888696184
         },
         {
          "bmi": -0.030995631835069,
          "prog": 55,
          "regress": 122.70513838080295
         },
         {
          "bmi": 0.0390621529671896,
          "prog": 85,
          "regress": 189.220469536458
         },
         {
          "bmi": -0.0611743699037342,
          "prog": 89,
          "regress": 94.05238034452081
         },
         {
          "bmi": -0.00836157828357004,
          "prog": 31,
          "regress": 144.1947069080146
         },
         {
          "bmi": -0.0374625042783544,
          "prog": 129,
          "regress": 116.56526165874249
         },
         {
          "bmi": -0.0137506386529745,
          "prog": 83,
          "regress": 139.07814297296426
         },
         {
          "bmi": 0.0735521393313785,
          "prog": 275,
          "regress": 221.96647872078057
         },
         {
          "bmi": -0.0245287593917836,
          "prog": 65,
          "regress": 128.8450151028634
         },
         {
          "bmi": 0.0336730925977851,
          "prog": 198,
          "regress": 184.10390560140763
         },
         {
          "bmi": 0.034750904671666,
          "prog": 236,
          "regress": 185.1272183884177
         },
         {
          "bmi": -0.0385403163522353,
          "prog": 253,
          "regress": 115.54194887173242
         },
         {
          "bmi": -0.0396181284261162,
          "prog": 124,
          "regress": 114.51863608472235
         },
         {
          "bmi": -0.00189470584028465,
          "prog": 44,
          "regress": 150.33458363007506
         },
         {
          "bmi": -0.030995631835069,
          "prog": 172,
          "regress": 122.70513838080295
         },
         {
          "bmi": -0.0460850008694016,
          "prog": 114,
          "regress": 108.37875936266188
         },
         {
          "bmi": 0.00133873038135806,
          "prog": 142,
          "regress": 153.4045219911053
         },
         {
          "bmi": 0.0649296427403312,
          "prog": 109,
          "regress": 213.77997642469984
         },
         {
          "bmi": 0.0401399650410705,
          "prog": 180,
          "regress": 190.24378232346808
         },
         {
          "bmi": -0.0234509473179027,
          "prog": 144,
          "regress": 129.86832788987348
         },
         {
          "bmi": 0.0530737099276413,
          "prog": 163,
          "regress": 202.523535767589
         },
         {
          "bmi": 0.0401399650410705,
          "prog": 147,
          "regress": 190.24378232346808
         },
         {
          "bmi": -0.02021751109626,
          "prog": 97,
          "regress": 132.93826625090372
         },
         {
          "bmi": 0.0142724752679289,
          "prog": 220,
          "regress": 165.68427543522625
         },
         {
          "bmi": -0.0342290680567117,
          "prog": 190,
          "regress": 119.63520001977272
         },
         {
          "bmi": 0.00672779075076256,
          "prog": 109,
          "regress": 158.52108592615568
         },
         {
          "bmi": 0.00457216660300077,
          "prog": 191,
          "regress": 156.47446035213554
         },
         {
          "bmi": 0.0304396563761424,
          "prog": 122,
          "regress": 181.0339672403774
         },
         {
          "bmi": 0.0519958978537604,
          "prog": 230,
          "regress": 201.50022298057894
         },
         {
          "bmi": 0.0616962065186885,
          "prog": 242,
          "regress": 210.71003806366963
         },
         {
          "bmi": -0.00728376620968916,
          "prog": 248,
          "regress": 145.21801969502468
         },
         {
          "bmi": 0.00564997867688165,
          "prog": 249,
          "regress": 157.4977731391456
         },
         {
          "bmi": 0.0541515220015222,
          "prog": 192,
          "regress": 203.54684855459908
         },
         {
          "bmi": -0.00836157828357004,
          "prog": 131,
          "regress": 144.1947069080146
         },
         {
          "bmi": 0.114508998138853,
          "prog": 237,
          "regress": 260.85236462716375
         },
         {
          "bmi": 0.067085266888093,
          "prog": 78,
          "regress": 215.82660199872
         },
         {
          "bmi": -0.0557853095343297,
          "prog": 135,
          "regress": 99.16894427957119
         },
         {
          "bmi": 0.0304396563761424,
          "prog": 244,
          "regress": 181.0339672403774
         },
         {
          "bmi": -0.0256065714656645,
          "prog": 199,
          "regress": 127.82170231585333
         },
         {
          "bmi": 0.104808689473925,
          "prog": 270,
          "regress": 251.64254954407318
         },
         {
          "bmi": -0.00620595413580824,
          "prog": 164,
          "regress": 146.24133248203478
         },
         {
          "bmi": -0.0471628129432825,
          "prog": 72,
          "regress": 107.3554465756518
         },
         {
          "bmi": -0.0482406250171634,
          "prog": 96,
          "regress": 106.33213378864173
         },
         {
          "bmi": 0.0854080721440683,
          "prog": 306,
          "regress": 233.2229193778913
         },
         {
          "bmi": -0.0126728265790937,
          "prog": 91,
          "regress": 140.10145575997424
         },
         {
          "bmi": -0.0331512559828308,
          "prog": 214,
          "regress": 120.6585128067828
         },
         {
          "bmi": -0.00728376620968916,
          "prog": 95,
          "regress": 145.21801969502468
         },
         {
          "bmi": -0.0137506386529745,
          "prog": 216,
          "regress": 139.07814297296426
         },
         {
          "bmi": 0.0595405823709267,
          "prog": 263,
          "regress": 208.66341248964946
         },
         {
          "bmi": 0.0218171597850952,
          "prog": 178,
          "regress": 172.8474649442968
         },
         {
          "bmi": 0.0185837235634525,
          "prog": 113,
          "regress": 169.77752658326656
         },
         {
          "bmi": -0.0115950145052127,
          "prog": 200,
          "regress": 141.12476854698443
         },
         {
          "bmi": -0.00297251791416553,
          "prog": 139,
          "regress": 149.31127084306502
         },
         {
          "bmi": 0.0175059114895716,
          "prog": 139,
          "regress": 168.7542137962565
         },
         {
          "bmi": -0.0299178197611881,
          "prog": 88,
          "regress": 123.72845116781303
         },
         {
          "bmi": -0.02021751109626,
          "prog": 148,
          "regress": 132.93826625090372
         },
         {
          "bmi": -0.0579409336820915,
          "prog": 88,
          "regress": 97.12231870555104
         },
         {
          "bmi": 0.0606183944448076,
          "prog": 243,
          "regress": 209.68672527665956
         },
         {
          "bmi": -0.0406959404999971,
          "prog": 71,
          "regress": 113.49532329771226
         },
         {
          "bmi": -0.0719524906425432,
          "prog": 77,
          "regress": 83.81925247442005
         },
         {
          "bmi": -0.0557853095343297,
          "prog": 109,
          "regress": 99.16894427957119
         },
         {
          "bmi": 0.045529025410475,
          "prog": 272,
          "regress": 195.36034625851846
         },
         {
          "bmi": -0.00943939035745095,
          "prog": 60,
          "regress": 143.17139412100454
         },
         {
          "bmi": -0.0331512559828308,
          "prog": 54,
          "regress": 120.6585128067828
         },
         {
          "bmi": 0.0498402737059986,
          "prog": 221,
          "regress": 199.45359740655877
         },
         {
          "bmi": -0.084886235529114,
          "prog": 90,
          "regress": 71.53949903029913
         },
         {
          "bmi": 0.00564997867688165,
          "prog": 311,
          "regress": 157.4977731391456
         },
         {
          "bmi": 0.0207393477112143,
          "prog": 281,
          "regress": 171.8241521572867
         },
         {
          "bmi": -0.00728376620968916,
          "prog": 182,
          "regress": 145.21801969502468
         },
         {
          "bmi": 0.104808689473925,
          "prog": 321,
          "regress": 251.64254954407318
         },
         {
          "bmi": -0.0245287593917836,
          "prog": 58,
          "regress": 128.8450151028634
         },
         {
          "bmi": -0.00620595413580824,
          "prog": 262,
          "regress": 146.24133248203478
         },
         {
          "bmi": -0.0385403163522353,
          "prog": 206,
          "regress": 115.54194887173242
         },
         {
          "bmi": 0.137143051690352,
          "prog": 233,
          "regress": 282.34193315437545
         },
         {
          "bmi": 0.17055522598066,
          "prog": 242,
          "regress": 314.0646295516879
         },
         {
          "bmi": 0.00241654245523897,
          "prog": 123,
          "regress": 154.4278347781154
         },
         {
          "bmi": 0.0379843408933087,
          "prog": 167,
          "regress": 188.19715674944794
         },
         {
          "bmi": -0.0579409336820915,
          "prog": 63,
          "regress": 97.12231870555104
         },
         {
          "bmi": -0.00943939035745095,
          "prog": 197,
          "regress": 143.17139412100454
         },
         {
          "bmi": -0.0234509473179027,
          "prog": 71,
          "regress": 129.86832788987348
         },
         {
          "bmi": -0.0105172024313319,
          "prog": 168,
          "regress": 142.1480813339944
         },
         {
          "bmi": -0.0342290680567117,
          "prog": 140,
          "regress": 119.63520001977272
         },
         {
          "bmi": -0.00297251791416553,
          "prog": 217,
          "regress": 149.31127084306502
         },
         {
          "bmi": 0.068163078961974,
          "prog": 121,
          "regress": 216.84991478573016
         },
         {
          "bmi": 0.00996122697240527,
          "prog": 235,
          "regress": 161.59102428718592
         },
         {
          "bmi": 0.00241654245523897,
          "prog": 245,
          "regress": 154.4278347781154
         },
         {
          "bmi": -0.0385403163522353,
          "prog": 40,
          "regress": 115.54194887173242
         },
         {
          "bmi": 0.0261284080806188,
          "prog": 52,
          "regress": 176.94071609233708
         },
         {
          "bmi": -0.0891974838246376,
          "prog": 104,
          "regress": 67.44624788225882
         },
         {
          "bmi": 0.0606183944448076,
          "prog": 132,
          "regress": 209.68672527665956
         },
         {
          "bmi": -0.0288400076873072,
          "prog": 88,
          "regress": 124.7517639548231
         },
         {
          "bmi": -0.0299178197611881,
          "prog": 69,
          "regress": 123.72845116781303
         },
         {
          "bmi": -0.019139699022379,
          "prog": 219,
          "regress": 133.96157903791388
         },
         {
          "bmi": -0.0406959404999971,
          "prog": 72,
          "regress": 113.49532329771226
         },
         {
          "bmi": 0.0153502873418098,
          "prog": 201,
          "regress": 166.70758822223632
         },
         {
          "bmi": -0.0245287593917836,
          "prog": 110,
          "regress": 128.8450151028634
         },
         {
          "bmi": 0.00133873038135806,
          "prog": 51,
          "regress": 153.4045219911053
         },
         {
          "bmi": 0.0692408910358548,
          "prog": 277,
          "regress": 217.87322757274018
         },
         {
          "bmi": -0.0697968664947814,
          "prog": 63,
          "regress": 85.86587804844021
         },
         {
          "bmi": -0.0299178197611881,
          "prog": 118,
          "regress": 123.72845116781303
         },
         {
          "bmi": -0.0460850008694016,
          "prog": 69,
          "regress": 108.37875936266188
         },
         {
          "bmi": 0.0185837235634525,
          "prog": 273,
          "regress": 169.77752658326656
         },
         {
          "bmi": 0.00133873038135806,
          "prog": 258,
          "regress": 153.4045219911053
         },
         {
          "bmi": -0.030995631835069,
          "prog": 43,
          "regress": 122.70513838080295
         },
         {
          "bmi": -0.00405032998804645,
          "prog": 198,
          "regress": 148.28795805605492
         },
         {
          "bmi": 0.0153502873418098,
          "prog": 242,
          "regress": 166.70758822223632
         },
         {
          "bmi": 0.0228949718589761,
          "prog": 232,
          "regress": 173.87077773130687
         },
         {
          "bmi": 0.045529025410475,
          "prog": 175,
          "regress": 195.36034625851846
         },
         {
          "bmi": -0.0450071887955207,
          "prog": 93,
          "regress": 109.40207214967195
         },
         {
          "bmi": -0.0331512559828308,
          "prog": 168,
          "regress": 120.6585128067828
         },
         {
          "bmi": 0.0972640049567582,
          "prog": 275,
          "regress": 244.47936003500214
         },
         {
          "bmi": 0.0541515220015222,
          "prog": 293,
          "regress": 203.54684855459908
         },
         {
          "bmi": 0.1231314947299,
          "prog": 281,
          "regress": 269.03886692324414
         },
         {
          "bmi": -0.0805749872335904,
          "prog": 72,
          "regress": 75.63275017833944
         },
         {
          "bmi": 0.0929527566612346,
          "prog": 140,
          "regress": 240.38610888696184
         },
         {
          "bmi": -0.0503962491649252,
          "prog": 189,
          "regress": 104.28550821462157
         },
         {
          "bmi": -0.0115950145052127,
          "prog": 181,
          "regress": 141.12476854698443
         },
         {
          "bmi": -0.0277621956134263,
          "prog": 209,
          "regress": 125.77507674183317
         },
         {
          "bmi": 0.0584627702970458,
          "prog": 136,
          "regress": 207.6400997026394
         },
         {
          "bmi": 0.0854080721440683,
          "prog": 261,
          "regress": 233.2229193778913
         },
         {
          "bmi": -0.000816893766403737,
          "prog": 113,
          "regress": 151.35789641708516
         },
         {
          "bmi": 0.00672779075076256,
          "prog": 131,
          "regress": 158.52108592615568
         },
         {
          "bmi": 0.00888341489852436,
          "prog": 174,
          "regress": 160.56771150017585
         },
         {
          "bmi": 0.0800190117746638,
          "prog": 257,
          "regress": 228.10635544284094
         },
         {
          "bmi": 0.0713965151836166,
          "prog": 55,
          "regress": 219.91985314676032
         },
         {
          "bmi": -0.0245287593917836,
          "prog": 84,
          "regress": 128.8450151028634
         },
         {
          "bmi": -0.0547074974604488,
          "prog": 42,
          "regress": 100.19225706658128
         },
         {
          "bmi": -0.0363846922044735,
          "prog": 146,
          "regress": 117.58857444575257
         },
         {
          "bmi": 0.0164280994156907,
          "prog": 212,
          "regress": 167.7309010092464
         },
         {
          "bmi": 0.077863387626902,
          "prog": 233,
          "regress": 226.05972986882077
         },
         {
          "bmi": -0.0396181284261162,
          "prog": 91,
          "regress": 114.51863608472235
         },
         {
          "bmi": 0.0110390390462862,
          "prog": 111,
          "regress": 162.61433707419602
         },
         {
          "bmi": -0.0406959404999971,
          "prog": 152,
          "regress": 113.49532329771226
         },
         {
          "bmi": -0.0342290680567117,
          "prog": 120,
          "regress": 119.63520001977272
         },
         {
          "bmi": 0.00564997867688165,
          "prog": 67,
          "regress": 157.4977731391456
         },
         {
          "bmi": 0.088641508365711,
          "prog": 310,
          "regress": 236.29285773892153
         },
         {
          "bmi": -0.0331512559828308,
          "prog": 94,
          "regress": 120.6585128067828
         },
         {
          "bmi": -0.0568631216082106,
          "prog": 183,
          "regress": 98.14563149256111
         },
         {
          "bmi": -0.030995631835069,
          "prog": 66,
          "regress": 122.70513838080295
         },
         {
          "bmi": 0.0552293340754031,
          "prog": 173,
          "regress": 204.57016134160915
         },
         {
          "bmi": -0.0600965578298533,
          "prog": 72,
          "regress": 95.07569313153088
         },
         {
          "bmi": 0.00133873038135806,
          "prog": 49,
          "regress": 153.4045219911053
         },
         {
          "bmi": -0.0234509473179027,
          "prog": 64,
          "regress": 129.86832788987348
         },
         {
          "bmi": -0.074108114790305,
          "prog": 48,
          "regress": 81.77262690039989
         },
         {
          "bmi": 0.0196615356373334,
          "prog": 178,
          "regress": 170.80083937027663
         },
         {
          "bmi": -0.0159062628007364,
          "prog": 104,
          "regress": 137.031517398944
         },
         {
          "bmi": -0.0159062628007364,
          "prog": 132,
          "regress": 137.031517398944
         },
         {
          "bmi": 0.0390621529671896,
          "prog": 220,
          "regress": 189.220469536458
         },
         {
          "bmi": -0.0730303027164241,
          "prog": 57,
          "regress": 82.79593968740997
         }
        ]
       },
       "layer": [
        {
         "data": {
          "name": "data-2efe235ca86930d870ae57f8648c4055"
         },
         "encoding": {
          "x": {
           "field": "bmi",
           "type": "quantitative"
          },
          "y": {
           "field": "prog",
           "type": "quantitative"
          }
         },
         "height": 400,
         "mark": {
          "opacity": 0.5,
          "size": 75,
          "type": "circle"
         },
         "width": 600
        },
        {
         "data": {
          "name": "data-4412326ddbb2144179f23e22e6396fd8"
         },
         "encoding": {
          "x": {
           "field": "bmi",
           "type": "quantitative"
          },
          "y": {
           "field": "regress",
           "type": "quantitative"
          }
         },
         "height": 400,
         "mark": {
          "color": "red",
          "opacity": 0.5,
          "type": "line"
         },
         "width": 600
        }
       ]
      },
      "image/png": "[encoded data removed]",
      "text/plain": [
       "<VegaLite 3 object>\n",
       "\n",
       "If you see this message, it means the renderer has not been properly enabled\n",
       "for the frontend that you are using. For more information, see\n",
       "https://altair-viz.github.io/user_guide/troubleshooting.html\n"
      ]
     },
     "execution_count": 107,
     "metadata": {},
     "output_type": "execute_result"
    }
   ],
   "source": [
    "bmi = X[:, np.newaxis, 2] \n",
    "regress = linear_model.LinearRegression(fit_intercept=True)\n",
    "regress.fit(bmi,y)\n",
    "prog_pred = regress.predict(bmi)\n",
    "\n",
    "\n",
    "bmivsprog_df = pd.concat([pd.DataFrame(diabetes_df['bmi']),diabetes_df['prog']],axis=1)\n",
    "points = alt.Chart(bmivsprog_df).mark_circle(size=75, opacity=0.5).encode(\n",
    "    x=\"bmi:Q\",\n",
    "    y=\"prog:Q\"\n",
    ").properties(\n",
    "    width=600,\n",
    "    height=400\n",
    ")\n",
    "\n",
    "reg_df = pd.concat([bmivsprog_df,pd.DataFrame({'regress':prog_pred})],axis=1)\n",
    "reg_df\n",
    "reg_line = alt.Chart(reg_df).mark_line(color=\"red\", opacity=0.5).encode(\n",
    "    x=alt.X(\"bmi:Q\"),\n",
    "    y=alt.Y(\"regress:Q\")\n",
    ").properties(\n",
    "    width=600,\n",
    "    height=400\n",
    ")\n",
    "points+reg_line\n"
   ]
  },
  {
   "cell_type": "code",
   "execution_count": null,
   "metadata": {},
   "outputs": [],
   "source": []
  },
  {
   "cell_type": "code",
   "execution_count": null,
   "metadata": {},
   "outputs": [],
   "source": []
  }
 ],
 "metadata": {
  "celltoolbar": "Slideshow",
  "kernelspec": {
   "display_name": "Python 3",
   "language": "python",
   "name": "python3"
  },
  "language_info": {
   "codemirror_mode": {
    "name": "ipython",
    "version": 3
   },
   "file_extension": ".py",
   "mimetype": "text/x-python",
   "name": "python",
   "nbconvert_exporter": "python",
   "pygments_lexer": "ipython3",
   "version": "3.7.6"
  }
 },
 "nbformat": 4,
 "nbformat_minor": 4
}
