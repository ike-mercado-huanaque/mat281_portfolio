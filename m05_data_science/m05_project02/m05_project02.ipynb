{
 "cells": [
  {
   "cell_type": "markdown",
   "metadata": {
    "Collapsed": "false",
    "slideshow": {
     "slide_type": "slide"
    }
   },
   "source": [
    "<img src=\"https://upload.wikimedia.org/wikipedia/commons/4/47/Logo_UTFSM.png\" width=\"200\" alt=\"utfsm-logo\" align=\"left\"/>\n",
    "\n",
    "# MAT281\n",
    "### Aplicaciones de la Matemática en la Ingeniería"
   ]
  },
  {
   "cell_type": "markdown",
   "metadata": {
    "Collapsed": "false",
    "slideshow": {
     "slide_type": "slide"
    }
   },
   "source": [
    "## Proyecto 02: Free Style"
   ]
  },
  {
   "cell_type": "markdown",
   "metadata": {
    "Collapsed": "false"
   },
   "source": [
    "### Instrucciones\n",
    "\n",
    "* Completa tus datos personales (nombre y rol USM) en siguiente celda.\n",
    "* Debes _pushear_ tus cambios a tu repositorio personal del curso.\n",
    "* Como respaldo, debes enviar un archivo .zip con el siguiente formato `mXX_projectYY_apellido_nombre.zip` a alonso.ogueda@gmail.com, debe contener todo lo necesario para que se ejecute correctamente cada celda, ya sea datos, imágenes, scripts, etc.\n",
    "* Se evaluará:\n",
    "    - Soluciones\n",
    "    - Código\n",
    "    - Que Binder esté bien configurado.\n",
    "    - Al presionar  `Kernel -> Restart Kernel and Run All Cells` deben ejecutarse todas las celdas sin error."
   ]
  },
  {
   "cell_type": "markdown",
   "metadata": {
    "Collapsed": "false"
   },
   "source": [
    "__Nombre__:\n",
    "\n",
    "__Rol__:"
   ]
  },
  {
   "cell_type": "markdown",
   "metadata": {
    "Collapsed": "false"
   },
   "source": [
    "## Prediciendo _Pulsars_\n",
    "\n",
    "Un púlsar (del acrónimo en inglés de pulsating star, que significa «estrella que emite radiación muy intensa a intervalos cortos y regulares») es una estrella de neutrones que emite radiación periódica. Los púlsares poseen un intenso campo magnético que induce la emisión de estos pulsos de radiación electromagnética a intervalos regulares relacionados con el periodo de rotación del objeto. [Wikipedia](https://es.wikipedia.org/wiki/P%C3%BAlsar).\n",
    "\n",
    "![pulsar](https://upload.wikimedia.org/wikipedia/commons/thumb/c/c9/Chandra-crab.jpg/600px-Chandra-crab.jpg)\n",
    "\n",
    "_A composite image of the Crab Nebula showing the X-ray (blue), and optical (red) images superimposed. The size of the X-ray image is smaller because the higher energy X-ray emitting electrons radiate away their energy more quickly than the lower energy optically emitting electrons as they move._"
   ]
  },
  {
   "cell_type": "markdown",
   "metadata": {
    "Collapsed": "false"
   },
   "source": [
    "### Descripción de los datos"
   ]
  },
  {
   "cell_type": "code",
   "execution_count": 1,
   "metadata": {
    "Collapsed": "false"
   },
   "outputs": [
    {
     "name": "stdout",
     "output_type": "stream",
     "text": [
      "******************************************************************************************\n",
      "\n",
      "# HTRU2\n",
      "\n",
      "Author: Rob Lyon, School of Computer Science & Jodrell Bank Centre for Astrophysics,\n",
      "\t\tUniversity of Manchester, Kilburn Building, Oxford Road, Manchester M13 9PL.\n",
      "\n",
      "Contact:\trob@scienceguyrob.com or robert.lyon@.manchester.ac.uk\n",
      "Web:\t\thttp://www.scienceguyrob.com or http://www.cs.manchester.ac.uk\n",
      "\t\t\tor alternatively http://www.jb.man.ac.uk\n",
      "******************************************************************************************\n",
      "\n",
      "1. Overview\n",
      "\n",
      "\tHTRU2 is a data set which describes a sample of pulsar candidates collected during the\n",
      "\tHigh Time Resolution Universe Survey (South) [1]. \n",
      "\t\n",
      "\tPulsars are a rare type of Neutron star that produce radio emission detectable here on\n",
      "\tEarth. They are of considerable scientific interest as probes of space-time, the inter-\n",
      "\tstellar medium, and states of matter (see [2] for more uses). \n",
      "\t\n",
      "\tAs pulsars rotate, their emission beam sweeps across the sky, and when this crosses\n",
      "\tour line of sight, produces a detectable pattern of broadband radio emission. As pulsars\n",
      "\trotate rapidly, this pattern repeats periodically. Thus pulsar search involves looking\n",
      "\tfor periodic radio signals with large radio telescopes.\n",
      "\t\n",
      "\tEach pulsar produces a slightly different emission pattern, which varies slightly with each\n",
      "\trotation (see [2] for an introduction to pulsar astrophysics to find out why). Thus a \n",
      "\tpotential signal detection known as a 'candidate', is averaged over many rotations of the\n",
      "\tpulsar, as determined by the length of an observation. In the absence of additional info,\n",
      "\teach candidate could potentially describe a real pulsar. However in practice almost all\n",
      "\tdetections are caused by radio frequency interference (RFI) and noise, making legitimate\n",
      "\tsignals hard to find.\n",
      "\t\n",
      "\tMachine learning tools are now being used to automatically label pulsar candidates to\n",
      "\tfacilitate rapid analysis. Classification systems in particular are being widely adopted,\n",
      "\t(see [4,5,6,7,8,9]) which treat the candidate data sets  as binary classification problems.\n",
      "\tHere the legitimate pulsar examples are a minority positive class, and spurious examples\n",
      "\tthe majority negative class. At present multi-class labels are unavailable, given the\n",
      "\tcosts associated with data annotation.\n",
      "\t\n",
      "\tThe data set shared here contains 16,259 spurious examples caused by RFI/noise, and 1,639\n",
      "\treal pulsar examples. These examples have all been checked by human annotators. Each\n",
      "\tcandidate is described by 8 continuous variables. The first four are simple statistics\n",
      "\tobtained from the integrated pulse profile (folded profile). This is an array of continuous\n",
      "\tvariables that describe a longitude-resolved version of the signal that has been averaged\n",
      "\tin both time and frequency (see [3] for more details). The remaining four variables are\n",
      "\tsimilarly obtained from the DM-SNR curve (again see [3] for more details). These are \n",
      "\tsummarised below:\n",
      "\t\n",
      "\t1. Mean of the integrated profile.\n",
      "\t2. Standard deviation of the integrated profile.\n",
      "\t3. Excess kurtosis of the integrated profile.\n",
      "\t4. Skewness of the integrated profile.\n",
      "\t5. Mean of the DM-SNR curve.\n",
      "\t6. Standard deviation of the DM-SNR curve.\n",
      "\t7. Excess kurtosis of the DM-SNR curve.\n",
      "\t8. Skewness of the DM-SNR curve.\n",
      "\t\n",
      "\tHTRU 2 Summary\n",
      "\t\n",
      "\t17,898 total examples.\n",
      "\t1,639 positive examples.\n",
      "\t16,259 negative examples.\n",
      "\t\n",
      "\t\n",
      "\tThe data is presented in two formats: CSV and ARFF (used by the WEKA data mining tool).\n",
      "\tCandidates are stored in both files in separate rows. Each row lists the variables first,\n",
      "\tand the class label is the final entry. The class labels used are 0 (negative) and 1 \n",
      "\t(positive).\n",
      "\t\n",
      "\tPlease not that the data contains no positional information or other astronomical details. It is \n",
      "\tsimply feature data extracted from candidate files using the PulsarFeatureLab tool (see [10]).\n",
      "\n",
      "2. Citing our work\t\n",
      "\t\n",
      "\tIf you use the dataset in your work please cite us using the DOI of the dataset, and the paper:\n",
      "\t\n",
      "\tR. J. Lyon, B. W. Stappers, S. Cooper, J. M. Brooke, J. D. Knowles, Fifty Years of Pulsar\n",
      "\tCandidate Selection: From simple filters to a new principled real-time classification approach\n",
      "\tMNRAS, 2016.\n",
      "\t\n",
      "3. Acknowledgements\n",
      "\n",
      "\tThis data was obtained with the support of grant EP/I028099/1 for the University of Manchester \n",
      "\tCentre for Doctoral Training in Computer Science, from the UK Engineering and Physical Sciences\n",
      "\tResearch Council (EPSRC). The raw observational data was collected by the High Time Resolution\n",
      "\tUniverse Collaboration using the Parkes Observatory, funded by the Commonwealth of Australia and\n",
      "\tmanaged by the CSIRO.\n",
      "\t\n",
      "4. References\n",
      "\n",
      "\t[1] M.~J. Keith et al., \"The High Time Resolution Universe Pulsar Survey - I. System Configuration \n",
      "\t    and Initial Discoveries\",2010, Monthly Notices of the Royal Astronomical Society, vol. 409,\n",
      "\t    pp. 619-627. DOI: 10.1111/j.1365-2966.2010.17325.x\n",
      "\t\n",
      "\t[2] D. R. Lorimer and M. Kramer, \"Handbook of Pulsar Astronomy\", Cambridge University Press, 2005.\n",
      "\t\n",
      "\t[3] R. J. Lyon, \"Why Are Pulsars Hard To Find?\", PhD Thesis, University of Manchester, 2015.\n",
      "\t\n",
      "\t[4] R. J. Lyon et al., \"Fifty Years of Pulsar Candidate Selection: From simple filters to a new\n",
      "\t\tprincipled real-time classification approach\", Monthly Notices of the Royal Astronomical Society,\n",
      "\t\tsubmitted.\n",
      "\t\t\n",
      "\t[5] R. P. Eatough et al., \"Selection of radio pulsar candidates using artificial neural networks\",\n",
      "\t\tMonthly Notices of the Royal Astronomical Society, vol. 407, no. 4, pp. 2443-2450, 2010.\n",
      "\t\t\n",
      "\t[6] S. D. Bates et al., \"The high time resolution universe pulsar survey vi. an artificial neural\n",
      "\t\tnetwork and timing of 75 pulsars\", Monthly Notices of the Royal Astronomical Society, vol. 427,\n",
      "\t\tno. 2, pp. 1052-1065, 2012.\n",
      "\n",
      "\t[7] D. Thornton, \"The High Time Resolution Radio Sky\", PhD thesis, University of Manchester,\n",
      "\t\tJodrell Bank Centre for Astrophysics School of Physics and Astronomy, 2013.\n",
      "\t\t\n",
      "\t[8] K. J. Lee et al., \"PEACE: pulsar evaluation algorithm for candidate extraction a software package\n",
      "\t\tfor post-analysis processing of pulsar survey candidates\", Monthly Notices of the Royal Astronomical\n",
      "\t\tSociety, vol. 433, no. 1, pp. 688-694, 2013.\n",
      "\t\t\n",
      "\t[9] V. Morello et al., \"SPINN: a straightforward machine learning solution to the pulsar candidate\n",
      "\t\tselection problem\", Monthly Notices of the Royal Astronomical Society, vol. 443, no. 2,\n",
      "\t\tpp. 1651-1662, 2014.\n",
      "\t\t\n",
      "\t[10] R. J. Lyon, \"PulsarFeatureLab\", 2015, https://dx.doi.org/10.6084/m9.figshare.1536472.v1.\n"
     ]
    }
   ],
   "source": [
    "!cat data/Readme.txt"
   ]
  },
  {
   "cell_type": "markdown",
   "metadata": {
    "Collapsed": "false"
   },
   "source": [
    "### Objetivo"
   ]
  },
  {
   "cell_type": "markdown",
   "metadata": {
    "Collapsed": "false"
   },
   "source": [
    "El objetivo es a partir de los datos, hacer la mejor predicción si un registro es un __pulsar__ o no. Para ellos es necesario realizar los pasos clásicos de un proyecto de _Machine Learning_, como estadística descriptiva, visualización y preprocesamiento. Sin embargo, se busca escoger el mejor modelo de clasificación con una métrica específica (_precision_).\n",
    "\n",
    "* Se solicita ajustar tres modelos de clasificación, una regresión logística, KNN y un tercero a elección del siguiente [link](https://scikit-learn.org/stable/supervised_learning.html#supervised-learning) (es obligación escoger un _estimator_ que tenga por lo menos un hiperparámetro). \n",
    "* En los modelos que posean hiperparámetros es mandatorio buscar el/los mejores con alguna técnica disponible en `scikit-learn` ([ver más](https://scikit-learn.org/stable/modules/grid_search.html#tuning-the-hyper-parameters-of-an-estimator)).\n",
    "* Para cada modelo, se debe realizar _Cross Validation_ con 10 _folds_ utilizando los datos de entrenamiento con tal de determinar un intervalo de confianza para el _score_ del modelo.\n",
    "* Finalmente, realizar una predicción con cada uno de los tres modelos con los datos _test_ y obtener el _score_. \n",
    "\n",
    "En este informe __siempre__ debes utilizar _score_ / _scoring_ la métrica [_precision_](https://scikit-learn.org/stable/modules/generated/sklearn.metrics.precision_score.html#sklearn.metrics.precision_score), tanto para el _Cross Validation_, _Hyper Parameter Tuning_ y _Prediction_. Toda la información al respecto de las métricas se encuentra [aquí](https://scikit-learn.org/stable/modules/model_evaluation.html#metrics-and-scoring-quantifying-the-quality-of-predictions). "
   ]
  },
  {
   "cell_type": "markdown",
   "metadata": {
    "Collapsed": "false"
   },
   "source": [
    "### Evaluación"
   ]
  },
  {
   "cell_type": "markdown",
   "metadata": {
    "Collapsed": "false"
   },
   "source": [
    "Este jupyter notebook debe ser autocontenido, considera que es un informe técnico donde debes detallar cada paso, comentando código, utilizando variables con nombres adecuados, realizando gráficos y agregando apreciaciones personales cuando sea necesario. __No escatimes recursos a la hora de escribir.__\n",
    "\n",
    "__Escenario:__ Te encuentras trabajando como _data scientist / data analyst / machine learning engineer / etc._ y este trabajo será presentado al resto del equipo, en especial a tu jefe directo. Todos tienen conocimiento del problema y de machine learning, por lo que no puedes pasar por alto los aspectos técnicos de tu desarrollo. __Al final del informe, debes entregar tus conclusiones, visualizaciones y apreciaciones personales.__\n",
    "\n",
    "__Preguntas a responder:__\n",
    "\n",
    "* ¿Cuál modelo tiene mejor _precision_?\n",
    "* ¿Cuál modelo demora menos tiempo en ajustarse?\n",
    "* ¿Qué modelo escoges?\n",
    "* ¿Por qué utilizar _precision_ y no otro score?\n"
   ]
  },
  {
   "cell_type": "markdown",
   "metadata": {
    "Collapsed": "false",
    "slideshow": {
     "slide_type": "subslide"
    }
   },
   "source": [
    "### Rúbrica\n",
    "\n",
    "* __Estadística Descriptiva__ (5 pts)\n",
    "* __Visualización__ (10 pts)\n",
    "* __Preprocesamineto__ (5 pts)\n",
    "* __Regresión Logística__ (10 pts)\n",
    "* __K Nearest Neighbours__ (15 pts)\n",
    "* __Modelo a elección__ (15 pts)\n",
    "* __Selección de Modelos__ (20 pts)\n",
    "* __Conclusiones__ (20 pts)"
   ]
  },
  {
   "cell_type": "markdown",
   "metadata": {
    "Collapsed": "false",
    "slideshow": {
     "slide_type": "subslide"
    }
   },
   "source": [
    "## Contenidos\n",
    "\n",
    "* [Estadística Descriptiva](#descr_stat)\n",
    "* [Visualización](#visualization)\n",
    "* [Preprocesamineto](#preprocessing)\n",
    "* [Regresión Logística](#logistic)\n",
    "* [K Nearest Neighbours](#knn)\n",
    "* [Modelo a elección](#free-style)\n",
    "* [Selección de Modelos](#model-selection)\n",
    "* [Conclusiones](#conclusions)"
   ]
  },
  {
   "cell_type": "code",
   "execution_count": 2,
   "metadata": {
    "Collapsed": "false"
   },
   "outputs": [],
   "source": [
    "import os\n",
    "import numpy as np\n",
    "import pandas as pd"
   ]
  },
  {
   "cell_type": "code",
   "execution_count": 3,
   "metadata": {
    "Collapsed": "false"
   },
   "outputs": [
    {
     "data": {
      "text/html": [
       "<div>\n",
       "<style scoped>\n",
       "    .dataframe tbody tr th:only-of-type {\n",
       "        vertical-align: middle;\n",
       "    }\n",
       "\n",
       "    .dataframe tbody tr th {\n",
       "        vertical-align: top;\n",
       "    }\n",
       "\n",
       "    .dataframe thead th {\n",
       "        text-align: right;\n",
       "    }\n",
       "</style>\n",
       "<table border=\"1\" class=\"dataframe\">\n",
       "  <thead>\n",
       "    <tr style=\"text-align: right;\">\n",
       "      <th></th>\n",
       "      <th>mean_integrated_profile</th>\n",
       "      <th>std_integrated_profile</th>\n",
       "      <th>excess_kurtosis_integrated_profile</th>\n",
       "      <th>skewness_integrated_profile</th>\n",
       "      <th>mean_dmsnr</th>\n",
       "      <th>std_dmsnr</th>\n",
       "      <th>excess_kurtosis_dmsnr</th>\n",
       "      <th>skewness_dmsnr</th>\n",
       "      <th>is_pulsar</th>\n",
       "    </tr>\n",
       "  </thead>\n",
       "  <tbody>\n",
       "    <tr>\n",
       "      <td>0</td>\n",
       "      <td>140.562500</td>\n",
       "      <td>55.683782</td>\n",
       "      <td>-0.234571</td>\n",
       "      <td>-0.699648</td>\n",
       "      <td>3.199833</td>\n",
       "      <td>19.110426</td>\n",
       "      <td>7.975532</td>\n",
       "      <td>74.242225</td>\n",
       "      <td>0</td>\n",
       "    </tr>\n",
       "    <tr>\n",
       "      <td>1</td>\n",
       "      <td>102.507812</td>\n",
       "      <td>58.882430</td>\n",
       "      <td>0.465318</td>\n",
       "      <td>-0.515088</td>\n",
       "      <td>1.677258</td>\n",
       "      <td>14.860146</td>\n",
       "      <td>10.576487</td>\n",
       "      <td>127.393580</td>\n",
       "      <td>0</td>\n",
       "    </tr>\n",
       "    <tr>\n",
       "      <td>2</td>\n",
       "      <td>103.015625</td>\n",
       "      <td>39.341649</td>\n",
       "      <td>0.323328</td>\n",
       "      <td>1.051164</td>\n",
       "      <td>3.121237</td>\n",
       "      <td>21.744669</td>\n",
       "      <td>7.735822</td>\n",
       "      <td>63.171909</td>\n",
       "      <td>0</td>\n",
       "    </tr>\n",
       "    <tr>\n",
       "      <td>3</td>\n",
       "      <td>136.750000</td>\n",
       "      <td>57.178449</td>\n",
       "      <td>-0.068415</td>\n",
       "      <td>-0.636238</td>\n",
       "      <td>3.642977</td>\n",
       "      <td>20.959280</td>\n",
       "      <td>6.896499</td>\n",
       "      <td>53.593661</td>\n",
       "      <td>0</td>\n",
       "    </tr>\n",
       "    <tr>\n",
       "      <td>4</td>\n",
       "      <td>88.726562</td>\n",
       "      <td>40.672225</td>\n",
       "      <td>0.600866</td>\n",
       "      <td>1.123492</td>\n",
       "      <td>1.178930</td>\n",
       "      <td>11.468720</td>\n",
       "      <td>14.269573</td>\n",
       "      <td>252.567306</td>\n",
       "      <td>0</td>\n",
       "    </tr>\n",
       "  </tbody>\n",
       "</table>\n",
       "</div>"
      ],
      "text/plain": [
       "   mean_integrated_profile  std_integrated_profile  \\\n",
       "0               140.562500               55.683782   \n",
       "1               102.507812               58.882430   \n",
       "2               103.015625               39.341649   \n",
       "3               136.750000               57.178449   \n",
       "4                88.726562               40.672225   \n",
       "\n",
       "   excess_kurtosis_integrated_profile  skewness_integrated_profile  \\\n",
       "0                           -0.234571                    -0.699648   \n",
       "1                            0.465318                    -0.515088   \n",
       "2                            0.323328                     1.051164   \n",
       "3                           -0.068415                    -0.636238   \n",
       "4                            0.600866                     1.123492   \n",
       "\n",
       "   mean_dmsnr  std_dmsnr  excess_kurtosis_dmsnr  skewness_dmsnr  is_pulsar  \n",
       "0    3.199833  19.110426               7.975532       74.242225          0  \n",
       "1    1.677258  14.860146              10.576487      127.393580          0  \n",
       "2    3.121237  21.744669               7.735822       63.171909          0  \n",
       "3    3.642977  20.959280               6.896499       53.593661          0  \n",
       "4    1.178930  11.468720              14.269573      252.567306          0  "
      ]
     },
     "execution_count": 3,
     "metadata": {},
     "output_type": "execute_result"
    }
   ],
   "source": [
    "df = pd.read_csv(\n",
    "    os.path.join(\"data\", \"HTRU_2.csv\"),\n",
    "    header=None,\n",
    "    names=[\n",
    "        \"mean_integrated_profile\",\n",
    "        \"std_integrated_profile\",\n",
    "        \"excess_kurtosis_integrated_profile\",\n",
    "        \"skewness_integrated_profile\",\n",
    "        \"mean_dmsnr\",\n",
    "        \"std_dmsnr\",\n",
    "        \"excess_kurtosis_dmsnr\",\n",
    "        \"skewness_dmsnr\",\n",
    "        \"is_pulsar\",\n",
    "    ]\n",
    ")\n",
    "df.head()"
   ]
  },
  {
   "cell_type": "markdown",
   "metadata": {
    "Collapsed": "false",
    "slideshow": {
     "slide_type": "slide"
    }
   },
   "source": [
    "<a id='descr_stat'></a>"
   ]
  },
  {
   "cell_type": "markdown",
   "metadata": {
    "Collapsed": "false"
   },
   "source": [
    "## Estadística Descriptiva"
   ]
  },
  {
   "cell_type": "markdown",
   "metadata": {
    "Collapsed": "false"
   },
   "source": [
    "* Dar una pequeña definición de las columnas (_features_).\n",
    "* Análisis descriptivo.\n",
    "* Valores atípicos.\n",
    "* Análisis específico a la variable _target_."
   ]
  },
  {
   "cell_type": "markdown",
   "metadata": {
    "Collapsed": "false"
   },
   "source": [
    "* Las columnas relacionadas con integrated_profile, muestran el promedio, la desviacion estandar,\n",
    "la curtosis y la oblicuidad del las longitud determinada de señales que fueron promediadas tanto en tiempo como en frecuencia. Las columnas relacionadas con dmrst mide el promedio, la desviacion estandar,\n",
    "la curtosis y la oblicuidad de la relacion (determinada con una curva) entre la dm y s/t.\n",
    "La columna is_pulsar entrega una clasificacion, si los datos medidos corresponden a un pulsar, o no.\n",
    "* La idea de que a partir de los datos que se entregan, determinar si a partir de los datos conseguidos anteriormente, se puede clasificar entre pulsar y no pulsar. La data tiene un total de 17897 donde 1,639 no son pulsar y 16,259 si lo son.\n",
    "* Con un analisis rapido de los datos, no se puede determinar si existen datos atípicos en las 8 columnas de la Data.\n",
    "* A simple vista, la variable target correspondiente a la columna is_pulsar, corresponde a una variable binaria que entrega una etiqueta, ya que clasifica a los datos en pulsar y no pulsar. "
   ]
  },
  {
   "cell_type": "code",
   "execution_count": 4,
   "metadata": {},
   "outputs": [
    {
     "name": "stdout",
     "output_type": "stream",
     "text": [
      "<class 'pandas.core.frame.DataFrame'>\n",
      "RangeIndex: 17898 entries, 0 to 17897\n",
      "Data columns (total 9 columns):\n",
      "mean_integrated_profile               17898 non-null float64\n",
      "std_integrated_profile                17898 non-null float64\n",
      "excess_kurtosis_integrated_profile    17898 non-null float64\n",
      "skewness_integrated_profile           17898 non-null float64\n",
      "mean_dmsnr                            17898 non-null float64\n",
      "std_dmsnr                             17898 non-null float64\n",
      "excess_kurtosis_dmsnr                 17898 non-null float64\n",
      "skewness_dmsnr                        17898 non-null float64\n",
      "is_pulsar                             17898 non-null int64\n",
      "dtypes: float64(8), int64(1)\n",
      "memory usage: 1.2 MB\n"
     ]
    }
   ],
   "source": [
    "df.info()"
   ]
  },
  {
   "cell_type": "markdown",
   "metadata": {
    "Collapsed": "false",
    "slideshow": {
     "slide_type": "slide"
    }
   },
   "source": [
    "<a id='visualization'></a>"
   ]
  },
  {
   "cell_type": "code",
   "execution_count": 10,
   "metadata": {},
   "outputs": [
    {
     "data": {
      "text/html": [
       "<div>\n",
       "<style scoped>\n",
       "    .dataframe tbody tr th:only-of-type {\n",
       "        vertical-align: middle;\n",
       "    }\n",
       "\n",
       "    .dataframe tbody tr th {\n",
       "        vertical-align: top;\n",
       "    }\n",
       "\n",
       "    .dataframe thead th {\n",
       "        text-align: right;\n",
       "    }\n",
       "</style>\n",
       "<table border=\"1\" class=\"dataframe\">\n",
       "  <thead>\n",
       "    <tr style=\"text-align: right;\">\n",
       "      <th></th>\n",
       "      <th>mean_integrated_profile</th>\n",
       "      <th>std_integrated_profile</th>\n",
       "      <th>excess_kurtosis_integrated_profile</th>\n",
       "      <th>skewness_integrated_profile</th>\n",
       "      <th>mean_dmsnr</th>\n",
       "      <th>std_dmsnr</th>\n",
       "      <th>excess_kurtosis_dmsnr</th>\n",
       "      <th>skewness_dmsnr</th>\n",
       "      <th>is_pulsar</th>\n",
       "    </tr>\n",
       "  </thead>\n",
       "  <tbody>\n",
       "    <tr>\n",
       "      <td>count</td>\n",
       "      <td>17898.000000</td>\n",
       "      <td>17898.000000</td>\n",
       "      <td>17898.000000</td>\n",
       "      <td>17898.000000</td>\n",
       "      <td>17898.000000</td>\n",
       "      <td>17898.000000</td>\n",
       "      <td>17898.000000</td>\n",
       "      <td>17898.000000</td>\n",
       "      <td>17898.000000</td>\n",
       "    </tr>\n",
       "    <tr>\n",
       "      <td>mean</td>\n",
       "      <td>111.079968</td>\n",
       "      <td>46.549532</td>\n",
       "      <td>0.477857</td>\n",
       "      <td>1.770279</td>\n",
       "      <td>12.614400</td>\n",
       "      <td>26.326515</td>\n",
       "      <td>8.303556</td>\n",
       "      <td>104.857709</td>\n",
       "      <td>0.091574</td>\n",
       "    </tr>\n",
       "    <tr>\n",
       "      <td>std</td>\n",
       "      <td>25.652935</td>\n",
       "      <td>6.843189</td>\n",
       "      <td>1.064040</td>\n",
       "      <td>6.167913</td>\n",
       "      <td>29.472897</td>\n",
       "      <td>19.470572</td>\n",
       "      <td>4.506092</td>\n",
       "      <td>106.514540</td>\n",
       "      <td>0.288432</td>\n",
       "    </tr>\n",
       "    <tr>\n",
       "      <td>min</td>\n",
       "      <td>5.812500</td>\n",
       "      <td>24.772042</td>\n",
       "      <td>-1.876011</td>\n",
       "      <td>-1.791886</td>\n",
       "      <td>0.213211</td>\n",
       "      <td>7.370432</td>\n",
       "      <td>-3.139270</td>\n",
       "      <td>-1.976976</td>\n",
       "      <td>0.000000</td>\n",
       "    </tr>\n",
       "    <tr>\n",
       "      <td>25%</td>\n",
       "      <td>100.929688</td>\n",
       "      <td>42.376018</td>\n",
       "      <td>0.027098</td>\n",
       "      <td>-0.188572</td>\n",
       "      <td>1.923077</td>\n",
       "      <td>14.437332</td>\n",
       "      <td>5.781506</td>\n",
       "      <td>34.960504</td>\n",
       "      <td>0.000000</td>\n",
       "    </tr>\n",
       "    <tr>\n",
       "      <td>50%</td>\n",
       "      <td>115.078125</td>\n",
       "      <td>46.947479</td>\n",
       "      <td>0.223240</td>\n",
       "      <td>0.198710</td>\n",
       "      <td>2.801839</td>\n",
       "      <td>18.461316</td>\n",
       "      <td>8.433515</td>\n",
       "      <td>83.064556</td>\n",
       "      <td>0.000000</td>\n",
       "    </tr>\n",
       "    <tr>\n",
       "      <td>75%</td>\n",
       "      <td>127.085938</td>\n",
       "      <td>51.023202</td>\n",
       "      <td>0.473325</td>\n",
       "      <td>0.927783</td>\n",
       "      <td>5.464256</td>\n",
       "      <td>28.428104</td>\n",
       "      <td>10.702959</td>\n",
       "      <td>139.309331</td>\n",
       "      <td>0.000000</td>\n",
       "    </tr>\n",
       "    <tr>\n",
       "      <td>max</td>\n",
       "      <td>192.617188</td>\n",
       "      <td>98.778911</td>\n",
       "      <td>8.069522</td>\n",
       "      <td>68.101622</td>\n",
       "      <td>223.392140</td>\n",
       "      <td>110.642211</td>\n",
       "      <td>34.539844</td>\n",
       "      <td>1191.000837</td>\n",
       "      <td>1.000000</td>\n",
       "    </tr>\n",
       "  </tbody>\n",
       "</table>\n",
       "</div>"
      ],
      "text/plain": [
       "       mean_integrated_profile  std_integrated_profile  \\\n",
       "count             17898.000000            17898.000000   \n",
       "mean                111.079968               46.549532   \n",
       "std                  25.652935                6.843189   \n",
       "min                   5.812500               24.772042   \n",
       "25%                 100.929688               42.376018   \n",
       "50%                 115.078125               46.947479   \n",
       "75%                 127.085938               51.023202   \n",
       "max                 192.617188               98.778911   \n",
       "\n",
       "       excess_kurtosis_integrated_profile  skewness_integrated_profile  \\\n",
       "count                        17898.000000                 17898.000000   \n",
       "mean                             0.477857                     1.770279   \n",
       "std                              1.064040                     6.167913   \n",
       "min                             -1.876011                    -1.791886   \n",
       "25%                              0.027098                    -0.188572   \n",
       "50%                              0.223240                     0.198710   \n",
       "75%                              0.473325                     0.927783   \n",
       "max                              8.069522                    68.101622   \n",
       "\n",
       "         mean_dmsnr     std_dmsnr  excess_kurtosis_dmsnr  skewness_dmsnr  \\\n",
       "count  17898.000000  17898.000000           17898.000000    17898.000000   \n",
       "mean      12.614400     26.326515               8.303556      104.857709   \n",
       "std       29.472897     19.470572               4.506092      106.514540   \n",
       "min        0.213211      7.370432              -3.139270       -1.976976   \n",
       "25%        1.923077     14.437332               5.781506       34.960504   \n",
       "50%        2.801839     18.461316               8.433515       83.064556   \n",
       "75%        5.464256     28.428104              10.702959      139.309331   \n",
       "max      223.392140    110.642211              34.539844     1191.000837   \n",
       "\n",
       "          is_pulsar  \n",
       "count  17898.000000  \n",
       "mean       0.091574  \n",
       "std        0.288432  \n",
       "min        0.000000  \n",
       "25%        0.000000  \n",
       "50%        0.000000  \n",
       "75%        0.000000  \n",
       "max        1.000000  "
      ]
     },
     "execution_count": 10,
     "metadata": {},
     "output_type": "execute_result"
    }
   ],
   "source": [
    "df.describe()"
   ]
  },
  {
   "cell_type": "code",
   "execution_count": 115,
   "metadata": {},
   "outputs": [
    {
     "data": {
      "text/plain": [
       "205.5546875"
      ]
     },
     "execution_count": 115,
     "metadata": {},
     "output_type": "execute_result"
    }
   ],
   "source": [
    "from scipy import stats\n",
    "\n",
    "#Busqueda de outliers con rango intercuartil\n",
    "\n",
    "Q1 = df.describe().T[\"25%\"] #Cuartil 1\n",
    "Q3 = df.describe().T[\"75%\"] # Cuartil 3\n",
    "RIQ = Q3 - Q1 #Rango intercuartil\n",
    "LI = Q1 - 3*RIQ\n",
    "LS = Q3 + 3*RIQ\n",
    "#df[[\"mean_integrated_profile\"]].loc[(df[\"mean_integrated_profile\"] < LI[\"mean_integrated_profile\"])|(df[\"mean_integrated_profile\"] > LS[\"mean_integrated_profile\"])]\n",
    "LS[\"mean_integrated_profile\"]\n"
   ]
  },
  {
   "cell_type": "code",
   "execution_count": 114,
   "metadata": {},
   "outputs": [
    {
     "data": {
      "text/plain": [
       "155.74289062499997"
      ]
     },
     "execution_count": 114,
     "metadata": {},
     "output_type": "execute_result"
    }
   ],
   "source": [
    "#Busqueda de Outliers con cuartiles del 1% y 99%\n",
    "feature = df[\"mean_integrated_profile\"]\n",
    "q_low = feature.quantile(0.01)\n",
    "q_hi = feature.quantile(0.99)\n",
    "#pd.DataFrame(feature.loc[(feature<q_low)|(feature>q_hi)])\n",
    "q_hi"
   ]
  },
  {
   "cell_type": "markdown",
   "metadata": {
    "Collapsed": "false"
   },
   "source": [
    "## Visualización"
   ]
  },
  {
   "cell_type": "markdown",
   "metadata": {
    "Collapsed": "false"
   },
   "source": [
    "* Histogramas.\n",
    "* Scatter matrix coloreando por el _target_.\n",
    "* Mapa de calor con correlación entre variables.\n",
    "\n",
    "Puedes utilizar `matplotlib` o `altair`, como sea de tu preferencia."
   ]
  },
  {
   "cell_type": "code",
   "execution_count": 6,
   "metadata": {
    "Collapsed": "false"
   },
   "outputs": [],
   "source": [
    "import altair as alt\n",
    "import matplotlib.pyplot as plt\n",
    "\n",
    "alt.themes.enable(\"opaque\")\n",
    "\n",
    "%matplotlib inline"
   ]
  },
  {
   "cell_type": "code",
   "execution_count": 81,
   "metadata": {
    "Collapsed": "false"
   },
   "outputs": [
    {
     "data": {
      "image/png": "[encoded data removed]",
      "text/plain": [
       "<Figure size 720x1440 with 8 Axes>"
      ]
     },
     "metadata": {
      "needs_background": "light"
     },
     "output_type": "display_data"
    }
   ],
   "source": [
    "\n",
    "columns = df.columns #Obtener los nombres de las columnas\n",
    "\n",
    "#Histogramas\n",
    "nx , ny = (4,2)\n",
    "fig , axs = plt.subplots(4,2,figsize=(10, 20))\n",
    "for n in range(nx*ny):\n",
    "    axs[int(n/2),n%2].set_title(\"Histograma de \"+columns[n])\n",
    "    axs[int(n/2),n%2].hist(df[columns[n]])\n",
    "    \n",
    "# MEJORAR HISTOGRAMAS\n",
    "# FALTAN SCATTER\n",
    "# FALTAN MAPAS DE CALOR\n",
    "# FALTA COMENTAR"
   ]
  },
  {
   "cell_type": "markdown",
   "metadata": {
    "Collapsed": "false",
    "slideshow": {
     "slide_type": "slide"
    }
   },
   "source": [
    "<a id='preprocessing'></a>"
   ]
  },
  {
   "cell_type": "markdown",
   "metadata": {
    "Collapsed": "false"
   },
   "source": [
    "## Preprocesamiento"
   ]
  },
  {
   "cell_type": "markdown",
   "metadata": {
    "Collapsed": "false"
   },
   "source": [
    "Es hora de preparar los datos para la selección de modelos. Se solicita que:\n",
    "\n",
    "* Crear el _numpy.array_ `X_raw` con las columnas predictoras de `df`.\n",
    "* Crear el _numpy.array_ `y` con la columna a predecir de `df`.\n",
    "* Definir un _transformer_ `StandarScaler` declarado como `scaler`, luego ajustar con los datos de `X_raw`.\n",
    "* Definir el _numpy.array_ `X` luego de transformar los datos de `X_raw` con `scaler`. Verificar que tenga media nula y desviación estándar unitaria.\n",
    "* Dividir la data en _train_ (90%) y _test_ (10%) utilizando como argumento `random_state=42`."
   ]
  },
  {
   "cell_type": "code",
   "execution_count": 122,
   "metadata": {
    "Collapsed": "false"
   },
   "outputs": [],
   "source": [
    "from sklearn.preprocessing import StandardScaler\n",
    "from sklearn.model_selection import train_test_split"
   ]
  },
  {
   "cell_type": "code",
   "execution_count": 123,
   "metadata": {
    "Collapsed": "false"
   },
   "outputs": [],
   "source": [
    "X_raw = df.drop(columns = \"is_pulsar\").values\n",
    "y = df[\"is_pulsar\"].values"
   ]
  },
  {
   "cell_type": "code",
   "execution_count": 140,
   "metadata": {
    "Collapsed": "false"
   },
   "outputs": [
    {
     "name": "stdout",
     "output_type": "stream",
     "text": [
      "Media = [-0. -0.  0.  0. -0.  0.  0.  0.] \n",
      "\n",
      "Desviacion estandar = [1. 1. 1. 1. 1. 1. 1. 1.]\n"
     ]
    }
   ],
   "source": [
    "scaler = StandardScaler()\n",
    "X = scaler.fit_transform(X_raw)\n",
    "print(f\"Media = {X.mean(axis=0).round(3)} \\n\")\n",
    "print(f\"Desviacion estandar = {X.std(axis=0)}\")"
   ]
  },
  {
   "cell_type": "code",
   "execution_count": null,
   "metadata": {
    "Collapsed": "false"
   },
   "outputs": [],
   "source": [
    "## FREE STYLE ##"
   ]
  },
  {
   "cell_type": "code",
   "execution_count": 141,
   "metadata": {
    "Collapsed": "false"
   },
   "outputs": [],
   "source": [
    "X_train, X_test, y_train, y_test = train_test_split(X,y, train_size=0.9,test_size=0.1, random_state = 42)"
   ]
  },
  {
   "cell_type": "markdown",
   "metadata": {
    "Collapsed": "false",
    "slideshow": {
     "slide_type": "slide"
    }
   },
   "source": [
    "<a id='logistic'></a>"
   ]
  },
  {
   "cell_type": "markdown",
   "metadata": {
    "Collapsed": "false"
   },
   "source": [
    "## Regresión Logística"
   ]
  },
  {
   "cell_type": "markdown",
   "metadata": {
    "Collapsed": "false"
   },
   "source": [
    "Utiliza la función `cross_validate` con el estimador `logistic` para realizar una estimación del _score_"
   ]
  },
  {
   "cell_type": "code",
   "execution_count": null,
   "metadata": {
    "Collapsed": "false"
   },
   "outputs": [],
   "source": [
    "from sklearn.model_selection import cross_validate\n",
    "from sklearn.linear_model import LogisticRegression"
   ]
  },
  {
   "cell_type": "code",
   "execution_count": null,
   "metadata": {
    "Collapsed": "false"
   },
   "outputs": [],
   "source": [
    "logistic = ## FIX ME ##\n",
    "logistic_cv = ## FIX ME ##"
   ]
  },
  {
   "cell_type": "code",
   "execution_count": null,
   "metadata": {
    "Collapsed": "false"
   },
   "outputs": [],
   "source": [
    "print(f'Logistic Regression Cross Validation precision score: {np.mean(logistic_cv[\"test_score\"]):.2f} +/- {np.std(logistic_cv[\"test_score\"]):.2f}')"
   ]
  },
  {
   "cell_type": "code",
   "execution_count": null,
   "metadata": {
    "Collapsed": "false"
   },
   "outputs": [],
   "source": [
    "logistic.## FIX ME ##"
   ]
  },
  {
   "cell_type": "markdown",
   "metadata": {
    "Collapsed": "false",
    "slideshow": {
     "slide_type": "slide"
    }
   },
   "source": [
    "<a id='knn'></a>"
   ]
  },
  {
   "cell_type": "markdown",
   "metadata": {
    "Collapsed": "false"
   },
   "source": [
    "## K Nearest Neighbours"
   ]
  },
  {
   "cell_type": "markdown",
   "metadata": {
    "Collapsed": "false"
   },
   "source": [
    "Utiliza `GridSearchCV` para encontrar el mejor valor de `n_neighbors`. Luego, con el mejor _estimator_ de `knn` realiza la validación cruzada para obtener el intervalo de confianza del _score_."
   ]
  },
  {
   "cell_type": "code",
   "execution_count": null,
   "metadata": {
    "Collapsed": "false"
   },
   "outputs": [],
   "source": [
    "from sklearn.model_selection import GridSearchCV\n",
    "from sklearn.neighbors import KNeighborsClassifier"
   ]
  },
  {
   "cell_type": "code",
   "execution_count": null,
   "metadata": {
    "Collapsed": "false"
   },
   "outputs": [],
   "source": [
    "## FIX ME ##\n",
    "knn = ## FIX ME ##"
   ]
  },
  {
   "cell_type": "code",
   "execution_count": null,
   "metadata": {
    "Collapsed": "false"
   },
   "outputs": [],
   "source": [
    "## FRE STYLE ##"
   ]
  },
  {
   "cell_type": "code",
   "execution_count": null,
   "metadata": {
    "Collapsed": "false"
   },
   "outputs": [],
   "source": [
    "knn_cv = ## FIX ME ##"
   ]
  },
  {
   "cell_type": "code",
   "execution_count": null,
   "metadata": {
    "Collapsed": "false"
   },
   "outputs": [],
   "source": [
    "print(f'KNN Cross Validation precision score: {np.mean(knn_cv[\"test_score\"]):.2f} +/- {np.std(knn_cv[\"test_score\"]):.2f} with train data.')"
   ]
  },
  {
   "cell_type": "markdown",
   "metadata": {
    "Collapsed": "false",
    "slideshow": {
     "slide_type": "slide"
    }
   },
   "source": [
    "<a id='free_style'></a>"
   ]
  },
  {
   "cell_type": "markdown",
   "metadata": {
    "Collapsed": "false"
   },
   "source": [
    "## Modelo a elección"
   ]
  },
  {
   "cell_type": "markdown",
   "metadata": {
    "Collapsed": "false"
   },
   "source": [
    "* Escoge un modelo de clasificación de [aquí](https://scikit-learn.org/stable/supervised_learning.html#supervised-learning) que por lo menos tenga un hiperparámetro, por ejemplo, [sklearn.svm.SVC](https://scikit-learn.org/stable/modules/generated/sklearn.svm.SVC.html#sklearn.svm.SVC) tiene el parámetro de regularización `C`.\n",
    "* Explica en uno o dos párrafos en qué consiste el algoritmo/modelo.\n",
    "* Al igual que KNN, encuentra el/los mejores valores para los hiperparámetros.\n",
    "* Con el mejor estimador realiza _Cross Validation_ con los datos de entrenamiento.\n",
    "* Calcula el intervalo de confianza de _precision_."
   ]
  },
  {
   "cell_type": "code",
   "execution_count": null,
   "metadata": {
    "Collapsed": "false"
   },
   "outputs": [],
   "source": [
    "my_model = ## FIX ME ##"
   ]
  },
  {
   "cell_type": "code",
   "execution_count": null,
   "metadata": {
    "Collapsed": "false"
   },
   "outputs": [],
   "source": [
    "my_model_cv = ## FIX ME ##"
   ]
  },
  {
   "cell_type": "code",
   "execution_count": null,
   "metadata": {
    "Collapsed": "false"
   },
   "outputs": [],
   "source": [
    "## FRE STYLE ##"
   ]
  },
  {
   "cell_type": "code",
   "execution_count": null,
   "metadata": {
    "Collapsed": "false"
   },
   "outputs": [],
   "source": [
    "print(f'MY MODEL Cross Validation precision score: {np.mean(my_model_cv[\"test_score\"]):.2f} +/- {np.std(my_model_cv[\"test_score\"]):.2f} with train data.')"
   ]
  },
  {
   "cell_type": "markdown",
   "metadata": {
    "Collapsed": "false",
    "slideshow": {
     "slide_type": "slide"
    }
   },
   "source": [
    "<a id='model_selection'></a>"
   ]
  },
  {
   "cell_type": "markdown",
   "metadata": {
    "Collapsed": "false"
   },
   "source": [
    "## Selección de Modelo"
   ]
  },
  {
   "cell_type": "markdown",
   "metadata": {
    "Collapsed": "false"
   },
   "source": [
    "* Compara la _precision_ entre cada uno de los modelos.\n",
    "* Grafica la matriz de confusión para cada uno de los modelos.\n",
    "* Calcula un intervalo de confianza del tiempo utilizado en el ajuste de cada modelo. Ver documentación de `cross_validate`.\n",
    "* Gráficos o reportes adicionales."
   ]
  },
  {
   "cell_type": "code",
   "execution_count": null,
   "metadata": {
    "Collapsed": "false"
   },
   "outputs": [],
   "source": [
    "from sklearn.metrics import precision_score, classification_report"
   ]
  },
  {
   "cell_type": "code",
   "execution_count": null,
   "metadata": {
    "Collapsed": "false"
   },
   "outputs": [],
   "source": [
    "print(f'Logistic Regression test precision score: {## FRE STYLE ##}')"
   ]
  },
  {
   "cell_type": "code",
   "execution_count": null,
   "metadata": {
    "Collapsed": "false"
   },
   "outputs": [],
   "source": [
    "print(f'KNN test precision score: {## FRE STYLE ##}')"
   ]
  },
  {
   "cell_type": "code",
   "execution_count": null,
   "metadata": {
    "Collapsed": "false"
   },
   "outputs": [],
   "source": [
    "print(f'MY MODEL test precision score: {## FRE STYLE ##}')"
   ]
  },
  {
   "cell_type": "code",
   "execution_count": null,
   "metadata": {
    "Collapsed": "false"
   },
   "outputs": [],
   "source": [
    "## FREE STYLE ##"
   ]
  },
  {
   "cell_type": "markdown",
   "metadata": {
    "Collapsed": "false",
    "slideshow": {
     "slide_type": "slide"
    }
   },
   "source": [
    "<a id='conclusions'></a>"
   ]
  },
  {
   "cell_type": "markdown",
   "metadata": {
    "Collapsed": "false"
   },
   "source": [
    "## Conclusiones"
   ]
  },
  {
   "cell_type": "markdown",
   "metadata": {
    "Collapsed": "false"
   },
   "source": [
    "Entrega tu veredicto, responde las preguntas iniciales, visualizaciones, trabajos futuros, dificultados, etc."
   ]
  },
  {
   "cell_type": "code",
   "execution_count": null,
   "metadata": {
    "Collapsed": "false"
   },
   "outputs": [],
   "source": [
    "## FRE STYLE ##"
   ]
  }
 ],
 "metadata": {
  "celltoolbar": "Slideshow",
  "kernelspec": {
   "display_name": "Python 3",
   "language": "python",
   "name": "python3"
  },
  "language_info": {
   "codemirror_mode": {
    "name": "ipython",
    "version": 3
   },
   "file_extension": ".py",
   "mimetype": "text/x-python",
   "name": "python",
   "nbconvert_exporter": "python",
   "pygments_lexer": "ipython3",
   "version": "3.7.6"
  }
 },
 "nbformat": 4,
 "nbformat_minor": 4
}
