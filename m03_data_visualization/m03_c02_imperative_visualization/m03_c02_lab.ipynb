{
 "cells": [
  {
   "cell_type": "markdown",
   "metadata": {
    "slideshow": {
     "slide_type": "slide"
    }
   },
   "source": [
    "<img src=\"https://upload.wikimedia.org/wikipedia/commons/4/47/Logo_UTFSM.png\" width=\"200\" alt=\"utfsm-logo\" align=\"left\"/>\n",
    "\n",
    "# MAT281\n",
    "### Aplicaciones de la Matemática en la Ingeniería"
   ]
  },
  {
   "cell_type": "markdown",
   "metadata": {
    "slideshow": {
     "slide_type": "slide"
    }
   },
   "source": [
    "## Módulo 03\n",
    "## Laboratorio Clase 02: Visualización Imperativa"
   ]
  },
  {
   "cell_type": "markdown",
   "metadata": {},
   "source": [
    "### Instrucciones\n",
    "\n",
    "\n",
    "* Completa tus datos personales (nombre y rol USM) en siguiente celda.\n",
    "* La escala es de 0 a 4 considerando solo valores enteros.\n",
    "* Debes _pushear_ tus cambios a tu repositorio personal del curso.\n",
    "* Como respaldo, debes enviar un archivo .zip con el siguiente formato `mXX_cYY_lab_apellido_nombre.zip` a alonso.ogueda@gmail.com, debe contener todo lo necesario para que se ejecute correctamente cada celda, ya sea datos, imágenes, scripts, etc.\n",
    "* Se evaluará:\n",
    "    - Soluciones\n",
    "    - Código\n",
    "    - Que Binder esté bien configurado.\n",
    "    - Al presionar  `Kernel -> Restart Kernel and Run All Cells` deben ejecutarse todas las celdas sin error.\n",
    "* __La entrega es al final de esta clase.__"
   ]
  },
  {
   "cell_type": "markdown",
   "metadata": {},
   "source": [
    "__Nombre__: Ike Mercado Huanaque\n",
    "\n",
    "__Rol__: 201610025-3"
   ]
  },
  {
   "cell_type": "markdown",
   "metadata": {},
   "source": [
    "## Datos: _European Union lesbian, gay, bisexual and transgender survey (2012)_\n",
    "\n",
    "Link a los datos [aquí](https://www.kaggle.com/ruslankl/european-union-lgbt-survey-2012).\n",
    "\n",
    "### Contexto\n",
    "\n",
    "La FRA (Agencia de Derechos Fundamentales) realizó una encuesta en línea para identificar cómo las personas lesbianas, gays, bisexuales y transgénero (LGBT) que viven en la Unión Europea y Croacia experimentan el cumplimiento de sus derechos fundamentales. La evidencia producida por la encuesta apoyará el desarrollo de leyes y políticas más efectivas para combatir la discriminación, la violencia y el acoso, mejorando la igualdad de trato en toda la sociedad. La necesidad de una encuesta de este tipo en toda la UE se hizo evidente después de la publicación en 2009 del primer informe de la FRA sobre la homofobia y la discriminación por motivos de orientación sexual o identidad de género, que destacó la ausencia de datos comparables. La Comisión Europea solicitó a FRA que recopilara datos comparables en toda la UE sobre este tema. FRA organizó la recopilación de datos en forma de una encuesta en línea que abarca todos los Estados miembros de la UE y Croacia. Los encuestados eran personas mayores de 18 años, que se identifican como lesbianas, homosexuales, bisexuales o transgénero, de forma anónima. La encuesta se hizo disponible en línea, de abril a julio de 2012, en los 23 idiomas oficiales de la UE (excepto irlandés) más catalán, croata, luxemburgués, ruso y turco. En total, 93,079 personas LGBT completaron la encuesta. Los expertos internos de FRA diseñaron la encuesta que fue implementada por Gallup, uno de los líderes del mercado en encuestas a gran escala. Además, organizaciones de la sociedad civil como ILGA-Europa (Región Europea de la Asociación Internacional de Lesbianas, Gays, Bisexuales, Trans e Intersexuales) y Transgender Europe (TGEU) brindaron asesoramiento sobre cómo acercarse mejor a las personas LGBT.\n",
    "\n",
    "Puede encontrar más información sobre la metodología de la encuesta en el [__Informe técnico de la encuesta LGBT de la UE. Metodología, encuesta en línea, cuestionario y muestra__](https://fra.europa.eu/sites/default/files/eu-lgbt-survey-technical-report_en.pdf).\n",
    "\n",
    "### Contenido\n",
    "\n",
    "El conjunto de datos consta de 5 archivos .csv que representan 5 bloques de preguntas: vida cotidiana, discriminación, violencia y acoso, conciencia de los derechos, preguntas específicas de personas transgénero.\n",
    "\n",
    "El esquema de todas las tablas es idéntico:\n",
    "\n",
    "* `CountryCode` - name of the country\n",
    "* `subset` - Lesbian, Gay, Bisexual women, Bisexual men or Transgender (for Transgender Specific Questions table the value is only Transgender)\n",
    "* `question_code` - unique code ID for the question\n",
    "* `question_label` - full question text\n",
    "* `answer` - answer given\n",
    "* `percentage`\n",
    "* `notes` - [0]: small sample size; [1]: NA due to small sample size; [2]: missing value\n",
    "\n",
    "En el laboratorio de hoy solo utilizaremos los relacionados a la vida cotidiana, disponibles en el archivo `LGBT_Survey_DailyLife.csv` dentro de la carpeta `data`."
   ]
  },
  {
   "cell_type": "code",
   "execution_count": 1,
   "metadata": {},
   "outputs": [],
   "source": [
    "import os\n",
    "import numpy as np\n",
    "import pandas as pd\n",
    "import matplotlib.pyplot as plt\n",
    "\n",
    "%matplotlib inline"
   ]
  },
  {
   "cell_type": "code",
   "execution_count": 2,
   "metadata": {},
   "outputs": [
    {
     "data": {
      "text/html": [
       "<div>\n",
       "<style scoped>\n",
       "    .dataframe tbody tr th:only-of-type {\n",
       "        vertical-align: middle;\n",
       "    }\n",
       "\n",
       "    .dataframe tbody tr th {\n",
       "        vertical-align: top;\n",
       "    }\n",
       "\n",
       "    .dataframe thead th {\n",
       "        text-align: right;\n",
       "    }\n",
       "</style>\n",
       "<table border=\"1\" class=\"dataframe\">\n",
       "  <thead>\n",
       "    <tr style=\"text-align: right;\">\n",
       "      <th></th>\n",
       "      <th>CountryCode</th>\n",
       "      <th>subset</th>\n",
       "      <th>question_code</th>\n",
       "      <th>question_label</th>\n",
       "      <th>answer</th>\n",
       "      <th>percentage</th>\n",
       "      <th>notes</th>\n",
       "    </tr>\n",
       "  </thead>\n",
       "  <tbody>\n",
       "    <tr>\n",
       "      <td>0</td>\n",
       "      <td>Austria</td>\n",
       "      <td>Lesbian</td>\n",
       "      <td>b1_a</td>\n",
       "      <td>In your opinion, how widespread is offensive l...</td>\n",
       "      <td>Very widespread</td>\n",
       "      <td>8</td>\n",
       "      <td>NaN</td>\n",
       "    </tr>\n",
       "    <tr>\n",
       "      <td>1</td>\n",
       "      <td>Austria</td>\n",
       "      <td>Lesbian</td>\n",
       "      <td>b1_a</td>\n",
       "      <td>In your opinion, how widespread is offensive l...</td>\n",
       "      <td>Fairly widespread</td>\n",
       "      <td>34</td>\n",
       "      <td>NaN</td>\n",
       "    </tr>\n",
       "    <tr>\n",
       "      <td>2</td>\n",
       "      <td>Austria</td>\n",
       "      <td>Lesbian</td>\n",
       "      <td>b1_a</td>\n",
       "      <td>In your opinion, how widespread is offensive l...</td>\n",
       "      <td>Fairly rare</td>\n",
       "      <td>45</td>\n",
       "      <td>NaN</td>\n",
       "    </tr>\n",
       "    <tr>\n",
       "      <td>3</td>\n",
       "      <td>Austria</td>\n",
       "      <td>Lesbian</td>\n",
       "      <td>b1_a</td>\n",
       "      <td>In your opinion, how widespread is offensive l...</td>\n",
       "      <td>Very rare</td>\n",
       "      <td>9</td>\n",
       "      <td>NaN</td>\n",
       "    </tr>\n",
       "    <tr>\n",
       "      <td>4</td>\n",
       "      <td>Austria</td>\n",
       "      <td>Lesbian</td>\n",
       "      <td>b1_a</td>\n",
       "      <td>In your opinion, how widespread is offensive l...</td>\n",
       "      <td>Don`t know</td>\n",
       "      <td>4</td>\n",
       "      <td>[0]</td>\n",
       "    </tr>\n",
       "  </tbody>\n",
       "</table>\n",
       "</div>"
      ],
      "text/plain": [
       "  CountryCode   subset question_code  \\\n",
       "0     Austria  Lesbian          b1_a   \n",
       "1     Austria  Lesbian          b1_a   \n",
       "2     Austria  Lesbian          b1_a   \n",
       "3     Austria  Lesbian          b1_a   \n",
       "4     Austria  Lesbian          b1_a   \n",
       "\n",
       "                                      question_label             answer  \\\n",
       "0  In your opinion, how widespread is offensive l...    Very widespread   \n",
       "1  In your opinion, how widespread is offensive l...  Fairly widespread   \n",
       "2  In your opinion, how widespread is offensive l...        Fairly rare   \n",
       "3  In your opinion, how widespread is offensive l...          Very rare   \n",
       "4  In your opinion, how widespread is offensive l...         Don`t know   \n",
       "\n",
       "  percentage notes  \n",
       "0          8   NaN  \n",
       "1         34   NaN  \n",
       "2         45   NaN  \n",
       "3          9   NaN  \n",
       "4          4   [0]  "
      ]
     },
     "execution_count": 2,
     "metadata": {},
     "output_type": "execute_result"
    }
   ],
   "source": [
    "daily_life_raw = pd.read_csv(os.path.join(\"data\", \"LGBT_Survey_DailyLife.csv\"))\n",
    "daily_life_raw.head()"
   ]
  },
  {
   "cell_type": "code",
   "execution_count": 3,
   "metadata": {},
   "outputs": [
    {
     "name": "stdout",
     "output_type": "stream",
     "text": [
      "<class 'pandas.core.frame.DataFrame'>\n",
      "RangeIndex: 34020 entries, 0 to 34019\n",
      "Data columns (total 7 columns):\n",
      "CountryCode       34020 non-null object\n",
      "subset            34020 non-null object\n",
      "question_code     34020 non-null object\n",
      "question_label    34020 non-null object\n",
      "answer            34020 non-null object\n",
      "percentage        34020 non-null object\n",
      "notes             15296 non-null object\n",
      "dtypes: object(7)\n",
      "memory usage: 1.8+ MB\n"
     ]
    }
   ],
   "source": [
    "daily_life_raw.info()"
   ]
  },
  {
   "cell_type": "code",
   "execution_count": 4,
   "metadata": {},
   "outputs": [
    {
     "data": {
      "text/html": [
       "<div>\n",
       "<style scoped>\n",
       "    .dataframe tbody tr th:only-of-type {\n",
       "        vertical-align: middle;\n",
       "    }\n",
       "\n",
       "    .dataframe tbody tr th {\n",
       "        vertical-align: top;\n",
       "    }\n",
       "\n",
       "    .dataframe thead th {\n",
       "        text-align: right;\n",
       "    }\n",
       "</style>\n",
       "<table border=\"1\" class=\"dataframe\">\n",
       "  <thead>\n",
       "    <tr style=\"text-align: right;\">\n",
       "      <th></th>\n",
       "      <th>count</th>\n",
       "      <th>unique</th>\n",
       "      <th>top</th>\n",
       "      <th>freq</th>\n",
       "    </tr>\n",
       "  </thead>\n",
       "  <tbody>\n",
       "    <tr>\n",
       "      <td>CountryCode</td>\n",
       "      <td>34020</td>\n",
       "      <td>29</td>\n",
       "      <td>Poland</td>\n",
       "      <td>1184</td>\n",
       "    </tr>\n",
       "    <tr>\n",
       "      <td>subset</td>\n",
       "      <td>34020</td>\n",
       "      <td>5</td>\n",
       "      <td>Gay</td>\n",
       "      <td>7205</td>\n",
       "    </tr>\n",
       "    <tr>\n",
       "      <td>question_code</td>\n",
       "      <td>34020</td>\n",
       "      <td>52</td>\n",
       "      <td>g5</td>\n",
       "      <td>1412</td>\n",
       "    </tr>\n",
       "    <tr>\n",
       "      <td>question_label</td>\n",
       "      <td>34020</td>\n",
       "      <td>50</td>\n",
       "      <td>For each of the following types of discriminat...</td>\n",
       "      <td>1450</td>\n",
       "    </tr>\n",
       "    <tr>\n",
       "      <td>answer</td>\n",
       "      <td>34020</td>\n",
       "      <td>59</td>\n",
       "      <td>Don`t know</td>\n",
       "      <td>4545</td>\n",
       "    </tr>\n",
       "    <tr>\n",
       "      <td>percentage</td>\n",
       "      <td>34020</td>\n",
       "      <td>102</td>\n",
       "      <td>1</td>\n",
       "      <td>2310</td>\n",
       "    </tr>\n",
       "    <tr>\n",
       "      <td>notes</td>\n",
       "      <td>15296</td>\n",
       "      <td>2</td>\n",
       "      <td>[0]</td>\n",
       "      <td>13447</td>\n",
       "    </tr>\n",
       "  </tbody>\n",
       "</table>\n",
       "</div>"
      ],
      "text/plain": [
       "                count unique  \\\n",
       "CountryCode     34020     29   \n",
       "subset          34020      5   \n",
       "question_code   34020     52   \n",
       "question_label  34020     50   \n",
       "answer          34020     59   \n",
       "percentage      34020    102   \n",
       "notes           15296      2   \n",
       "\n",
       "                                                              top   freq  \n",
       "CountryCode                                                Poland   1184  \n",
       "subset                                                        Gay   7205  \n",
       "question_code                                                  g5   1412  \n",
       "question_label  For each of the following types of discriminat...   1450  \n",
       "answer                                                 Don`t know   4545  \n",
       "percentage                                                      1   2310  \n",
       "notes                                                         [0]  13447  "
      ]
     },
     "execution_count": 4,
     "metadata": {},
     "output_type": "execute_result"
    }
   ],
   "source": [
    "daily_life_raw.describe(include=\"all\").T"
   ]
  },
  {
   "cell_type": "code",
   "execution_count": 5,
   "metadata": {},
   "outputs": [
    {
     "name": "stdout",
     "output_type": "stream",
     "text": [
      "Question code b1_a:\n",
      "\n",
      "In your opinion, how widespread is offensive language about lesbian, gay, bisexual and/or transgender people by politicians in the country where you live?\n",
      "\n",
      "\n",
      "Question code b1_b:\n",
      "\n",
      "In your opinion, how widespread are casual jokes in everyday life about lesbian, gay, bisexual and/or transgender people in the country you live?\n",
      "\n",
      "\n",
      "Question code b1_c:\n",
      "\n",
      "In your opinion, how widespread are expressions of hatred and aversion towards lesbian, gay, bisexual and/or transgender in public in the country where you live?\n",
      "\n",
      "\n",
      "Question code b1_d:\n",
      "\n",
      "In your opinion, how widespread are assaults and harassment against lesbian, gay, bisexual and/or transgender people in the country where you live?\n",
      "\n",
      "\n",
      "Question code b1_e:\n",
      "\n",
      "In your opinion, how widespread is same-sex partners holding hands in public in the country where you live?\n",
      "\n",
      "\n",
      "Question code b1_f:\n",
      "\n",
      "In your opinion, how widespread is heterosexual partners holding hands in public in the country where you live?\n",
      "\n",
      "\n",
      "Question code b1_g:\n",
      "\n",
      "In your opinion, how widespread is public figures in politics, business, sports, etc being open about themselves being lesbian, gay, bisexual and/or transgender in the country where you live?\n",
      "\n",
      "\n",
      "Question code b1_h:\n",
      "\n",
      "In your opinion, how widespread are positive measures to promote respect for the human rights of lesbian, gay or bisexual people in the country where you live? *\n",
      "\n",
      "\n",
      "Question code b1_i:\n",
      "\n",
      "In your opinion, how widespread are positive measures to promote respect for the human rights of transgender people in the country where you live? *\n",
      "\n",
      "\n",
      "Question code b2_a:\n",
      "\n",
      "What would allow you to be more comfortable living as a lesbian, gay or bisexual person in the country where you live? Anti-discrimination policies referring to sexual orientation at the workplace?\n",
      "\n",
      "\n",
      "Question code b2_b:\n",
      "\n",
      "What would allow you to be more comfortable living as a lesbian, gay or bisexual person in the country where you live? Measures implemented at school to respect lesbian, gay and bisexual people?\n",
      "\n",
      "\n",
      "Question code b2_c:\n",
      "\n",
      "What would allow you to be more comfortable living as a lesbian, gay or bisexual person in the country where you live? Public figures in politics, business, sports, etc openly speaking in support of lesbian, gay and bisexual people?\n",
      "\n",
      "\n",
      "Question code b2_d:\n",
      "\n",
      "What would allow you to be more comfortable living as a lesbian, gay or bisexual person in the country where you live? National authorities who promote the rights of lesbian, gay and bisexual people?\n",
      "\n",
      "\n",
      "Question code b2_e:\n",
      "\n",
      "What would allow you to be more comfortable living as a lesbian, gay or bisexual person in the country where you live? Training of public servants (eg police, teachers) on the rights of lesbian, gay and bisexual people?\n",
      "\n",
      "\n",
      "Question code b2_f:\n",
      "\n",
      "What would allow you to be more comfortable living as a lesbian, gay or bisexual person in the country where you live? Better acceptance of differences in sexual orientations by religious leaders?\n",
      "\n",
      "\n",
      "Question code b2_g:\n",
      "\n",
      "What would allow you to be more comfortable living as a lesbian, gay or bisexual person in the country where you live? The possibility to marry and/or register a partnership?\n",
      "\n",
      "\n",
      "Question code b2_h:\n",
      "\n",
      "What would allow you to be more comfortable living as a lesbian, gay or bisexual person in the country where you live? The possibility to foster / adopt children?\n",
      "\n",
      "\n",
      "Question code b2_i:\n",
      "\n",
      "Recognition of same-sex partnerships across the European Union - What would allow you to be more comfortable living as a lesbian, gay or bisexual person in the country where you live?\n",
      "\n",
      "\n",
      "Question code c1a_a:\n",
      "\n",
      "In your opinion, in the country where you live, how widespread is discrimination because a person is Lesbian?\n",
      "\n",
      "\n",
      "Question code c1a_b:\n",
      "\n",
      "In your opinion, in the country where you live, how widespread is discrimination because a person is Gay?\n",
      "\n",
      "\n",
      "Question code c1a_c:\n",
      "\n",
      "In your opinion, in the country where you live, how widespread is discrimination because a person is Bisexual?\n",
      "\n",
      "\n",
      "Question code c1a_d:\n",
      "\n",
      "In your opinion, in the country where you live, how widespread is discrimination because a person is Transgender?\n",
      "\n",
      "\n",
      "Question code c1_b:\n",
      "\n",
      "For each of the following types of discrimination, could you please specify whether, in your opinion, it is very rare, fairly rare, fairly widespread or very widespread in the country where you live?\n",
      "\n",
      "\n",
      "Question code c1_c:\n",
      "\n",
      "For each of the following types of discrimination, could you please specify whether, in your opinion, it is very rare, fairly rare, fairly widespread or very widespread in the country where you live?\n",
      "\n",
      "\n",
      "Question code g1_a:\n",
      "\n",
      "Does your current partner know that you are L, G, B or T?\n",
      "\n",
      "\n",
      "Question code g2_a:\n",
      "\n",
      "In your opinion, how many people know that you are L, G, B or T? Family members (other than your partner(s))?\n",
      "\n",
      "\n",
      "Question code g2_b:\n",
      "\n",
      "In your opinion, how many people know that you are L, G, B or T? Friends?\n",
      "\n",
      "\n",
      "Question code g2_c:\n",
      "\n",
      "In your opinion, how many people know that you are L, G, B or T? Neighbours?\n",
      "\n",
      "\n",
      "Question code g2_d:\n",
      "\n",
      "In your opinion, how many people know that you are L, G, B or T? Work colleagues / schoolmates?\n",
      "\n",
      "\n",
      "Question code g3_a:\n",
      "\n",
      "To how many people among the following groups are you open about yourself being L, G, B or T? Family members (other than your partner(s))?\n",
      "\n",
      "\n",
      "Question code g3_b:\n",
      "\n",
      "To how many people among the following groups are you open about yourself being L, G, B or T ? Friends ?\n",
      "\n",
      "\n",
      "Question code g3_c:\n",
      "\n",
      "To how many people among the following groups are you open about yourself being L, G, B or T? Neighbours ?\n",
      "\n",
      "\n",
      "Question code g3_d:\n",
      "\n",
      "To how many people among the following groups are you open about yourself being L, G, B or T? Work colleagues / schoolmates?\n",
      "\n",
      "\n",
      "Question code g3_e:\n",
      "\n",
      "To how many people among the following groups are you open about yourself being L, G, B or T? Immediate superior/head of department\n",
      "\n",
      "\n",
      "Question code g3_f:\n",
      "\n",
      "To how many people among the following groups are you open about yourself being L, G, B or T? Customers, clients, etc at work?\n",
      "\n",
      "\n",
      "Question code g3_g:\n",
      "\n",
      "To how many people among the following groups are you open about yourself being L, G, B or T? Medical staff / health care providers?\n",
      "\n",
      "\n",
      "Question code g4_a:\n",
      "\n",
      "You have been treated with less courtesy than other people - In the last six months, in your day-to-day life, how often have any of the following things happened to you because you are or are assumed to be lesbian, gay, bisexual and/or transgender?\n",
      "\n",
      "\n",
      "Question code g4_b:\n",
      "\n",
      "You have been treated with less respect than other people - In the last six months, in your day-to-day life, how often have any of the following things happened to you because you are or are assumed to be lesbian, gay, bisexual and/or transgender?\n",
      "\n",
      "\n",
      "Question code g4_c:\n",
      "\n",
      "You have received poorer services than others (eg in restaurants, shops) - In the last six months, in your day-to-day life, how often have any of the following things happened to you because you are or are assumed to be L,G,B,T\n",
      "\n",
      "\n",
      "Question code g5:\n",
      "\n",
      "All things considered, how satisfied would you say you are with your life these days? *\n",
      "\n",
      "\n",
      "Question code h10:\n",
      "\n",
      "In terms of your civil status in the country where you live, are you *\n",
      "\n",
      "\n",
      "Question code h11:\n",
      "\n",
      "What best describes your current situation in the country where you live *\n",
      "\n",
      "\n",
      "Question code h14:\n",
      "\n",
      "Have you ever moved to an EU country (and also taken up local residence) together with your same-sex partner, since you married or registered your partnership?\n",
      "\n",
      "\n",
      "Question code h15:\n",
      "\n",
      "In the country where you have moved to (taken u p residence), have you or your partner been denied or restricted access to any benefits or services that would have been available for a different-sex spouse or partner because of you having a same-sex partner or spouse?\n",
      "\n",
      "\n",
      "Question code h16:\n",
      "\n",
      "In the country where you live, do you consider yourself to be part of any of the following? *\n",
      "\n",
      "\n",
      "Question code h9:\n",
      "\n",
      "Do any children (under the age of 18) live in your household?\n",
      "\n",
      "\n",
      "Question code h9_1:\n",
      "\n",
      "Are you a parent or legal guardian of a child (or children)?\n",
      "\n",
      "\n",
      "Question code h9_2:\n",
      "\n",
      "Is someone in the household a parent or legal guardian of a child (or children)?\n",
      "\n",
      "\n",
      "Question code i1:\n",
      "\n",
      "how did you come to know about this survey?\n",
      "\n",
      "\n",
      "Question code open_at_school:\n",
      "\n",
      "Have you been open about you being L, G, B or T? *\n",
      "\n",
      "\n",
      "Question code open_at_work:\n",
      "\n",
      "Have you been open about you being L, G, B or T? *\n",
      "\n",
      "\n",
      "Question code openness_cat4:\n",
      "\n",
      "4 levels of being open about LGBT background *\n",
      "\n",
      "\n"
     ]
    }
   ],
   "source": [
    "questions = (\n",
    "    daily_life_raw.loc[: , [\"question_code\", \"question_label\"]]\n",
    "    .drop_duplicates()\n",
    "    .set_index(\"question_code\")\n",
    "    .squeeze()\n",
    ")\n",
    "for idx, value in questions.items():\n",
    "    print(f\"Question code {idx}:\\n\\n{value}\\n\\n\")"
   ]
  },
  {
   "cell_type": "markdown",
   "metadata": {},
   "source": [
    "### Preprocesamiento de datos"
   ]
  },
  {
   "cell_type": "markdown",
   "metadata": {},
   "source": [
    "¿Te fijaste que la columna `percentage` no es numérica? Eso es por los registros con notes `[1]`, por lo que los eliminaremos."
   ]
  },
  {
   "cell_type": "code",
   "execution_count": 6,
   "metadata": {},
   "outputs": [
    {
     "data": {
      "text/plain": [
       "array([nan, '[0]', ' [1] '], dtype=object)"
      ]
     },
     "execution_count": 6,
     "metadata": {},
     "output_type": "execute_result"
    }
   ],
   "source": [
    "daily_life_raw.notes.unique()"
   ]
  },
  {
   "cell_type": "code",
   "execution_count": 7,
   "metadata": {},
   "outputs": [
    {
     "data": {
      "text/html": [
       "<div>\n",
       "<style scoped>\n",
       "    .dataframe tbody tr th:only-of-type {\n",
       "        vertical-align: middle;\n",
       "    }\n",
       "\n",
       "    .dataframe tbody tr th {\n",
       "        vertical-align: top;\n",
       "    }\n",
       "\n",
       "    .dataframe thead th {\n",
       "        text-align: right;\n",
       "    }\n",
       "</style>\n",
       "<table border=\"1\" class=\"dataframe\">\n",
       "  <thead>\n",
       "    <tr style=\"text-align: right;\">\n",
       "      <th></th>\n",
       "      <th>country</th>\n",
       "      <th>subset</th>\n",
       "      <th>question_code</th>\n",
       "      <th>answer</th>\n",
       "      <th>percentage</th>\n",
       "    </tr>\n",
       "  </thead>\n",
       "  <tbody>\n",
       "    <tr>\n",
       "      <td>0</td>\n",
       "      <td>Austria</td>\n",
       "      <td>Lesbian</td>\n",
       "      <td>b1_a</td>\n",
       "      <td>Very widespread</td>\n",
       "      <td>8</td>\n",
       "    </tr>\n",
       "    <tr>\n",
       "      <td>1</td>\n",
       "      <td>Austria</td>\n",
       "      <td>Lesbian</td>\n",
       "      <td>b1_a</td>\n",
       "      <td>Fairly widespread</td>\n",
       "      <td>34</td>\n",
       "    </tr>\n",
       "    <tr>\n",
       "      <td>2</td>\n",
       "      <td>Austria</td>\n",
       "      <td>Lesbian</td>\n",
       "      <td>b1_a</td>\n",
       "      <td>Fairly rare</td>\n",
       "      <td>45</td>\n",
       "    </tr>\n",
       "    <tr>\n",
       "      <td>3</td>\n",
       "      <td>Austria</td>\n",
       "      <td>Lesbian</td>\n",
       "      <td>b1_a</td>\n",
       "      <td>Very rare</td>\n",
       "      <td>9</td>\n",
       "    </tr>\n",
       "    <tr>\n",
       "      <td>4</td>\n",
       "      <td>Austria</td>\n",
       "      <td>Lesbian</td>\n",
       "      <td>b1_a</td>\n",
       "      <td>Don`t know</td>\n",
       "      <td>4</td>\n",
       "    </tr>\n",
       "  </tbody>\n",
       "</table>\n",
       "</div>"
      ],
      "text/plain": [
       "   country   subset question_code             answer  percentage\n",
       "0  Austria  Lesbian          b1_a    Very widespread           8\n",
       "1  Austria  Lesbian          b1_a  Fairly widespread          34\n",
       "2  Austria  Lesbian          b1_a        Fairly rare          45\n",
       "3  Austria  Lesbian          b1_a          Very rare           9\n",
       "4  Austria  Lesbian          b1_a         Don`t know           4"
      ]
     },
     "execution_count": 7,
     "metadata": {},
     "output_type": "execute_result"
    }
   ],
   "source": [
    "daily_life = (\n",
    "    daily_life_raw.query(\"notes != ' [1] '\")\n",
    "    .astype({\"percentage\": \"int\"})\n",
    "    .drop(columns=[\"question_label\", \"notes\"])\n",
    "    .rename(columns={\"CountryCode\": \"country\"})\n",
    ")\n",
    "daily_life.head()"
   ]
  },
  {
   "cell_type": "markdown",
   "metadata": {},
   "source": [
    "## Ejercicio 1  (1 pto)\n",
    "\n",
    "¿A qué tipo de dato (nominal, ordinal, discreto, continuo) corresponde cada columna del DataFrame `daily_life`?"
   ]
  },
  {
   "cell_type": "markdown",
   "metadata": {},
   "source": [
    "__Respuesta:__\n",
    "\n",
    "* `country`: Nominal\n",
    "* `subset`: Nominal\n",
    "* `question_code`: Nominal\n",
    "* `answer`: Ordinal\n",
    "* `percentage`: Discreta"
   ]
  },
  {
   "cell_type": "markdown",
   "metadata": {},
   "source": [
    "## Ejercicio 2  (1 pto)\n",
    "\n",
    "Crea un nuevo dataframe `df1` tal que sean solo registros de Bélgica, la pregunta con código `b1_b` y que hayan respondido _Very widespread_.\n",
    "\n",
    "Ahora, crea un gráfico de barras vertical con la función `bar` de `matplotlib`  para mostrar el porcentaje de respuestas por cada grupo. La figura debe ser de tamaño 10 x 6 y el color de las barras verde."
   ]
  },
  {
   "cell_type": "code",
   "execution_count": 23,
   "metadata": {},
   "outputs": [
    {
     "name": "stdout",
     "output_type": "stream",
     "text": [
      "Question b1_b:\n",
      "\n",
      "In your opinion, how widespread are casual jokes in everyday life about lesbian, gay, bisexual and/or transgender people in the country you live?\n"
     ]
    }
   ],
   "source": [
    "print(f\"Question b1_b:\\n\\n{questions['b1_b']}\")"
   ]
  },
  {
   "cell_type": "code",
   "execution_count": 47,
   "metadata": {},
   "outputs": [
    {
     "data": {
      "text/html": [
       "<div>\n",
       "<style scoped>\n",
       "    .dataframe tbody tr th:only-of-type {\n",
       "        vertical-align: middle;\n",
       "    }\n",
       "\n",
       "    .dataframe tbody tr th {\n",
       "        vertical-align: top;\n",
       "    }\n",
       "\n",
       "    .dataframe thead th {\n",
       "        text-align: right;\n",
       "    }\n",
       "</style>\n",
       "<table border=\"1\" class=\"dataframe\">\n",
       "  <thead>\n",
       "    <tr style=\"text-align: right;\">\n",
       "      <th></th>\n",
       "      <th>country</th>\n",
       "      <th>subset</th>\n",
       "      <th>question_code</th>\n",
       "      <th>answer</th>\n",
       "      <th>percentage</th>\n",
       "    </tr>\n",
       "  </thead>\n",
       "  <tbody>\n",
       "    <tr>\n",
       "      <td>750</td>\n",
       "      <td>Belgium</td>\n",
       "      <td>Lesbian</td>\n",
       "      <td>b1_b</td>\n",
       "      <td>Very widespread</td>\n",
       "      <td>29</td>\n",
       "    </tr>\n",
       "    <tr>\n",
       "      <td>755</td>\n",
       "      <td>Belgium</td>\n",
       "      <td>Gay</td>\n",
       "      <td>b1_b</td>\n",
       "      <td>Very widespread</td>\n",
       "      <td>17</td>\n",
       "    </tr>\n",
       "    <tr>\n",
       "      <td>760</td>\n",
       "      <td>Belgium</td>\n",
       "      <td>Bisexual women</td>\n",
       "      <td>b1_b</td>\n",
       "      <td>Very widespread</td>\n",
       "      <td>23</td>\n",
       "    </tr>\n",
       "    <tr>\n",
       "      <td>765</td>\n",
       "      <td>Belgium</td>\n",
       "      <td>Bisexual men</td>\n",
       "      <td>b1_b</td>\n",
       "      <td>Very widespread</td>\n",
       "      <td>21</td>\n",
       "    </tr>\n",
       "    <tr>\n",
       "      <td>770</td>\n",
       "      <td>Belgium</td>\n",
       "      <td>Transgender</td>\n",
       "      <td>b1_b</td>\n",
       "      <td>Very widespread</td>\n",
       "      <td>30</td>\n",
       "    </tr>\n",
       "  </tbody>\n",
       "</table>\n",
       "</div>"
      ],
      "text/plain": [
       "     country          subset question_code           answer  percentage\n",
       "750  Belgium         Lesbian          b1_b  Very widespread          29\n",
       "755  Belgium             Gay          b1_b  Very widespread          17\n",
       "760  Belgium  Bisexual women          b1_b  Very widespread          23\n",
       "765  Belgium    Bisexual men          b1_b  Very widespread          21\n",
       "770  Belgium     Transgender          b1_b  Very widespread          30"
      ]
     },
     "execution_count": 47,
     "metadata": {},
     "output_type": "execute_result"
    }
   ],
   "source": [
    "df1 = daily_life.query(\"country == 'Belgium' and question_code == 'b1_b' and answer == 'Very widespread'\")\n",
    "df1"
   ]
  },
  {
   "cell_type": "code",
   "execution_count": 48,
   "metadata": {},
   "outputs": [
    {
     "data": {
      "image/png": "[encoded data removed]",
      "text/plain": [
       "<Figure size 720x432 with 1 Axes>"
      ]
     },
     "metadata": {
      "needs_background": "light"
     },
     "output_type": "display_data"
    }
   ],
   "source": [
    "x = df1['subset']\n",
    "y = df1['percentage']\n",
    "\n",
    "fig = plt.figure(figsize=(10, 6))\n",
    "\n",
    "plt.bar(x,y,color='g')\n",
    "plt.show()"
   ]
  },
  {
   "cell_type": "markdown",
   "metadata": {},
   "source": [
    "## Ejercicio 3  (1 pto)\n"
   ]
  },
  {
   "cell_type": "markdown",
   "metadata": {},
   "source": [
    "Respecto a la pregunta con código `g5`, ¿Cuál es el porcentage promedio por cada valor de la respuesta (notar que la respuestas a las preguntas son numéricas)?"
   ]
  },
  {
   "cell_type": "code",
   "execution_count": 42,
   "metadata": {},
   "outputs": [
    {
     "name": "stdout",
     "output_type": "stream",
     "text": [
      "Question g5:\n",
      "\n",
      "All things considered, how satisfied would you say you are with your life these days? *\n"
     ]
    }
   ],
   "source": [
    "print(f\"Question g5:\\n\\n{questions['g5']}\")"
   ]
  },
  {
   "cell_type": "markdown",
   "metadata": {},
   "source": [
    "Crea un DataFrame llamado `df2` tal que:\n",
    "\n",
    "1. Solo sean registros con la pregunta con código `g5`\n",
    "2. Cambia el tipo de la columna `answer` a `int`.\n",
    "3. Agrupa por país y respuesta y calcula el promedio a la columna porcentaje (usa `agg`).\n",
    "4. Resetea los índices."
   ]
  },
  {
   "cell_type": "code",
   "execution_count": 51,
   "metadata": {},
   "outputs": [
    {
     "data": {
      "text/html": [
       "<div>\n",
       "<style scoped>\n",
       "    .dataframe tbody tr th:only-of-type {\n",
       "        vertical-align: middle;\n",
       "    }\n",
       "\n",
       "    .dataframe tbody tr th {\n",
       "        vertical-align: top;\n",
       "    }\n",
       "\n",
       "    .dataframe thead th {\n",
       "        text-align: right;\n",
       "    }\n",
       "</style>\n",
       "<table border=\"1\" class=\"dataframe\">\n",
       "  <thead>\n",
       "    <tr style=\"text-align: right;\">\n",
       "      <th></th>\n",
       "      <th>country</th>\n",
       "      <th>answer</th>\n",
       "      <th>percentage</th>\n",
       "    </tr>\n",
       "  </thead>\n",
       "  <tbody>\n",
       "    <tr>\n",
       "      <td>0</td>\n",
       "      <td>Austria</td>\n",
       "      <td>1</td>\n",
       "      <td>1.4</td>\n",
       "    </tr>\n",
       "    <tr>\n",
       "      <td>1</td>\n",
       "      <td>Austria</td>\n",
       "      <td>2</td>\n",
       "      <td>2.8</td>\n",
       "    </tr>\n",
       "    <tr>\n",
       "      <td>2</td>\n",
       "      <td>Austria</td>\n",
       "      <td>3</td>\n",
       "      <td>4.4</td>\n",
       "    </tr>\n",
       "    <tr>\n",
       "      <td>3</td>\n",
       "      <td>Austria</td>\n",
       "      <td>4</td>\n",
       "      <td>6.0</td>\n",
       "    </tr>\n",
       "    <tr>\n",
       "      <td>4</td>\n",
       "      <td>Austria</td>\n",
       "      <td>5</td>\n",
       "      <td>7.2</td>\n",
       "    </tr>\n",
       "    <tr>\n",
       "      <td>...</td>\n",
       "      <td>...</td>\n",
       "      <td>...</td>\n",
       "      <td>...</td>\n",
       "    </tr>\n",
       "    <tr>\n",
       "      <td>285</td>\n",
       "      <td>United Kingdom</td>\n",
       "      <td>6</td>\n",
       "      <td>12.2</td>\n",
       "    </tr>\n",
       "    <tr>\n",
       "      <td>286</td>\n",
       "      <td>United Kingdom</td>\n",
       "      <td>7</td>\n",
       "      <td>23.4</td>\n",
       "    </tr>\n",
       "    <tr>\n",
       "      <td>287</td>\n",
       "      <td>United Kingdom</td>\n",
       "      <td>8</td>\n",
       "      <td>23.4</td>\n",
       "    </tr>\n",
       "    <tr>\n",
       "      <td>288</td>\n",
       "      <td>United Kingdom</td>\n",
       "      <td>9</td>\n",
       "      <td>12.0</td>\n",
       "    </tr>\n",
       "    <tr>\n",
       "      <td>289</td>\n",
       "      <td>United Kingdom</td>\n",
       "      <td>10</td>\n",
       "      <td>5.8</td>\n",
       "    </tr>\n",
       "  </tbody>\n",
       "</table>\n",
       "<p>290 rows × 3 columns</p>\n",
       "</div>"
      ],
      "text/plain": [
       "            country  answer  percentage\n",
       "0           Austria       1         1.4\n",
       "1           Austria       2         2.8\n",
       "2           Austria       3         4.4\n",
       "3           Austria       4         6.0\n",
       "4           Austria       5         7.2\n",
       "..              ...     ...         ...\n",
       "285  United Kingdom       6        12.2\n",
       "286  United Kingdom       7        23.4\n",
       "287  United Kingdom       8        23.4\n",
       "288  United Kingdom       9        12.0\n",
       "289  United Kingdom      10         5.8\n",
       "\n",
       "[290 rows x 3 columns]"
      ]
     },
     "execution_count": 51,
     "metadata": {},
     "output_type": "execute_result"
    }
   ],
   "source": [
    "df2 = (\n",
    "    daily_life.query(\"question_code == 'g5'\")\n",
    "    .astype({\"answer\": 'int'})\n",
    "    .groupby([\"country\",\"answer\"])\n",
    "    .agg({'percentage':'mean'})\n",
    "    .reset_index()\n",
    ")\n",
    "df2"
   ]
  },
  {
   "cell_type": "markdown",
   "metadata": {},
   "source": [
    "Crea un DataFrame llamado `df2_mean` tal que:\n",
    "\n",
    "1. Agrupa `df2` por respuesta y calcula el promedio del porcentaje.\n",
    "2. Resetea los índices."
   ]
  },
  {
   "cell_type": "code",
   "execution_count": 61,
   "metadata": {},
   "outputs": [
    {
     "data": {
      "text/html": [
       "<div>\n",
       "<style scoped>\n",
       "    .dataframe tbody tr th:only-of-type {\n",
       "        vertical-align: middle;\n",
       "    }\n",
       "\n",
       "    .dataframe tbody tr th {\n",
       "        vertical-align: top;\n",
       "    }\n",
       "\n",
       "    .dataframe thead th {\n",
       "        text-align: right;\n",
       "    }\n",
       "</style>\n",
       "<table border=\"1\" class=\"dataframe\">\n",
       "  <thead>\n",
       "    <tr style=\"text-align: right;\">\n",
       "      <th></th>\n",
       "      <th>answer</th>\n",
       "      <th>percentage</th>\n",
       "    </tr>\n",
       "  </thead>\n",
       "  <tbody>\n",
       "    <tr>\n",
       "      <td>0</td>\n",
       "      <td>1</td>\n",
       "      <td>3.239080</td>\n",
       "    </tr>\n",
       "    <tr>\n",
       "      <td>1</td>\n",
       "      <td>2</td>\n",
       "      <td>3.453448</td>\n",
       "    </tr>\n",
       "    <tr>\n",
       "      <td>2</td>\n",
       "      <td>3</td>\n",
       "      <td>6.440230</td>\n",
       "    </tr>\n",
       "    <tr>\n",
       "      <td>3</td>\n",
       "      <td>4</td>\n",
       "      <td>7.355172</td>\n",
       "    </tr>\n",
       "    <tr>\n",
       "      <td>4</td>\n",
       "      <td>5</td>\n",
       "      <td>10.317816</td>\n",
       "    </tr>\n",
       "  </tbody>\n",
       "</table>\n",
       "</div>"
      ],
      "text/plain": [
       "   answer  percentage\n",
       "0       1    3.239080\n",
       "1       2    3.453448\n",
       "2       3    6.440230\n",
       "3       4    7.355172\n",
       "4       5   10.317816"
      ]
     },
     "execution_count": 61,
     "metadata": {},
     "output_type": "execute_result"
    }
   ],
   "source": [
    "df2_mean = df2.groupby(\"answer\").mean().reset_index()\n",
    "df2_mean.head()"
   ]
  },
  {
   "cell_type": "markdown",
   "metadata": {},
   "source": [
    "Ahora, grafica lo siguiente:\n",
    "\n",
    "1. Una figura con dos columnas, tamaño de figura 15 x 12 y que compartan eje x y eje y. Usar `plt.subplots`.\n",
    "2. Para el primer _Axe_ (`ax1`), haz un _scatter plot_ tal que el eje x sea los valores de respuestas de `df2`, y el eye y corresponda a los porcentajes de `df2`. Recuerda que en este caso corresponde a promedios por país, por lo que habrán más de 10 puntos en el gráfico..\n",
    "3. Para el segundo _Axe_ (`ax2`), haz un gráfico de barras horizontal tal que el eje x sea los valores de respuestas de `df2_mean`, y el eye y corresponda a los porcentajes de `df2_mean`. "
   ]
  },
  {
   "cell_type": "code",
   "execution_count": 74,
   "metadata": {},
   "outputs": [
    {
     "name": "stderr",
     "output_type": "stream",
     "text": [
      "/Users/IkeMercado/miniconda3/envs/mat281/lib/python3.7/site-packages/ipykernel_launcher.py:20: UserWarning: Matplotlib is currently using module://ipykernel.pylab.backend_inline, which is a non-GUI backend, so cannot show the figure.\n"
     ]
    },
    {
     "data": {
      "image/png": "[encoded data removed]",
      "text/plain": [
       "<Figure size 1080x864 with 2 Axes>"
      ]
     },
     "metadata": {
      "needs_background": "light"
     },
     "output_type": "display_data"
    }
   ],
   "source": [
    "x = df2[\"answer\"]\n",
    "y = df2[\"percentage\"]\n",
    "\n",
    "x_mean = df2_mean[\"answer\"]\n",
    "y_mean = df2_mean[\"percentage\"]\n",
    "\n",
    "#Se cambia nrows por ncols para que el grafico quede en columnas\n",
    "fig, (ax1, ax2) = plt.subplots(ncols=2, figsize=(15, 12), sharex=True, sharey=True)\n",
    "\n",
    "ax1.scatter(x, y,marker='o')\n",
    "ax1.grid(alpha=0.3)\n",
    "ax1.set_xlabel('Respuestas g5')\n",
    "ax1.set_ylabel('Porcentajes')\n",
    "\n",
    "ax2.bar(x_mean, y_mean)\n",
    "ax2.grid(alpha=0.3)\n",
    "ax2.set_xlabel('Respuestas g5')\n",
    "ax2.set_ylabel('Promedio de porcentajes')\n",
    "\n",
    "fig.show()"
   ]
  },
  {
   "cell_type": "markdown",
   "metadata": {},
   "source": [
    "## Ejercicio 4  (1 pto)"
   ]
  },
  {
   "cell_type": "markdown",
   "metadata": {},
   "source": [
    "Respecto a la misma pregunta `g5`, cómo se distribuyen los porcentajes en promedio para cada país - grupo?\n",
    "\n",
    "Utilizaremos el mapa de calor presentado en la clase, para ello es necesario procesar un poco los datos para conformar los elementos que se necesitan.\n",
    "\n",
    "Crea un DataFrame llamado `df3` tal que:\n",
    "\n",
    "1. Solo sean registros con la pregunta con código `g5`\n",
    "2. Cambia el tipo de la columna `answer` a `int`.\n",
    "3. Agrupa por país y subset, luego calcula el promedio a la columna porcentaje (usa `agg`).\n",
    "4. Resetea los índices.\n",
    "5. Pivotea tal que los índices sean los países, las columnas los grupos y los valores el promedio de porcentajes.\n",
    "6. Llena los valores nulos con cero. Usa `fillna`."
   ]
  },
  {
   "cell_type": "code",
   "execution_count": 80,
   "metadata": {},
   "outputs": [],
   "source": [
    "from mpl_heatmap import heatmap, annotate_heatmap"
   ]
  },
  {
   "cell_type": "code",
   "execution_count": 81,
   "metadata": {},
   "outputs": [
    {
     "data": {
      "text/html": [
       "<div>\n",
       "<style scoped>\n",
       "    .dataframe tbody tr th:only-of-type {\n",
       "        vertical-align: middle;\n",
       "    }\n",
       "\n",
       "    .dataframe tbody tr th {\n",
       "        vertical-align: top;\n",
       "    }\n",
       "\n",
       "    .dataframe thead th {\n",
       "        text-align: right;\n",
       "    }\n",
       "</style>\n",
       "<table border=\"1\" class=\"dataframe\">\n",
       "  <thead>\n",
       "    <tr style=\"text-align: right;\">\n",
       "      <th>subset</th>\n",
       "      <th>Bisexual men</th>\n",
       "      <th>Bisexual women</th>\n",
       "      <th>Gay</th>\n",
       "      <th>Lesbian</th>\n",
       "      <th>Transgender</th>\n",
       "    </tr>\n",
       "    <tr>\n",
       "      <th>country</th>\n",
       "      <th></th>\n",
       "      <th></th>\n",
       "      <th></th>\n",
       "      <th></th>\n",
       "      <th></th>\n",
       "    </tr>\n",
       "  </thead>\n",
       "  <tbody>\n",
       "    <tr>\n",
       "      <td>Austria</td>\n",
       "      <td>10.0</td>\n",
       "      <td>9.900000</td>\n",
       "      <td>9.9</td>\n",
       "      <td>9.8</td>\n",
       "      <td>10.1</td>\n",
       "    </tr>\n",
       "    <tr>\n",
       "      <td>Average</td>\n",
       "      <td>10.0</td>\n",
       "      <td>10.000000</td>\n",
       "      <td>10.0</td>\n",
       "      <td>9.9</td>\n",
       "      <td>10.0</td>\n",
       "    </tr>\n",
       "    <tr>\n",
       "      <td>Belgium</td>\n",
       "      <td>10.0</td>\n",
       "      <td>11.222222</td>\n",
       "      <td>10.0</td>\n",
       "      <td>10.1</td>\n",
       "      <td>10.0</td>\n",
       "    </tr>\n",
       "    <tr>\n",
       "      <td>Bulgaria</td>\n",
       "      <td>10.0</td>\n",
       "      <td>10.000000</td>\n",
       "      <td>10.1</td>\n",
       "      <td>10.1</td>\n",
       "      <td>10.2</td>\n",
       "    </tr>\n",
       "    <tr>\n",
       "      <td>Croatia</td>\n",
       "      <td>10.1</td>\n",
       "      <td>10.100000</td>\n",
       "      <td>10.0</td>\n",
       "      <td>10.0</td>\n",
       "      <td>9.8</td>\n",
       "    </tr>\n",
       "  </tbody>\n",
       "</table>\n",
       "</div>"
      ],
      "text/plain": [
       "subset    Bisexual men  Bisexual women   Gay  Lesbian  Transgender\n",
       "country                                                           \n",
       "Austria           10.0        9.900000   9.9      9.8         10.1\n",
       "Average           10.0       10.000000  10.0      9.9         10.0\n",
       "Belgium           10.0       11.222222  10.0     10.1         10.0\n",
       "Bulgaria          10.0       10.000000  10.1     10.1         10.2\n",
       "Croatia           10.1       10.100000  10.0     10.0          9.8"
      ]
     },
     "execution_count": 81,
     "metadata": {},
     "output_type": "execute_result"
    }
   ],
   "source": [
    "df3 = (\n",
    "    daily_life.query(\"question_code == 'g5'\")\n",
    "    .astype({\"answer\":'int'})\n",
    "    .groupby([\"country\",\"subset\"])\n",
    "    .agg({'percentage':'mean'})\n",
    "    .reset_index()\n",
    "    .pivot(index=\"country\", columns=\"subset\", values='percentage')\n",
    "    .fillna(0)\n",
    ")\n",
    "df3.head()"
   ]
  },
  {
   "cell_type": "markdown",
   "metadata": {},
   "source": [
    "Finalmente, los ingredientes para el heat map son:"
   ]
  },
  {
   "cell_type": "code",
   "execution_count": 82,
   "metadata": {},
   "outputs": [],
   "source": [
    "countries = df3.index.tolist()\n",
    "subsets = df3.columns.tolist()\n",
    "answers = df3.values"
   ]
  },
  {
   "cell_type": "markdown",
   "metadata": {},
   "source": [
    "El mapa de calor debe ser de la siguiente manera:\n",
    "\n",
    "* Tamaño figura: 15 x 20\n",
    "* cmap = \"YlGn\"\n",
    "* cbarlabel = \"Porcentaje promedio (%)\"\n",
    "* Precición en las anotaciones: Flotante con dos decimales."
   ]
  },
  {
   "cell_type": "code",
   "execution_count": 83,
   "metadata": {},
   "outputs": [
    {
     "data": {
      "image/png": "[encoded data removed]",
      "text/plain": [
       "<Figure size 1080x1440 with 2 Axes>"
      ]
     },
     "metadata": {
      "needs_background": "light"
     },
     "output_type": "display_data"
    }
   ],
   "source": [
    "fig, ax = plt.subplots(figsize=(15, 20))\n",
    "\n",
    "im, cbar = heatmap(answers, countries, subsets , ax=ax,\n",
    "                   cmap=\"YlGn\", cbarlabel=\"Porcentaje promedio (%)\")\n",
    "texts = annotate_heatmap(im, valfmt=\"{x:.2f}\")\n",
    "\n",
    "fig.tight_layout()\n",
    "plt.show()"
   ]
  },
  {
   "cell_type": "code",
   "execution_count": null,
   "metadata": {},
   "outputs": [],
   "source": []
  }
 ],
 "metadata": {
  "celltoolbar": "Slideshow",
  "kernelspec": {
   "display_name": "Python 3",
   "language": "python",
   "name": "python3"
  },
  "language_info": {
   "codemirror_mode": {
    "name": "ipython",
    "version": 3
   },
   "file_extension": ".py",
   "mimetype": "text/x-python",
   "name": "python",
   "nbconvert_exporter": "python",
   "pygments_lexer": "ipython3",
   "version": "3.7.3"
  }
 },
 "nbformat": 4,
 "nbformat_minor": 4
}
